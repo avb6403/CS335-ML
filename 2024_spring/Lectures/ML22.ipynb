{
  "cells": [
    {
      "cell_type": "markdown",
      "metadata": {
        "id": "gRbe8Kcr8GWN"
      },
      "source": [
        "#**Introduction to PyTorch: Automatic Differentiation**"
      ]
    },
    {
      "cell_type": "code",
      "execution_count": 22,
      "metadata": {
        "id": "qFUAFYyiYnX4"
      },
      "outputs": [],
      "source": [
        "import numpy as np\n",
        "import torch\n",
        "import sklearn.datasets\n",
        "import matplotlib.pyplot as plt\n",
        "from IPython.display import clear_output\n",
        "#%matplotlib inline\n"
      ]
    },
    {
      "cell_type": "code",
      "execution_count": 23,
      "metadata": {},
      "outputs": [
        {
          "data": {
            "text/plain": [
              "True"
            ]
          },
          "execution_count": 23,
          "metadata": {},
          "output_type": "execute_result"
        }
      ],
      "source": [
        "torch.cuda.is_available()"
      ]
    },
    {
      "cell_type": "code",
      "execution_count": 24,
      "metadata": {
        "colab": {
          "base_uri": "https://localhost:8080/"
        },
        "id": "kHyc1g0M-qPe",
        "outputId": "bfc6fa11-51e1-4b97-85d2-26377b920c66"
      },
      "outputs": [
        {
          "data": {
            "text/plain": [
              "torch.int32"
            ]
          },
          "execution_count": 24,
          "metadata": {},
          "output_type": "execute_result"
        }
      ],
      "source": [
        "# Create tensors\n",
        "a = torch.tensor(5, dtype = torch.long)\n",
        "b = torch.tensor(5, dtype = torch.int32)\n",
        "b.dtype"
      ]
    },
    {
      "cell_type": "markdown",
      "metadata": {
        "id": "iYmts6eMCjzN"
      },
      "source": [
        "Comparison with numpy:\n",
        "https://github.com/torch/torch7/wiki/Torch-for-Numpy-users"
      ]
    },
    {
      "cell_type": "code",
      "execution_count": 25,
      "metadata": {
        "colab": {
          "base_uri": "https://localhost:8080/"
        },
        "id": "spLLH87sIboL",
        "outputId": "e590eba8-bee0-476d-c47e-ba650f4e688c"
      },
      "outputs": [
        {
          "name": "stdout",
          "output_type": "stream",
          "text": [
            "tensor([1., 1., 1., 1., 1., 1.]) torch.float32\n"
          ]
        }
      ],
      "source": [
        "c = torch.ones(6)\n",
        "print(c, c.dtype)"
      ]
    },
    {
      "cell_type": "code",
      "execution_count": 26,
      "metadata": {
        "colab": {
          "base_uri": "https://localhost:8080/"
        },
        "id": "k7TD7pTyLhx4",
        "outputId": "92ba9004-8981-4f78-d1c1-1d3699f0f686"
      },
      "outputs": [
        {
          "data": {
            "text/plain": [
              "torch.Size([6])"
            ]
          },
          "execution_count": 26,
          "metadata": {},
          "output_type": "execute_result"
        }
      ],
      "source": [
        "# Shape\n",
        "c.size() #x.shape"
      ]
    },
    {
      "cell_type": "code",
      "execution_count": 27,
      "metadata": {
        "colab": {
          "base_uri": "https://localhost:8080/"
        },
        "id": "fOhZ8j7NImGR",
        "outputId": "8ed6d838-0d90-463e-bc51-ba1018678fe2"
      },
      "outputs": [
        {
          "name": "stdout",
          "output_type": "stream",
          "text": [
            "tensor([2., 2., 2., 2., 2., 2.])\n"
          ]
        }
      ],
      "source": [
        "# Broadcasting\n",
        "d = c + 1\n",
        "print(d)"
      ]
    },
    {
      "cell_type": "code",
      "execution_count": 28,
      "metadata": {
        "colab": {
          "base_uri": "https://localhost:8080/"
        },
        "id": "rVDo0fFREEfX",
        "outputId": "7445265f-4faa-4092-86cf-33be1f2b838a"
      },
      "outputs": [
        {
          "data": {
            "text/plain": [
              "torch.int32"
            ]
          },
          "execution_count": 28,
          "metadata": {},
          "output_type": "execute_result"
        }
      ],
      "source": [
        "# Change type\n",
        "b.float() #b.to(torch.float)\n",
        "b.dtype"
      ]
    },
    {
      "cell_type": "code",
      "execution_count": 29,
      "metadata": {
        "colab": {
          "base_uri": "https://localhost:8080/"
        },
        "id": "UQ3LsvLjFOxZ",
        "outputId": "aef9ac02-52be-4c80-8cb6-2f40c525ef30"
      },
      "outputs": [
        {
          "data": {
            "text/plain": [
              "tensor([[1., 1., 1.],\n",
              "        [1., 1., 1.]])"
            ]
          },
          "execution_count": 29,
          "metadata": {},
          "output_type": "execute_result"
        }
      ],
      "source": [
        "# Reshape tensors\n",
        "c.view(2,3)"
      ]
    },
    {
      "cell_type": "code",
      "execution_count": 30,
      "metadata": {
        "colab": {
          "base_uri": "https://localhost:8080/"
        },
        "id": "43qSMP_JGS1s",
        "outputId": "6da64759-73c3-4cdc-96f1-50d9513445ff"
      },
      "outputs": [
        {
          "data": {
            "text/plain": [
              "torch.Size([1, 6])"
            ]
          },
          "execution_count": 30,
          "metadata": {},
          "output_type": "execute_result"
        }
      ],
      "source": [
        "# Squeeze/Unsqueeze\n",
        "c.unsqueeze(dim=0).shape"
      ]
    },
    {
      "cell_type": "code",
      "execution_count": 31,
      "metadata": {
        "id": "8NyOgp8SFS9z"
      },
      "outputs": [],
      "source": [
        "# Dot product VS matrix multiplication"
      ]
    },
    {
      "cell_type": "code",
      "execution_count": 32,
      "metadata": {
        "colab": {
          "base_uri": "https://localhost:8080/"
        },
        "id": "ZqTkukyHY_Xe",
        "outputId": "a927bd82-5e5a-4150-81fc-6b026a52e730"
      },
      "outputs": [
        {
          "data": {
            "text/plain": [
              "tensor(12.)"
            ]
          },
          "execution_count": 32,
          "metadata": {},
          "output_type": "execute_result"
        }
      ],
      "source": [
        "d.dot(c) #torch.matmul(d.T,c)"
      ]
    },
    {
      "cell_type": "markdown",
      "metadata": {
        "id": "Id9lu0peFpZt"
      },
      "source": [
        "###In-place operations\n",
        "\n",
        "The memory must be used efficiently when working with large tensors. Some operations create new object as the result of computations, others just change given object (in-place operations). In pytorch, these operations usually differ by adding an underscore:\n",
        "\n",
        "`x.exp()   # not-in-place operation`\n",
        "\n",
        "`x.exp_()  # in-place operation`\n",
        "\n"
      ]
    },
    {
      "cell_type": "markdown",
      "metadata": {
        "id": "xI7lcI40HnLO"
      },
      "source": [
        "## Automatic Differentiation\n",
        "tensor.data, tensor.grad, tensor.grad_fn\n",
        "## Detaching variables\n",
        "\n",
        "`.detach()` returns a copy of a variable, through which backpropagation doesn't pass. If you average or just store batch losses during the optimization, you'd better detach those losses before averaging or storing. Otherwise the computational graphs for each batch would be stored in memory as well as batch losses, so you run out of memory very fast.\n",
        "\n",
        "Also there is in-place version (`.detach_()`) which doesn't create detached copy of the variable, but detach variable itself from its computational graph."
      ]
    },
    {
      "cell_type": "code",
      "execution_count": 33,
      "metadata": {
        "colab": {
          "base_uri": "https://localhost:8080/"
        },
        "id": "ccvARo18HmFW",
        "outputId": "e2c92e31-6aeb-4e4f-975b-684badf0d666"
      },
      "outputs": [],
      "source": [
        "a = torch.rand(1, requires_grad=True)\n",
        "b = torch.sin(a)"
      ]
    },
    {
      "cell_type": "markdown",
      "metadata": {
        "id": "VNi4wxsEmWpz"
      },
      "source": [
        "Use method tensor.backward() for b and print the derivative of b with respect to a (a.grad)."
      ]
    },
    {
      "cell_type": "code",
      "execution_count": 34,
      "metadata": {
        "colab": {
          "base_uri": "https://localhost:8080/"
        },
        "id": "b8X73_H7mW7_",
        "outputId": "24c23d27-b64f-4cd9-bb0d-01628479345d"
      },
      "outputs": [
        {
          "name": "stdout",
          "output_type": "stream",
          "text": [
            "tensor([0.6096]) tensor([0.6096])\n"
          ]
        }
      ],
      "source": [
        "b.backward()\n",
        "print(a.grad, torch.cos(a.data))"
      ]
    },
    {
      "cell_type": "code",
      "execution_count": 35,
      "metadata": {
        "id": "zkcjo9z5H1_-"
      },
      "outputs": [
        {
          "name": "stdout",
          "output_type": "stream",
          "text": [
            "x: tensor([ 0.4159,  0.8396, -0.8265, -0.7949])\n",
            "y: tensor([-0.9528,  0.3717,  0.4087,  1.4214])\n",
            "dp / dx: tensor([-0.9528,  0.3717,  0.4087,  1.4214])\n",
            "dp / dy: None\n"
          ]
        }
      ],
      "source": [
        "x = torch.randn(4, requires_grad=True)\n",
        "y0 = torch.randn(4, requires_grad=True)\n",
        "y = y0.detach()\n",
        "z = x * y + 10\n",
        "p = z.sum()\n",
        "p.backward()\n",
        "print('x:', x.data)\n",
        "print('y:', y.data)\n",
        "print('dp / dx:', x.grad)\n",
        "print('dp / dy:', y.grad)"
      ]
    },
    {
      "cell_type": "markdown",
      "metadata": {
        "id": "qPg0PpEWIEPo"
      },
      "source": [
        "##Gradient reset"
      ]
    },
    {
      "cell_type": "code",
      "execution_count": 36,
      "metadata": {
        "id": "Hm3nBbPGIIUd"
      },
      "outputs": [
        {
          "name": "stdout",
          "output_type": "stream",
          "text": [
            "x: tensor([1., 1., 1., 1.], requires_grad=True)\n",
            "dp / dx: tensor([2., 2., 2., 2.])\n",
            "x: tensor([1., 1., 1., 1.], requires_grad=True)\n",
            "dp / dx: tensor([-1., -1., -1., -1.])\n"
          ]
        }
      ],
      "source": [
        "x = torch.tensor([1, 1, 1, 1.], requires_grad=True)\n",
        "y = x ** 2\n",
        "p = y.sum()\n",
        "p.backward()\n",
        "print('x:', x)\n",
        "print('dp / dx:', x.grad)\n",
        "x.grad.detach_()       # extracting gradient Variable from the previous computational graph (optional)\n",
        "x.grad.zero_()         # zero gradinents\n",
        "y = 1 / x\n",
        "p = y.sum()\n",
        "p.backward()\n",
        "print('x:', x)\n",
        "print('dp / dx:', x.grad)"
      ]
    },
    {
      "cell_type": "markdown",
      "metadata": {
        "id": "MAU6pqqmIU0J"
      },
      "source": [
        "##Leaf vs Non-leaf Variable"
      ]
    },
    {
      "cell_type": "code",
      "execution_count": 37,
      "metadata": {
        "id": "og5CoaMrIWN0"
      },
      "outputs": [
        {
          "name": "stdout",
          "output_type": "stream",
          "text": [
            "x: tensor([ 0.1494, -0.6709, -0.2142, -0.4320], requires_grad=True)\n",
            "y: tensor([1.1494, 0.3291, 0.7858, 0.5680], grad_fn=<AddBackward0>)\n",
            "p: tensor(2.8324, grad_fn=<SumBackward0>)\n",
            "x.grad: tensor([1., 1., 1., 1.])\n",
            "y.grad: None\n",
            "p.grad: None\n"
          ]
        },
        {
          "name": "stderr",
          "output_type": "stream",
          "text": [
            "/tmp/ipykernel_9928/1741173843.py:9: UserWarning: The .grad attribute of a Tensor that is not a leaf Tensor is being accessed. Its .grad attribute won't be populated during autograd.backward(). If you indeed want the .grad field to be populated for a non-leaf Tensor, use .retain_grad() on the non-leaf Tensor. If you access the non-leaf Tensor by mistake, make sure you access the leaf Tensor instead. See github.com/pytorch/pytorch/pull/30531 for more informations. (Triggered internally at aten/src/ATen/core/TensorBody.h:489.)\n",
            "  print('y.grad:', y.grad)\n",
            "/tmp/ipykernel_9928/1741173843.py:10: UserWarning: The .grad attribute of a Tensor that is not a leaf Tensor is being accessed. Its .grad attribute won't be populated during autograd.backward(). If you indeed want the .grad field to be populated for a non-leaf Tensor, use .retain_grad() on the non-leaf Tensor. If you access the non-leaf Tensor by mistake, make sure you access the leaf Tensor instead. See github.com/pytorch/pytorch/pull/30531 for more informations. (Triggered internally at aten/src/ATen/core/TensorBody.h:489.)\n",
            "  print('p.grad:', p.grad)\n"
          ]
        }
      ],
      "source": [
        "x = torch.randn(4, requires_grad=True)  # leaf variable\n",
        "y = x + 1                               # not a leaf variable\n",
        "p = y.sum()                             # not a leaf variable\n",
        "p.backward()\n",
        "print('x:', x)\n",
        "print('y:', y)\n",
        "print('p:', p)\n",
        "print('x.grad:', x.grad)\n",
        "print('y.grad:', y.grad)\n",
        "print('p.grad:', p.grad)"
      ]
    },
    {
      "cell_type": "markdown",
      "metadata": {
        "id": "BY1CXo_rIjNN"
      },
      "source": [
        "##Gradients for non-leaf variables"
      ]
    },
    {
      "cell_type": "code",
      "execution_count": 38,
      "metadata": {
        "id": "oQ8AK5u2Ikr6"
      },
      "outputs": [
        {
          "name": "stdout",
          "output_type": "stream",
          "text": [
            "dp / dx: tensor([-1.3718, -3.0103,  0.5100,  3.6085])\n",
            "dp / dz: tensor([-1.4158, -0.2129, -2.4855, -0.9525])\n",
            "dp / dw: tensor([-0.7079, -0.1064, -1.2427, -0.4762])\n"
          ]
        }
      ],
      "source": [
        "x = torch.randn(4, requires_grad=True)   # leaf variable\n",
        "z = torch.randn(4, requires_grad=True)   # leaf variable\n",
        "w = z * 2      # not a leaf variable\n",
        "y = x * w + 1  # forward pass before retaining gradient is ok\n",
        "p = y.sum()\n",
        "\n",
        "w.retain_grad()\n",
        "\n",
        "p.backward()\n",
        "print('dp / dx:', x.grad)\n",
        "print('dp / dz:', z.grad)\n",
        "print('dp / dw:', w.grad)"
      ]
    },
    {
      "cell_type": "markdown",
      "metadata": {
        "id": "wyqHVvv7nCw4"
      },
      "source": [
        "## In this section, we use atomatic differentiation for the Gradient Descend"
      ]
    },
    {
      "cell_type": "code",
      "execution_count": 39,
      "metadata": {
        "id": "OmyTS55GJrWr"
      },
      "outputs": [],
      "source": [
        "torch.manual_seed(0)\n",
        "x = torch.linspace(1, 5, 20)\n",
        "y = 2*x + 1 + 5*torch.rand(len(x))"
      ]
    },
    {
      "cell_type": "code",
      "execution_count": 40,
      "metadata": {
        "colab": {
          "base_uri": "https://localhost:8080/",
          "height": 448
        },
        "id": "HVDoWuQRKKmE",
        "outputId": "066c56dd-3d5b-44e3-da0b-3feb47de6219"
      },
      "outputs": [
        {
          "data": {
            "text/plain": [
              "<matplotlib.collections.PathCollection at 0x70419aff7c10>"
            ]
          },
          "execution_count": 40,
          "metadata": {},
          "output_type": "execute_result"
        },
        {
          "data": {
            "image/png": "[encoded data removed]",
            "text/plain": [
              "<Figure size 640x480 with 1 Axes>"
            ]
          },
          "metadata": {},
          "output_type": "display_data"
        }
      ],
      "source": [
        "plt.scatter(x,y)"
      ]
    },
    {
      "cell_type": "markdown",
      "metadata": {
        "id": "I3MwUe-yiaEO"
      },
      "source": [
        "### Q1 (1 pt).   Initialize the weights and bais with gradients (see example with `sin(a)`)."
      ]
    },
    {
      "cell_type": "code",
      "execution_count": 48,
      "metadata": {
        "id": "d8ptu7DYiUiY"
      },
      "outputs": [],
      "source": [
        "w = torch.rand(1, requires_grad=True)\n",
        "b = b = torch.rand(1, requires_grad=True)"
      ]
    },
    {
      "cell_type": "markdown",
      "metadata": {
        "id": "LhRDzO-8jZsS"
      },
      "source": [
        "### Q2 (2pt). Write the gradient descent using automated calculation of the gradients of `w` and `b`."
      ]
    },
    {
      "cell_type": "code",
      "execution_count": 49,
      "metadata": {
        "id": "PYepGweZiUyE"
      },
      "outputs": [
        {
          "data": {
            "image/png": "[encoded data removed]",
            "text/plain": [
              "<Figure size 1000x800 with 1 Axes>"
            ]
          },
          "metadata": {},
          "output_type": "display_data"
        }
      ],
      "source": [
        "alpha = 0.001 #learning rate\n",
        "for i in range(100):   #number of epochs\n",
        "  #if the gradients are non empty, zero them:\n",
        "  if w.grad is not None:\n",
        "    w.grad.zero_()\n",
        "    b.grad.zero_()\n",
        "\n",
        "  # calculate prediction y_p = w*x+b:\n",
        "  y_p = w*x+b\n",
        "\n",
        "  # calculate loss mean((y_p-y)**2):\n",
        "  loss = torch.mean((y_p-y)**2)\n",
        "\n",
        "  # run loss.backward() to calculate the derivatives\n",
        "  loss.backward()\n",
        "\n",
        "  # with torch.no_grad():\n",
        "  #   w = w- alpha*w.grad\n",
        "  #   b = b- alpha*b.grad\n",
        "\n",
        "  # update the values of w and b, using learning rate alpha and gradients\n",
        "  # another solution\n",
        "  w.data = w.data  - alpha * w.grad\n",
        "  b.data = b.data  - alpha * b.grad\n",
        "\n",
        "  #visualisation:\n",
        "  if (i + 1) % 5 == 0:\n",
        "    clear_output(True)\n",
        "    plt.figure(figsize=(10,8))\n",
        "    plt.scatter(x, y, label=\"data\")\n",
        "    plt.scatter(x, y_p.data.numpy(), color=\"orange\", linewidth=5, label=\"predictions\")\n",
        "    plt.xlabel(\"x\", fontsize=14)\n",
        "    plt.ylabel(\"y\", fontsize=14)\n",
        "    plt.title(\"Example\", fontsize=18)\n",
        "    plt.legend(fontsize=14)\n",
        "    plt.show()"
      ]
    },
    {
      "cell_type": "code",
      "execution_count": null,
      "metadata": {
        "id": "0BiSX3mzhyvu"
      },
      "outputs": [],
      "source": []
    }
  ],
  "metadata": {
    "colab": {
      "provenance": []
    },
    "kernelspec": {
      "display_name": "Python 3",
      "name": "python3"
    },
    "language_info": {
      "codemirror_mode": {
        "name": "ipython",
        "version": 3
      },
      "file_extension": ".py",
      "mimetype": "text/x-python",
      "name": "python",
      "nbconvert_exporter": "python",
      "pygments_lexer": "ipython3",
      "version": "3.10.12"
    }
  },
  "nbformat": 4,
  "nbformat_minor": 0
}
