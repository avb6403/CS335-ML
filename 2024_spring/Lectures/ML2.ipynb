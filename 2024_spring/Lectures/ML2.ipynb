{
  "cells": [
    {
      "cell_type": "markdown",
      "id": "cac7c3a3",
      "metadata": {
        "id": "cac7c3a3"
      },
      "source": [
        "# ML 2: NumPy and Pandas"
      ]
    },
    {
      "cell_type": "code",
      "execution_count": 1,
      "id": "14e3d297",
      "metadata": {
        "id": "14e3d297"
      },
      "outputs": [
        {
          "name": "stderr",
          "output_type": "stream",
          "text": [
            "/tmp/ipykernel_373007/3091262429.py:2: DeprecationWarning: \n",
            "Pyarrow will become a required dependency of pandas in the next major release of pandas (pandas 3.0),\n",
            "(to allow more performant data types, such as the Arrow string type, and better interoperability with other libraries)\n",
            "but was not found to be installed on your system.\n",
            "If this would cause problems for you,\n",
            "please provide us feedback at https://github.com/pandas-dev/pandas/issues/54466\n",
            "        \n",
            "  import pandas as pd #library for work with tables\n"
          ]
        }
      ],
      "source": [
        "import numpy as np #library for work with arrays\n",
        "import pandas as pd #library for work with tables\n",
        "import matplotlib.pyplot as plt #library for visualization\n",
        "#import sys\n",
        "#import sklearn"
      ]
    },
    {
      "cell_type": "code",
      "execution_count": 2,
      "id": "bfa42339",
      "metadata": {
        "id": "bfa42339",
        "outputId": "7dc537f3-e2b2-4b21-c11f-035ad6eae62c"
      },
      "outputs": [],
      "source": [
        "#sklearn.__version__"
      ]
    },
    {
      "cell_type": "markdown",
      "id": "dad09990",
      "metadata": {
        "id": "dad09990"
      },
      "source": [
        "## Numpy\n",
        "Useful information: https://realpython.com/numpy-tutorial/"
      ]
    },
    {
      "cell_type": "code",
      "execution_count": 3,
      "id": "a946360f",
      "metadata": {
        "id": "a946360f"
      },
      "outputs": [
        {
          "data": {
            "text/plain": [
              "'1.26.3'"
            ]
          },
          "execution_count": 3,
          "metadata": {},
          "output_type": "execute_result"
        }
      ],
      "source": [
        "np.__version__"
      ]
    },
    {
      "cell_type": "code",
      "execution_count": 4,
      "id": "89868b82",
      "metadata": {
        "id": "89868b82",
        "outputId": "8977ce5d-346f-4141-e133-676b2f38009f"
      },
      "outputs": [
        {
          "data": {
            "text/plain": [
              "array([1, 2, 3])"
            ]
          },
          "execution_count": 4,
          "metadata": {},
          "output_type": "execute_result"
        }
      ],
      "source": [
        "a = [1, 2, 3]\n",
        "a = np.array(a)\n",
        "a #type(a[0])"
      ]
    },
    {
      "cell_type": "code",
      "execution_count": 5,
      "id": "bbe56306",
      "metadata": {
        "id": "bbe56306",
        "outputId": "065a9e8f-59f7-4dfd-b76e-c5a116b3078c"
      },
      "outputs": [
        {
          "name": "stdout",
          "output_type": "stream",
          "text": [
            "[1 5 3]\n",
            "[1 5 3]\n"
          ]
        }
      ],
      "source": [
        "b = a #.copy()\n",
        "a[1] = 5\n",
        "print(a)\n",
        "print(b)"
      ]
    },
    {
      "cell_type": "markdown",
      "id": "fc4fe48d",
      "metadata": {
        "id": "fc4fe48d"
      },
      "source": [
        "### Shape"
      ]
    },
    {
      "cell_type": "code",
      "execution_count": 6,
      "id": "ad2f075f",
      "metadata": {
        "id": "ad2f075f",
        "outputId": "64af2f27-484e-4630-ac10-50b010b6feee"
      },
      "outputs": [
        {
          "data": {
            "text/plain": [
              "(3,)"
            ]
          },
          "execution_count": 6,
          "metadata": {},
          "output_type": "execute_result"
        }
      ],
      "source": [
        "a.shape"
      ]
    },
    {
      "cell_type": "code",
      "execution_count": 7,
      "id": "6661f380",
      "metadata": {
        "id": "6661f380",
        "outputId": "b11941d9-372b-4cfa-b742-5c4e117cdb10"
      },
      "outputs": [
        {
          "data": {
            "text/plain": [
              "(1, 3)"
            ]
          },
          "execution_count": 7,
          "metadata": {},
          "output_type": "execute_result"
        }
      ],
      "source": [
        "np.array([a]).shape"
      ]
    },
    {
      "cell_type": "code",
      "execution_count": 8,
      "id": "839752ed",
      "metadata": {
        "id": "839752ed",
        "outputId": "0db1b648-a527-495b-92ba-34b4b4e1f142"
      },
      "outputs": [
        {
          "data": {
            "text/plain": [
              "(1, 3)"
            ]
          },
          "execution_count": 8,
          "metadata": {},
          "output_type": "execute_result"
        }
      ],
      "source": [
        "b = a.reshape(1,-1)\n",
        "#(a.reshape(-1,1)).shape\n",
        "b.shape"
      ]
    },
    {
      "cell_type": "code",
      "execution_count": 9,
      "id": "cef1cf4e",
      "metadata": {
        "id": "cef1cf4e",
        "outputId": "e520d78b-88f3-4359-89fc-6861a8645c50"
      },
      "outputs": [
        {
          "data": {
            "text/plain": [
              "array([1, 5, 3])"
            ]
          },
          "execution_count": 9,
          "metadata": {},
          "output_type": "execute_result"
        }
      ],
      "source": [
        "a.T\n",
        "#b.T"
      ]
    },
    {
      "cell_type": "code",
      "execution_count": 10,
      "id": "6ea139c4",
      "metadata": {
        "id": "6ea139c4",
        "outputId": "d94b8b10-7b9c-4b40-84b4-cb7ac0f68528"
      },
      "outputs": [
        {
          "data": {
            "text/plain": [
              "array([[0.21982811, 0.86993932, 0.43148967],\n",
              "       [0.18615718, 0.02549201, 0.16924708],\n",
              "       [0.84268188, 0.23516174, 0.05959771],\n",
              "       [0.29367461, 0.44396219, 0.29617671]])"
            ]
          },
          "execution_count": 10,
          "metadata": {},
          "output_type": "execute_result"
        }
      ],
      "source": [
        "c = np.random.rand(4,3)\n",
        "c"
      ]
    },
    {
      "cell_type": "code",
      "execution_count": 11,
      "id": "4b248d19",
      "metadata": {
        "id": "4b248d19",
        "outputId": "05340158-59a0-4d9a-dac3-54ccc231ebde"
      },
      "outputs": [
        {
          "data": {
            "text/plain": [
              "array([[0.21982811, 0.86993932, 0.43148967, 0.18615718, 0.02549201,\n",
              "        0.16924708, 0.84268188, 0.23516174, 0.05959771, 0.29367461,\n",
              "        0.44396219, 0.29617671]])"
            ]
          },
          "execution_count": 11,
          "metadata": {},
          "output_type": "execute_result"
        }
      ],
      "source": [
        "c.reshape(1,-1)"
      ]
    },
    {
      "cell_type": "code",
      "execution_count": 12,
      "id": "e02b3a6b",
      "metadata": {
        "id": "e02b3a6b",
        "outputId": "ea0bdc66-2d9a-4a0e-8ace-e273f85a116d"
      },
      "outputs": [
        {
          "data": {
            "text/plain": [
              "array([0.86993932, 0.18615718, 0.84268188, 0.44396219])"
            ]
          },
          "execution_count": 12,
          "metadata": {},
          "output_type": "execute_result"
        }
      ],
      "source": [
        "c.max(axis=1)"
      ]
    },
    {
      "cell_type": "markdown",
      "id": "dd5de322",
      "metadata": {
        "id": "dd5de322"
      },
      "source": [
        "### Broadcasting"
      ]
    },
    {
      "cell_type": "code",
      "execution_count": 13,
      "id": "3d9c6e9a",
      "metadata": {
        "id": "3d9c6e9a",
        "outputId": "47ee4aca-fccd-4263-c7a0-3c22da119254"
      },
      "outputs": [
        {
          "data": {
            "text/plain": [
              "array([[1.06250999, 1.73987864, 0.86297935],\n",
              "       [1.02883905, 0.89543133, 0.60073675],\n",
              "       [1.68536375, 1.10510106, 0.49108738],\n",
              "       [1.13635649, 1.31390151, 0.72766638]])"
            ]
          },
          "execution_count": 13,
          "metadata": {},
          "output_type": "execute_result"
        }
      ],
      "source": [
        "c+c.max(axis=0)\n",
        "#c+c.max(axis=1).reshape(-1,1)"
      ]
    },
    {
      "cell_type": "markdown",
      "id": "84d01970",
      "metadata": {
        "id": "84d01970"
      },
      "source": [
        "### Matrix Multiplication"
      ]
    },
    {
      "cell_type": "code",
      "execution_count": 14,
      "id": "db9d169c",
      "metadata": {
        "id": "db9d169c",
        "outputId": "d64e056b-cc17-496e-aebb-ab65443360fc"
      },
      "outputs": [
        {
          "data": {
            "text/plain": [
              "array([[4.83243987e-02, 7.56794424e-01, 1.86183339e-01],\n",
              "       [3.46544946e-02, 6.49842404e-04, 2.86445729e-02],\n",
              "       [7.10112745e-01, 5.53010435e-02, 3.55188675e-03],\n",
              "       [8.62447771e-02, 1.97102428e-01, 8.77206433e-02]])"
            ]
          },
          "execution_count": 14,
          "metadata": {},
          "output_type": "execute_result"
        }
      ],
      "source": [
        "c*c\n",
        "#c.dot(c.T)\n",
        "#np.matmul(c.T,c)"
      ]
    },
    {
      "cell_type": "markdown",
      "id": "e5c8e044",
      "metadata": {
        "id": "e5c8e044"
      },
      "source": [
        "### Change type"
      ]
    },
    {
      "cell_type": "code",
      "execution_count": 15,
      "id": "0fc6e0d4",
      "metadata": {
        "id": "0fc6e0d4",
        "outputId": "f08a523f-74d4-44f6-dcad-c0407c405565"
      },
      "outputs": [
        {
          "data": {
            "text/plain": [
              "dtype('float64')"
            ]
          },
          "execution_count": 15,
          "metadata": {},
          "output_type": "execute_result"
        }
      ],
      "source": [
        "c.dtype\n",
        "#c.astype(np.float32)"
      ]
    },
    {
      "cell_type": "markdown",
      "id": "vtijaJRbSs3g",
      "metadata": {
        "id": "vtijaJRbSs3g"
      },
      "source": [
        "### Problem 1.\n",
        "Assume that in rows of matrix $A = \\begin{pmatrix} x^{(1)}_1 & x^{(1)}_2 & x^{(1)}_3 \\\\ x^{(2)}_1 & x^{(2)}_2 & x^{(3)}_3\\\\ \\cdots & \\cdots & \\cdots\\\\ x^{(20)}_1 & x^{(20)}_2 & x^{(20)}_3 \\end{pmatrix}$ we have coordinates of 20 points and in rows of matrix $B = \\begin{pmatrix} y^{(1)}_1 & y^{(1)}_2 & y^{(1)}_3 \\\\ y^{(2)}_1 & y^{(2)}_2 & y^{(3)}_3\\\\ \\cdots & \\cdots & \\cdots\\\\ y^{(5)}_1 & y^{(5)}_2 & y^{(5)}_3 \\end{pmatrix}$ we have coordinates of 5 other points. Using boadcasting, get a matrix with Eucledean distances from every point $x^{i}$ to every point $y^{(j)}:$\n",
        "$$\n",
        "D =  \\begin{pmatrix} d(x^{(1)}, y^{(1)}) & d(x^{(1)}, y^{(2)}) & \\ldots & d(x^{(1)}, y^{(5)}) \\\\ d(x^{(2)}, y^{(1)}) & d(x^{(2)}, y^{(2)}) & \\ldots & d(x^{(2)}, y^{(5)})\\\\ \\cdots & \\cdots & \\cdots & \\cdots\\\\ d(x^{(20)}, y^{(1)}) & d(x^{(20)}, y^{(2)}) & \\ldots & d(x^{(20)}, y^{(5)}) \\end{pmatrix}\n",
        "$$"
      ]
    },
    {
      "cell_type": "code",
      "execution_count": 16,
      "id": "Por6jLeDSzXk",
      "metadata": {
        "id": "Por6jLeDSzXk"
      },
      "outputs": [],
      "source": [
        "A = np.random.randn(20,3)\n",
        "B = np.random.randn(5,3)"
      ]
    },
    {
      "cell_type": "code",
      "execution_count": null,
      "id": "NX05D6BXYdZx",
      "metadata": {
        "id": "NX05D6BXYdZx"
      },
      "outputs": [],
      "source": []
    },
    {
      "cell_type": "markdown",
      "id": "0af96f83",
      "metadata": {
        "id": "0af96f83"
      },
      "source": [
        "## Pandas\n",
        "### Download data\n",
        "* .csv (Comma Separated Files) [pandas.read_csv()](https://pandas.pydata.org/docs/reference/api/pandas.read_csv.html)\n",
        "* .xls (eXceL Spreadsheet) [pandas.read_excel()](https://pandas.pydata.org/docs/reference/api/pandas.read_excel.html)\n",
        "* .json (JavaScript Object Notation) [pandas.read_json()](https://pandas.pydata.org/docs/reference/api/pandas.read_json.html)\n",
        "* .txt\n",
        "\n",
        "Save .csv file from https://www.randomservices.org/random/data/Galton.html\n",
        "\n",
        "Another source: https://raw.githubusercontent.com/data-8/materials-fa17/master/lec/galton.csv"
      ]
    },
    {
      "cell_type": "markdown",
      "id": "ec7b9c86",
      "metadata": {
        "id": "ec7b9c86"
      },
      "source": [
        "F. Galton introduced the term _regression._ In the figure below you can see that \"extremely tall parents tend to have children who are taller than average and extremely small parents tend to have children who are smaller than average, but in both cases the children tend to be closer to the average than were their parents\". (Stephen Senn _Francis Galton and regression to the mean._ Significance, Vol. 8, Iss. 3)\n",
        "\n",
        "![title](https://upload.wikimedia.org/wikipedia/commons/b/b2/Galton%27s_correlation_diagram_1875.jpg)\n",
        "**Francis Galton.** *Regression towards mediocrity in hereditary stature.* The Journal of the Anthropological Institute of Great Britain and Ireland. 15: 246–263 (1886)"
      ]
    },
    {
      "cell_type": "code",
      "execution_count": 17,
      "id": "bdea1f0d",
      "metadata": {
        "id": "bdea1f0d",
        "outputId": "8b0eefbd-9851-4006-b3fb-73d45d64a524"
      },
      "outputs": [
        {
          "name": "stdout",
          "output_type": "stream",
          "text": [
            "/home/tohab0g/Projects/CSCI335-ML/RIT_ML/2024_spring/Lectures\n"
          ]
        }
      ],
      "source": [
        "#To see the current directory, you can type\n",
        "!pwd"
      ]
    },
    {
      "cell_type": "code",
      "execution_count": 18,
      "id": "0dde71f6",
      "metadata": {
        "id": "0dde71f6",
        "outputId": "3a049d4a-6e78-4271-d669-c79028f1c56d"
      },
      "outputs": [
        {
          "name": "stdout",
          "output_type": "stream",
          "text": [
            "data_sem1.csv  ML1.pdf\tML2.ipynb  ML3.ipynb  ML4.ipynb\n"
          ]
        }
      ],
      "source": [
        "!ls"
      ]
    },
    {
      "cell_type": "code",
      "execution_count": 19,
      "id": "43919c85",
      "metadata": {
        "id": "43919c85"
      },
      "outputs": [],
      "source": [
        "PATH = 'Galtons Height Data.csv'"
      ]
    },
    {
      "cell_type": "code",
      "execution_count": 20,
      "id": "0921ed70",
      "metadata": {
        "id": "0921ed70"
      },
      "outputs": [],
      "source": [
        "df = pd.read_csv('https://raw.githubusercontent.com/anton-selitskiy/The-Art-of-ML/main/Galtons%20Height%20Data.csv')"
      ]
    },
    {
      "cell_type": "code",
      "execution_count": 21,
      "id": "a550d623",
      "metadata": {
        "colab": {
          "base_uri": "https://localhost:8080/",
          "height": 206
        },
        "id": "a550d623",
        "outputId": "6a5326ec-6c72-44ee-e382-4936a6dd8953"
      },
      "outputs": [
        {
          "data": {
            "text/html": [
              "<div>\n",
              "<style scoped>\n",
              "    .dataframe tbody tr th:only-of-type {\n",
              "        vertical-align: middle;\n",
              "    }\n",
              "\n",
              "    .dataframe tbody tr th {\n",
              "        vertical-align: top;\n",
              "    }\n",
              "\n",
              "    .dataframe thead th {\n",
              "        text-align: right;\n",
              "    }\n",
              "</style>\n",
              "<table border=\"1\" class=\"dataframe\">\n",
              "  <thead>\n",
              "    <tr style=\"text-align: right;\">\n",
              "      <th></th>\n",
              "      <th>Family</th>\n",
              "      <th>Father</th>\n",
              "      <th>Mother</th>\n",
              "      <th>Gender</th>\n",
              "      <th>Height</th>\n",
              "      <th>Kids</th>\n",
              "    </tr>\n",
              "  </thead>\n",
              "  <tbody>\n",
              "    <tr>\n",
              "      <th>0</th>\n",
              "      <td>1</td>\n",
              "      <td>78.5</td>\n",
              "      <td>67.0</td>\n",
              "      <td>M</td>\n",
              "      <td>73.2</td>\n",
              "      <td>4</td>\n",
              "    </tr>\n",
              "    <tr>\n",
              "      <th>1</th>\n",
              "      <td>1</td>\n",
              "      <td>78.5</td>\n",
              "      <td>67.0</td>\n",
              "      <td>F</td>\n",
              "      <td>69.2</td>\n",
              "      <td>4</td>\n",
              "    </tr>\n",
              "    <tr>\n",
              "      <th>2</th>\n",
              "      <td>1</td>\n",
              "      <td>78.5</td>\n",
              "      <td>67.0</td>\n",
              "      <td>F</td>\n",
              "      <td>69.0</td>\n",
              "      <td>4</td>\n",
              "    </tr>\n",
              "    <tr>\n",
              "      <th>3</th>\n",
              "      <td>1</td>\n",
              "      <td>78.5</td>\n",
              "      <td>67.0</td>\n",
              "      <td>F</td>\n",
              "      <td>69.0</td>\n",
              "      <td>4</td>\n",
              "    </tr>\n",
              "    <tr>\n",
              "      <th>4</th>\n",
              "      <td>2</td>\n",
              "      <td>75.5</td>\n",
              "      <td>66.5</td>\n",
              "      <td>M</td>\n",
              "      <td>73.5</td>\n",
              "      <td>4</td>\n",
              "    </tr>\n",
              "  </tbody>\n",
              "</table>\n",
              "</div>"
            ],
            "text/plain": [
              "   Family  Father  Mother Gender  Height  Kids\n",
              "0       1    78.5    67.0      M    73.2     4\n",
              "1       1    78.5    67.0      F    69.2     4\n",
              "2       1    78.5    67.0      F    69.0     4\n",
              "3       1    78.5    67.0      F    69.0     4\n",
              "4       2    75.5    66.5      M    73.5     4"
            ]
          },
          "execution_count": 21,
          "metadata": {},
          "output_type": "execute_result"
        }
      ],
      "source": [
        "df.head() #df.tail(6)"
      ]
    },
    {
      "cell_type": "code",
      "execution_count": 22,
      "id": "eecd3b25",
      "metadata": {
        "colab": {
          "base_uri": "https://localhost:8080/"
        },
        "id": "eecd3b25",
        "outputId": "20b7f8ae-3c15-4001-b0f6-55d3db93d3e7"
      },
      "outputs": [
        {
          "name": "stdout",
          "output_type": "stream",
          "text": [
            "<class 'pandas.core.frame.DataFrame'>\n",
            "RangeIndex: 898 entries, 0 to 897\n",
            "Data columns (total 6 columns):\n",
            " #   Column  Non-Null Count  Dtype  \n",
            "---  ------  --------------  -----  \n",
            " 0   Family  898 non-null    int64  \n",
            " 1   Father  898 non-null    float64\n",
            " 2   Mother  898 non-null    float64\n",
            " 3   Gender  898 non-null    object \n",
            " 4   Height  898 non-null    float64\n",
            " 5   Kids    898 non-null    int64  \n",
            "dtypes: float64(3), int64(2), object(1)\n",
            "memory usage: 42.2+ KB\n"
          ]
        }
      ],
      "source": [
        "df.info()"
      ]
    },
    {
      "cell_type": "code",
      "execution_count": 23,
      "id": "c4c2c430",
      "metadata": {
        "colab": {
          "base_uri": "https://localhost:8080/",
          "height": 300
        },
        "id": "c4c2c430",
        "outputId": "d4f7c82d-7e93-4866-9f08-ce3f37811e32"
      },
      "outputs": [
        {
          "data": {
            "text/html": [
              "<div>\n",
              "<style scoped>\n",
              "    .dataframe tbody tr th:only-of-type {\n",
              "        vertical-align: middle;\n",
              "    }\n",
              "\n",
              "    .dataframe tbody tr th {\n",
              "        vertical-align: top;\n",
              "    }\n",
              "\n",
              "    .dataframe thead th {\n",
              "        text-align: right;\n",
              "    }\n",
              "</style>\n",
              "<table border=\"1\" class=\"dataframe\">\n",
              "  <thead>\n",
              "    <tr style=\"text-align: right;\">\n",
              "      <th></th>\n",
              "      <th>Family</th>\n",
              "      <th>Father</th>\n",
              "      <th>Mother</th>\n",
              "      <th>Height</th>\n",
              "      <th>Kids</th>\n",
              "    </tr>\n",
              "  </thead>\n",
              "  <tbody>\n",
              "    <tr>\n",
              "      <th>count</th>\n",
              "      <td>898.000000</td>\n",
              "      <td>898.000000</td>\n",
              "      <td>898.000000</td>\n",
              "      <td>898.000000</td>\n",
              "      <td>898.000000</td>\n",
              "    </tr>\n",
              "    <tr>\n",
              "      <th>mean</th>\n",
              "      <td>105.216036</td>\n",
              "      <td>69.232851</td>\n",
              "      <td>64.084410</td>\n",
              "      <td>66.760690</td>\n",
              "      <td>6.135857</td>\n",
              "    </tr>\n",
              "    <tr>\n",
              "      <th>std</th>\n",
              "      <td>57.189899</td>\n",
              "      <td>2.470256</td>\n",
              "      <td>2.307025</td>\n",
              "      <td>3.582918</td>\n",
              "      <td>2.685156</td>\n",
              "    </tr>\n",
              "    <tr>\n",
              "      <th>min</th>\n",
              "      <td>1.000000</td>\n",
              "      <td>62.000000</td>\n",
              "      <td>58.000000</td>\n",
              "      <td>56.000000</td>\n",
              "      <td>1.000000</td>\n",
              "    </tr>\n",
              "    <tr>\n",
              "      <th>25%</th>\n",
              "      <td>58.000000</td>\n",
              "      <td>68.000000</td>\n",
              "      <td>63.000000</td>\n",
              "      <td>64.000000</td>\n",
              "      <td>4.000000</td>\n",
              "    </tr>\n",
              "    <tr>\n",
              "      <th>50%</th>\n",
              "      <td>105.000000</td>\n",
              "      <td>69.000000</td>\n",
              "      <td>64.000000</td>\n",
              "      <td>66.500000</td>\n",
              "      <td>6.000000</td>\n",
              "    </tr>\n",
              "    <tr>\n",
              "      <th>75%</th>\n",
              "      <td>155.750000</td>\n",
              "      <td>71.000000</td>\n",
              "      <td>65.500000</td>\n",
              "      <td>69.700000</td>\n",
              "      <td>8.000000</td>\n",
              "    </tr>\n",
              "    <tr>\n",
              "      <th>max</th>\n",
              "      <td>205.000000</td>\n",
              "      <td>78.500000</td>\n",
              "      <td>70.500000</td>\n",
              "      <td>79.000000</td>\n",
              "      <td>15.000000</td>\n",
              "    </tr>\n",
              "  </tbody>\n",
              "</table>\n",
              "</div>"
            ],
            "text/plain": [
              "           Family      Father      Mother      Height        Kids\n",
              "count  898.000000  898.000000  898.000000  898.000000  898.000000\n",
              "mean   105.216036   69.232851   64.084410   66.760690    6.135857\n",
              "std     57.189899    2.470256    2.307025    3.582918    2.685156\n",
              "min      1.000000   62.000000   58.000000   56.000000    1.000000\n",
              "25%     58.000000   68.000000   63.000000   64.000000    4.000000\n",
              "50%    105.000000   69.000000   64.000000   66.500000    6.000000\n",
              "75%    155.750000   71.000000   65.500000   69.700000    8.000000\n",
              "max    205.000000   78.500000   70.500000   79.000000   15.000000"
            ]
          },
          "execution_count": 23,
          "metadata": {},
          "output_type": "execute_result"
        }
      ],
      "source": [
        "df.describe()"
      ]
    },
    {
      "cell_type": "markdown",
      "id": "6aa481e9",
      "metadata": {
        "id": "6aa481e9"
      },
      "source": [
        "### Dictionary and creation of dataframes"
      ]
    },
    {
      "cell_type": "code",
      "execution_count": 24,
      "id": "1d20460b",
      "metadata": {
        "id": "1d20460b"
      },
      "outputs": [],
      "source": [
        "d = {'c1': [0, 1], 'c2':[3, 4]}"
      ]
    },
    {
      "cell_type": "code",
      "execution_count": 25,
      "id": "85167cc7",
      "metadata": {
        "colab": {
          "base_uri": "https://localhost:8080/"
        },
        "id": "85167cc7",
        "outputId": "54755637-6a9b-4d0d-b0d8-f72566d4a740"
      },
      "outputs": [
        {
          "data": {
            "text/plain": [
              "[0, 1]"
            ]
          },
          "execution_count": 25,
          "metadata": {},
          "output_type": "execute_result"
        }
      ],
      "source": [
        "d['c1']"
      ]
    },
    {
      "cell_type": "code",
      "execution_count": 26,
      "id": "b3238d47",
      "metadata": {
        "colab": {
          "base_uri": "https://localhost:8080/",
          "height": 112
        },
        "id": "b3238d47",
        "outputId": "1ec5e775-253e-479a-b286-1e8753ef92b8"
      },
      "outputs": [
        {
          "data": {
            "text/html": [
              "<div>\n",
              "<style scoped>\n",
              "    .dataframe tbody tr th:only-of-type {\n",
              "        vertical-align: middle;\n",
              "    }\n",
              "\n",
              "    .dataframe tbody tr th {\n",
              "        vertical-align: top;\n",
              "    }\n",
              "\n",
              "    .dataframe thead th {\n",
              "        text-align: right;\n",
              "    }\n",
              "</style>\n",
              "<table border=\"1\" class=\"dataframe\">\n",
              "  <thead>\n",
              "    <tr style=\"text-align: right;\">\n",
              "      <th></th>\n",
              "      <th>c1</th>\n",
              "      <th>c2</th>\n",
              "    </tr>\n",
              "  </thead>\n",
              "  <tbody>\n",
              "    <tr>\n",
              "      <th>0</th>\n",
              "      <td>0</td>\n",
              "      <td>3</td>\n",
              "    </tr>\n",
              "    <tr>\n",
              "      <th>1</th>\n",
              "      <td>1</td>\n",
              "      <td>4</td>\n",
              "    </tr>\n",
              "  </tbody>\n",
              "</table>\n",
              "</div>"
            ],
            "text/plain": [
              "   c1  c2\n",
              "0   0   3\n",
              "1   1   4"
            ]
          },
          "execution_count": 26,
          "metadata": {},
          "output_type": "execute_result"
        }
      ],
      "source": [
        "df1 = pd.DataFrame(data = d)\n",
        "df1.head()"
      ]
    },
    {
      "cell_type": "markdown",
      "id": "51813182",
      "metadata": {
        "id": "51813182"
      },
      "source": [
        "### Access to Columns"
      ]
    },
    {
      "cell_type": "code",
      "execution_count": 27,
      "id": "c81bbc23",
      "metadata": {
        "colab": {
          "base_uri": "https://localhost:8080/"
        },
        "id": "c81bbc23",
        "outputId": "72b9fb86-f300-4639-b730-5f284b227b3a"
      },
      "outputs": [
        {
          "data": {
            "text/plain": [
              "Index(['Family', 'Father', 'Mother', 'Gender', 'Height', 'Kids'], dtype='object')"
            ]
          },
          "execution_count": 27,
          "metadata": {},
          "output_type": "execute_result"
        }
      ],
      "source": [
        "df.columns #.values"
      ]
    },
    {
      "cell_type": "code",
      "execution_count": 28,
      "id": "8d61c45d",
      "metadata": {
        "colab": {
          "base_uri": "https://localhost:8080/"
        },
        "id": "8d61c45d",
        "outputId": "633fc709-f969-4b99-8e6f-482484eebd5f"
      },
      "outputs": [
        {
          "name": "stdout",
          "output_type": "stream",
          "text": [
            "Family\n",
            "Father\n",
            "Mother\n",
            "Gender\n",
            "Height\n",
            "Kids\n"
          ]
        }
      ],
      "source": [
        "for i in df.columns:\n",
        "    print(i)"
      ]
    },
    {
      "cell_type": "code",
      "execution_count": 29,
      "id": "148c45f2",
      "metadata": {
        "colab": {
          "base_uri": "https://localhost:8080/",
          "height": 35
        },
        "id": "148c45f2",
        "outputId": "2ddff807-c8f2-490a-8808-8efe8300d415"
      },
      "outputs": [
        {
          "data": {
            "text/plain": [
              "'Family'"
            ]
          },
          "execution_count": 29,
          "metadata": {},
          "output_type": "execute_result"
        }
      ],
      "source": [
        "df.columns[0]"
      ]
    },
    {
      "cell_type": "code",
      "execution_count": 30,
      "id": "cbe3d3fe",
      "metadata": {
        "id": "cbe3d3fe"
      },
      "outputs": [],
      "source": [
        "d = dict(zip(df.columns.values[[0,1,2,4,5]], [np.int32, np.float32, np.float32, np.float32, np.int32]))"
      ]
    },
    {
      "cell_type": "code",
      "execution_count": 31,
      "id": "a585cf6a",
      "metadata": {
        "id": "a585cf6a"
      },
      "outputs": [],
      "source": [
        "#df2 = pd.read_csv(PATH, dtype=d)\n",
        "#df2.info()"
      ]
    },
    {
      "cell_type": "markdown",
      "id": "914bb2d7",
      "metadata": {
        "id": "914bb2d7"
      },
      "source": [
        "### Access to Rows"
      ]
    },
    {
      "cell_type": "code",
      "execution_count": 32,
      "id": "a84f262d",
      "metadata": {
        "colab": {
          "base_uri": "https://localhost:8080/"
        },
        "id": "a84f262d",
        "outputId": "b95c54f5-dab3-4a80-8505-3adf23eadfa4"
      },
      "outputs": [
        {
          "data": {
            "text/plain": [
              "RangeIndex(start=0, stop=898, step=1)"
            ]
          },
          "execution_count": 32,
          "metadata": {},
          "output_type": "execute_result"
        }
      ],
      "source": [
        "df.index"
      ]
    },
    {
      "cell_type": "markdown",
      "id": "0f551fb1",
      "metadata": {
        "id": "0f551fb1"
      },
      "source": [
        "### Access by index"
      ]
    },
    {
      "cell_type": "code",
      "execution_count": 33,
      "id": "902b3c6b",
      "metadata": {
        "colab": {
          "base_uri": "https://localhost:8080/",
          "height": 206
        },
        "id": "902b3c6b",
        "outputId": "b665c295-9a46-44e4-9146-7fc12cfac519"
      },
      "outputs": [
        {
          "data": {
            "text/html": [
              "<div>\n",
              "<style scoped>\n",
              "    .dataframe tbody tr th:only-of-type {\n",
              "        vertical-align: middle;\n",
              "    }\n",
              "\n",
              "    .dataframe tbody tr th {\n",
              "        vertical-align: top;\n",
              "    }\n",
              "\n",
              "    .dataframe thead th {\n",
              "        text-align: right;\n",
              "    }\n",
              "</style>\n",
              "<table border=\"1\" class=\"dataframe\">\n",
              "  <thead>\n",
              "    <tr style=\"text-align: right;\">\n",
              "      <th></th>\n",
              "      <th>Family</th>\n",
              "      <th>Father</th>\n",
              "      <th>Mother</th>\n",
              "      <th>Gender</th>\n",
              "      <th>Height</th>\n",
              "      <th>Kids</th>\n",
              "    </tr>\n",
              "  </thead>\n",
              "  <tbody>\n",
              "    <tr>\n",
              "      <th>0</th>\n",
              "      <td>1</td>\n",
              "      <td>78.5</td>\n",
              "      <td>67.0</td>\n",
              "      <td>M</td>\n",
              "      <td>73.2</td>\n",
              "      <td>4</td>\n",
              "    </tr>\n",
              "    <tr>\n",
              "      <th>2</th>\n",
              "      <td>1</td>\n",
              "      <td>78.5</td>\n",
              "      <td>67.0</td>\n",
              "      <td>F</td>\n",
              "      <td>69.0</td>\n",
              "      <td>4</td>\n",
              "    </tr>\n",
              "    <tr>\n",
              "      <th>4</th>\n",
              "      <td>2</td>\n",
              "      <td>75.5</td>\n",
              "      <td>66.5</td>\n",
              "      <td>M</td>\n",
              "      <td>73.5</td>\n",
              "      <td>4</td>\n",
              "    </tr>\n",
              "    <tr>\n",
              "      <th>6</th>\n",
              "      <td>2</td>\n",
              "      <td>75.5</td>\n",
              "      <td>66.5</td>\n",
              "      <td>F</td>\n",
              "      <td>65.5</td>\n",
              "      <td>4</td>\n",
              "    </tr>\n",
              "    <tr>\n",
              "      <th>8</th>\n",
              "      <td>3</td>\n",
              "      <td>75.0</td>\n",
              "      <td>64.0</td>\n",
              "      <td>M</td>\n",
              "      <td>71.0</td>\n",
              "      <td>2</td>\n",
              "    </tr>\n",
              "  </tbody>\n",
              "</table>\n",
              "</div>"
            ],
            "text/plain": [
              "   Family  Father  Mother Gender  Height  Kids\n",
              "0       1    78.5    67.0      M    73.2     4\n",
              "2       1    78.5    67.0      F    69.0     4\n",
              "4       2    75.5    66.5      M    73.5     4\n",
              "6       2    75.5    66.5      F    65.5     4\n",
              "8       3    75.0    64.0      M    71.0     2"
            ]
          },
          "execution_count": 33,
          "metadata": {},
          "output_type": "execute_result"
        }
      ],
      "source": [
        "df.iloc[df.index % 2 == 0].head(5)\n",
        "#df.iloc[1,2]"
      ]
    },
    {
      "cell_type": "code",
      "execution_count": 34,
      "id": "ooALzVed14aC",
      "metadata": {
        "colab": {
          "base_uri": "https://localhost:8080/",
          "height": 206
        },
        "id": "ooALzVed14aC",
        "outputId": "c4630f8b-386b-4173-bd46-6cc41b21791b"
      },
      "outputs": [
        {
          "data": {
            "text/html": [
              "<div>\n",
              "<style scoped>\n",
              "    .dataframe tbody tr th:only-of-type {\n",
              "        vertical-align: middle;\n",
              "    }\n",
              "\n",
              "    .dataframe tbody tr th {\n",
              "        vertical-align: top;\n",
              "    }\n",
              "\n",
              "    .dataframe thead th {\n",
              "        text-align: right;\n",
              "    }\n",
              "</style>\n",
              "<table border=\"1\" class=\"dataframe\">\n",
              "  <thead>\n",
              "    <tr style=\"text-align: right;\">\n",
              "      <th></th>\n",
              "      <th>Family</th>\n",
              "      <th>Father</th>\n",
              "      <th>Mother</th>\n",
              "      <th>Gender</th>\n",
              "      <th>Height</th>\n",
              "      <th>Kids</th>\n",
              "    </tr>\n",
              "  </thead>\n",
              "  <tbody>\n",
              "    <tr>\n",
              "      <th>0</th>\n",
              "      <td>1</td>\n",
              "      <td>78.5</td>\n",
              "      <td>67.0</td>\n",
              "      <td>M</td>\n",
              "      <td>73.2</td>\n",
              "      <td>4</td>\n",
              "    </tr>\n",
              "    <tr>\n",
              "      <th>1</th>\n",
              "      <td>1</td>\n",
              "      <td>78.5</td>\n",
              "      <td>67.0</td>\n",
              "      <td>F</td>\n",
              "      <td>69.2</td>\n",
              "      <td>4</td>\n",
              "    </tr>\n",
              "    <tr>\n",
              "      <th>2</th>\n",
              "      <td>1</td>\n",
              "      <td>78.5</td>\n",
              "      <td>67.0</td>\n",
              "      <td>F</td>\n",
              "      <td>69.0</td>\n",
              "      <td>4</td>\n",
              "    </tr>\n",
              "    <tr>\n",
              "      <th>3</th>\n",
              "      <td>1</td>\n",
              "      <td>78.5</td>\n",
              "      <td>67.0</td>\n",
              "      <td>F</td>\n",
              "      <td>69.0</td>\n",
              "      <td>4</td>\n",
              "    </tr>\n",
              "    <tr>\n",
              "      <th>4</th>\n",
              "      <td>2</td>\n",
              "      <td>75.5</td>\n",
              "      <td>66.5</td>\n",
              "      <td>M</td>\n",
              "      <td>73.5</td>\n",
              "      <td>4</td>\n",
              "    </tr>\n",
              "  </tbody>\n",
              "</table>\n",
              "</div>"
            ],
            "text/plain": [
              "   Family  Father  Mother Gender  Height  Kids\n",
              "0       1    78.5    67.0      M    73.2     4\n",
              "1       1    78.5    67.0      F    69.2     4\n",
              "2       1    78.5    67.0      F    69.0     4\n",
              "3       1    78.5    67.0      F    69.0     4\n",
              "4       2    75.5    66.5      M    73.5     4"
            ]
          },
          "execution_count": 34,
          "metadata": {},
          "output_type": "execute_result"
        }
      ],
      "source": [
        "df.head()"
      ]
    },
    {
      "cell_type": "code",
      "execution_count": 35,
      "id": "ln1iGzVt1e6O",
      "metadata": {
        "id": "ln1iGzVt1e6O"
      },
      "outputs": [],
      "source": [
        "#df.columns = ['Family', 'Father', 'Mother', 'AverageHeight', 'Kids', 'Num', 'Gender', 'Height']\n",
        "#df.Gender = df.Gender.map({'male': 'M', 'female': 'F'})"
      ]
    },
    {
      "cell_type": "markdown",
      "id": "19c956d0",
      "metadata": {
        "id": "19c956d0"
      },
      "source": [
        "### Visualization"
      ]
    },
    {
      "cell_type": "code",
      "execution_count": 36,
      "id": "0f08c6b4",
      "metadata": {
        "colab": {
          "base_uri": "https://localhost:8080/",
          "height": 453
        },
        "id": "0f08c6b4",
        "outputId": "c8df4624-ea9b-4416-8ba9-23a101b7d1dc"
      },
      "outputs": [
        {
          "data": {
            "image/png": "[encoded data removed]",
            "text/plain": [
              "<Figure size 640x480 with 1 Axes>"
            ]
          },
          "metadata": {},
          "output_type": "display_data"
        }
      ],
      "source": [
        "plt.scatter(df[df['Gender']=='M'].Father, df[df['Gender']=='M'].Height, label=\"M\", alpha=0.5)\n",
        "plt.scatter(df[df['Gender']=='F'].Father, df[df['Gender']=='F'].Height, label=\"F\", alpha=0.5, c='pink')\n",
        "plt.xlabel(\"Father's Height\")\n",
        "plt.ylabel(\"Child's Height\")\n",
        "plt.legend()\n",
        "plt.show()"
      ]
    },
    {
      "cell_type": "markdown",
      "id": "52847b5a",
      "metadata": {
        "id": "52847b5a"
      },
      "source": [
        "### Working with columns"
      ]
    },
    {
      "cell_type": "code",
      "execution_count": 37,
      "id": "656c4fda",
      "metadata": {
        "colab": {
          "base_uri": "https://localhost:8080/",
          "height": 448
        },
        "id": "656c4fda",
        "outputId": "9c50ba16-6ddd-4bc5-a014-1e66c4c24e92"
      },
      "outputs": [
        {
          "data": {
            "text/plain": [
              "<matplotlib.collections.PathCollection at 0x7426ccc06dd0>"
            ]
          },
          "execution_count": 37,
          "metadata": {},
          "output_type": "execute_result"
        },
        {
          "data": {
            "image/png": "[encoded data removed]",
            "text/plain": [
              "<Figure size 640x480 with 1 Axes>"
            ]
          },
          "metadata": {},
          "output_type": "display_data"
        }
      ],
      "source": [
        "plt.scatter(df[df['Gender']=='M'].Father, df[df['Gender']=='M'].Height-df[df['Gender']=='M'].Height.mean(), alpha=0.5)\n",
        "plt.scatter(df[df['Gender']=='F'].Father, df[df['Gender']=='F'].Height-df[df['Gender']=='F'].Height.mean(), alpha=0.5, c='pink')"
      ]
    },
    {
      "cell_type": "markdown",
      "id": "6df7d99e",
      "metadata": {
        "id": "6df7d99e"
      },
      "source": [
        "### Delete columns"
      ]
    },
    {
      "cell_type": "code",
      "execution_count": 38,
      "id": "36e0ffde",
      "metadata": {
        "colab": {
          "base_uri": "https://localhost:8080/",
          "height": 206
        },
        "id": "36e0ffde",
        "outputId": "3eddbad4-4965-41c3-893c-e5b3e5b723c9"
      },
      "outputs": [
        {
          "data": {
            "text/html": [
              "<div>\n",
              "<style scoped>\n",
              "    .dataframe tbody tr th:only-of-type {\n",
              "        vertical-align: middle;\n",
              "    }\n",
              "\n",
              "    .dataframe tbody tr th {\n",
              "        vertical-align: top;\n",
              "    }\n",
              "\n",
              "    .dataframe thead th {\n",
              "        text-align: right;\n",
              "    }\n",
              "</style>\n",
              "<table border=\"1\" class=\"dataframe\">\n",
              "  <thead>\n",
              "    <tr style=\"text-align: right;\">\n",
              "      <th></th>\n",
              "      <th>Family</th>\n",
              "      <th>Father</th>\n",
              "      <th>Mother</th>\n",
              "      <th>Gender</th>\n",
              "      <th>Kids</th>\n",
              "    </tr>\n",
              "  </thead>\n",
              "  <tbody>\n",
              "    <tr>\n",
              "      <th>0</th>\n",
              "      <td>1</td>\n",
              "      <td>78.5</td>\n",
              "      <td>67.0</td>\n",
              "      <td>M</td>\n",
              "      <td>4</td>\n",
              "    </tr>\n",
              "    <tr>\n",
              "      <th>1</th>\n",
              "      <td>1</td>\n",
              "      <td>78.5</td>\n",
              "      <td>67.0</td>\n",
              "      <td>F</td>\n",
              "      <td>4</td>\n",
              "    </tr>\n",
              "    <tr>\n",
              "      <th>2</th>\n",
              "      <td>1</td>\n",
              "      <td>78.5</td>\n",
              "      <td>67.0</td>\n",
              "      <td>F</td>\n",
              "      <td>4</td>\n",
              "    </tr>\n",
              "    <tr>\n",
              "      <th>3</th>\n",
              "      <td>1</td>\n",
              "      <td>78.5</td>\n",
              "      <td>67.0</td>\n",
              "      <td>F</td>\n",
              "      <td>4</td>\n",
              "    </tr>\n",
              "    <tr>\n",
              "      <th>4</th>\n",
              "      <td>2</td>\n",
              "      <td>75.5</td>\n",
              "      <td>66.5</td>\n",
              "      <td>M</td>\n",
              "      <td>4</td>\n",
              "    </tr>\n",
              "  </tbody>\n",
              "</table>\n",
              "</div>"
            ],
            "text/plain": [
              "   Family  Father  Mother Gender  Kids\n",
              "0       1    78.5    67.0      M     4\n",
              "1       1    78.5    67.0      F     4\n",
              "2       1    78.5    67.0      F     4\n",
              "3       1    78.5    67.0      F     4\n",
              "4       2    75.5    66.5      M     4"
            ]
          },
          "execution_count": 38,
          "metadata": {},
          "output_type": "execute_result"
        }
      ],
      "source": [
        "df.drop(\"Height\", axis=1).head()  #inplace=True"
      ]
    },
    {
      "cell_type": "markdown",
      "id": "8e04b2df",
      "metadata": {
        "id": "8e04b2df"
      },
      "source": [
        "### View elements"
      ]
    },
    {
      "cell_type": "code",
      "execution_count": 39,
      "id": "bd41ba6a",
      "metadata": {
        "colab": {
          "base_uri": "https://localhost:8080/"
        },
        "id": "bd41ba6a",
        "outputId": "9f61baf1-d03e-4589-f564-03d43dc441d2"
      },
      "outputs": [
        {
          "data": {
            "text/plain": [
              "{'F', 'M'}"
            ]
          },
          "execution_count": 39,
          "metadata": {},
          "output_type": "execute_result"
        }
      ],
      "source": [
        "set(df[\"Gender\"])\n",
        "#df.Gender.unique()"
      ]
    },
    {
      "cell_type": "markdown",
      "id": "eba6420b",
      "metadata": {
        "id": "eba6420b"
      },
      "source": [
        "### Change values"
      ]
    },
    {
      "cell_type": "code",
      "execution_count": 40,
      "id": "bf603039",
      "metadata": {
        "colab": {
          "base_uri": "https://localhost:8080/",
          "height": 224
        },
        "id": "bf603039",
        "outputId": "d812da0d-58dd-4832-dda4-35100edec50a"
      },
      "outputs": [
        {
          "name": "stdout",
          "output_type": "stream",
          "text": [
            "int64\n"
          ]
        },
        {
          "data": {
            "text/html": [
              "<div>\n",
              "<style scoped>\n",
              "    .dataframe tbody tr th:only-of-type {\n",
              "        vertical-align: middle;\n",
              "    }\n",
              "\n",
              "    .dataframe tbody tr th {\n",
              "        vertical-align: top;\n",
              "    }\n",
              "\n",
              "    .dataframe thead th {\n",
              "        text-align: right;\n",
              "    }\n",
              "</style>\n",
              "<table border=\"1\" class=\"dataframe\">\n",
              "  <thead>\n",
              "    <tr style=\"text-align: right;\">\n",
              "      <th></th>\n",
              "      <th>Family</th>\n",
              "      <th>Father</th>\n",
              "      <th>Mother</th>\n",
              "      <th>Gender</th>\n",
              "      <th>Height</th>\n",
              "      <th>Kids</th>\n",
              "      <th>Sex</th>\n",
              "    </tr>\n",
              "  </thead>\n",
              "  <tbody>\n",
              "    <tr>\n",
              "      <th>0</th>\n",
              "      <td>1</td>\n",
              "      <td>78.5</td>\n",
              "      <td>67.0</td>\n",
              "      <td>M</td>\n",
              "      <td>73.2</td>\n",
              "      <td>4</td>\n",
              "      <td>0</td>\n",
              "    </tr>\n",
              "    <tr>\n",
              "      <th>1</th>\n",
              "      <td>1</td>\n",
              "      <td>78.5</td>\n",
              "      <td>67.0</td>\n",
              "      <td>F</td>\n",
              "      <td>69.2</td>\n",
              "      <td>4</td>\n",
              "      <td>1</td>\n",
              "    </tr>\n",
              "    <tr>\n",
              "      <th>2</th>\n",
              "      <td>1</td>\n",
              "      <td>78.5</td>\n",
              "      <td>67.0</td>\n",
              "      <td>F</td>\n",
              "      <td>69.0</td>\n",
              "      <td>4</td>\n",
              "      <td>1</td>\n",
              "    </tr>\n",
              "    <tr>\n",
              "      <th>3</th>\n",
              "      <td>1</td>\n",
              "      <td>78.5</td>\n",
              "      <td>67.0</td>\n",
              "      <td>F</td>\n",
              "      <td>69.0</td>\n",
              "      <td>4</td>\n",
              "      <td>1</td>\n",
              "    </tr>\n",
              "    <tr>\n",
              "      <th>4</th>\n",
              "      <td>2</td>\n",
              "      <td>75.5</td>\n",
              "      <td>66.5</td>\n",
              "      <td>M</td>\n",
              "      <td>73.5</td>\n",
              "      <td>4</td>\n",
              "      <td>0</td>\n",
              "    </tr>\n",
              "  </tbody>\n",
              "</table>\n",
              "</div>"
            ],
            "text/plain": [
              "   Family  Father  Mother Gender  Height  Kids  Sex\n",
              "0       1    78.5    67.0      M    73.2     4    0\n",
              "1       1    78.5    67.0      F    69.2     4    1\n",
              "2       1    78.5    67.0      F    69.0     4    1\n",
              "3       1    78.5    67.0      F    69.0     4    1\n",
              "4       2    75.5    66.5      M    73.5     4    0"
            ]
          },
          "execution_count": 40,
          "metadata": {},
          "output_type": "execute_result"
        }
      ],
      "source": [
        "df[\"Sex\"] = df.Gender.map({\"M\":0, \"F\":1})\n",
        "print(df.Sex.dtype)\n",
        "df.head()"
      ]
    },
    {
      "cell_type": "code",
      "execution_count": 41,
      "id": "f7084391",
      "metadata": {
        "id": "f7084391"
      },
      "outputs": [],
      "source": [
        "#df[\"NewAge\"] = df[\"Age\"].apply(lambda x: x+100)"
      ]
    },
    {
      "cell_type": "code",
      "execution_count": 42,
      "id": "1517cb66",
      "metadata": {
        "colab": {
          "base_uri": "https://localhost:8080/"
        },
        "id": "1517cb66",
        "outputId": "973606de-4176-43cb-ccfd-c8451f5a827e"
      },
      "outputs": [
        {
          "data": {
            "text/plain": [
              "Gender\n",
              "F    64.110162\n",
              "M    69.228817\n",
              "Name: Height, dtype: float64"
            ]
          },
          "execution_count": 42,
          "metadata": {},
          "output_type": "execute_result"
        }
      ],
      "source": [
        "df.groupby(\"Gender\")[\"Height\"].mean()"
      ]
    },
    {
      "cell_type": "code",
      "execution_count": 43,
      "id": "fed5d8da",
      "metadata": {
        "colab": {
          "base_uri": "https://localhost:8080/"
        },
        "id": "fed5d8da",
        "outputId": "3eb8cd03-899e-4a8f-efa9-fb066bccca5d"
      },
      "outputs": [
        {
          "data": {
            "text/plain": [
              "Family\n",
              "1    4\n",
              "2    4\n",
              "3    2\n",
              "4    5\n",
              "5    6\n",
              "Name: Height, dtype: int64"
            ]
          },
          "execution_count": 43,
          "metadata": {},
          "output_type": "execute_result"
        }
      ],
      "source": [
        "df.groupby(\"Family\")[\"Height\"].count().head()"
      ]
    },
    {
      "cell_type": "code",
      "execution_count": 44,
      "id": "0cece63b",
      "metadata": {
        "colab": {
          "base_uri": "https://localhost:8080/"
        },
        "id": "0cece63b",
        "outputId": "201093fe-b559-44b3-f0b0-31c6f07da2db"
      },
      "outputs": [
        {
          "data": {
            "text/plain": [
              "19"
            ]
          },
          "execution_count": 44,
          "metadata": {},
          "output_type": "execute_result"
        }
      ],
      "source": [
        "\n",
        "(df.groupby(\"Family\")[\"Height\"].mean() > 70).sum()"
      ]
    },
    {
      "cell_type": "code",
      "execution_count": 45,
      "id": "3f02c6d4",
      "metadata": {
        "colab": {
          "base_uri": "https://localhost:8080/",
          "height": 206
        },
        "id": "3f02c6d4",
        "outputId": "33bdce28-357e-4813-c073-0a28b51ef4b1"
      },
      "outputs": [
        {
          "data": {
            "text/html": [
              "<div>\n",
              "<style scoped>\n",
              "    .dataframe tbody tr th:only-of-type {\n",
              "        vertical-align: middle;\n",
              "    }\n",
              "\n",
              "    .dataframe tbody tr th {\n",
              "        vertical-align: top;\n",
              "    }\n",
              "\n",
              "    .dataframe thead th {\n",
              "        text-align: right;\n",
              "    }\n",
              "</style>\n",
              "<table border=\"1\" class=\"dataframe\">\n",
              "  <thead>\n",
              "    <tr style=\"text-align: right;\">\n",
              "      <th></th>\n",
              "      <th>Family</th>\n",
              "      <th>Father</th>\n",
              "      <th>Mother</th>\n",
              "      <th>Gender</th>\n",
              "      <th>Height</th>\n",
              "      <th>Kids</th>\n",
              "      <th>Sex</th>\n",
              "    </tr>\n",
              "  </thead>\n",
              "  <tbody>\n",
              "    <tr>\n",
              "      <th>0</th>\n",
              "      <td>1</td>\n",
              "      <td>78.5</td>\n",
              "      <td>67.0</td>\n",
              "      <td>M</td>\n",
              "      <td>73.2</td>\n",
              "      <td>4</td>\n",
              "      <td>0</td>\n",
              "    </tr>\n",
              "    <tr>\n",
              "      <th>4</th>\n",
              "      <td>2</td>\n",
              "      <td>75.5</td>\n",
              "      <td>66.5</td>\n",
              "      <td>M</td>\n",
              "      <td>73.5</td>\n",
              "      <td>4</td>\n",
              "      <td>0</td>\n",
              "    </tr>\n",
              "    <tr>\n",
              "      <th>5</th>\n",
              "      <td>2</td>\n",
              "      <td>75.5</td>\n",
              "      <td>66.5</td>\n",
              "      <td>M</td>\n",
              "      <td>72.5</td>\n",
              "      <td>4</td>\n",
              "      <td>0</td>\n",
              "    </tr>\n",
              "    <tr>\n",
              "      <th>8</th>\n",
              "      <td>3</td>\n",
              "      <td>75.0</td>\n",
              "      <td>64.0</td>\n",
              "      <td>M</td>\n",
              "      <td>71.0</td>\n",
              "      <td>2</td>\n",
              "      <td>0</td>\n",
              "    </tr>\n",
              "    <tr>\n",
              "      <th>10</th>\n",
              "      <td>4</td>\n",
              "      <td>75.0</td>\n",
              "      <td>64.0</td>\n",
              "      <td>M</td>\n",
              "      <td>70.5</td>\n",
              "      <td>5</td>\n",
              "      <td>0</td>\n",
              "    </tr>\n",
              "  </tbody>\n",
              "</table>\n",
              "</div>"
            ],
            "text/plain": [
              "    Family  Father  Mother Gender  Height  Kids  Sex\n",
              "0        1    78.5    67.0      M    73.2     4    0\n",
              "4        2    75.5    66.5      M    73.5     4    0\n",
              "5        2    75.5    66.5      M    72.5     4    0\n",
              "8        3    75.0    64.0      M    71.0     2    0\n",
              "10       4    75.0    64.0      M    70.5     5    0"
            ]
          },
          "execution_count": 45,
          "metadata": {},
          "output_type": "execute_result"
        }
      ],
      "source": [
        "df[(df.Height > 70) & (df.Gender==\"M\")].head()"
      ]
    },
    {
      "cell_type": "markdown",
      "id": "85108880",
      "metadata": {
        "id": "85108880"
      },
      "source": [
        "## Problems\n",
        "2. What is the fraction of families with 3 or more children?"
      ]
    },
    {
      "cell_type": "code",
      "execution_count": 46,
      "id": "dda3e5d4",
      "metadata": {
        "id": "dda3e5d4"
      },
      "outputs": [],
      "source": [
        "#Your code\n"
      ]
    },
    {
      "cell_type": "markdown",
      "id": "f677f2ea",
      "metadata": {
        "id": "f677f2ea"
      },
      "source": [
        "3. Create a new column with the avarage height of the parents"
      ]
    },
    {
      "cell_type": "code",
      "execution_count": 47,
      "id": "95bcc6df",
      "metadata": {
        "id": "95bcc6df"
      },
      "outputs": [],
      "source": [
        "#Your code\n"
      ]
    },
    {
      "cell_type": "code",
      "execution_count": 48,
      "id": "bdd734c6",
      "metadata": {
        "colab": {
          "base_uri": "https://localhost:8080/",
          "height": 206
        },
        "id": "bdd734c6",
        "outputId": "7579809e-1872-429d-ab38-82a3509b50e9"
      },
      "outputs": [
        {
          "data": {
            "text/html": [
              "<div>\n",
              "<style scoped>\n",
              "    .dataframe tbody tr th:only-of-type {\n",
              "        vertical-align: middle;\n",
              "    }\n",
              "\n",
              "    .dataframe tbody tr th {\n",
              "        vertical-align: top;\n",
              "    }\n",
              "\n",
              "    .dataframe thead th {\n",
              "        text-align: right;\n",
              "    }\n",
              "</style>\n",
              "<table border=\"1\" class=\"dataframe\">\n",
              "  <thead>\n",
              "    <tr style=\"text-align: right;\">\n",
              "      <th></th>\n",
              "      <th>Family</th>\n",
              "      <th>Father</th>\n",
              "      <th>Mother</th>\n",
              "      <th>Gender</th>\n",
              "      <th>Height</th>\n",
              "      <th>Kids</th>\n",
              "      <th>Sex</th>\n",
              "    </tr>\n",
              "  </thead>\n",
              "  <tbody>\n",
              "    <tr>\n",
              "      <th>0</th>\n",
              "      <td>1</td>\n",
              "      <td>78.5</td>\n",
              "      <td>67.0</td>\n",
              "      <td>M</td>\n",
              "      <td>73.2</td>\n",
              "      <td>4</td>\n",
              "      <td>0</td>\n",
              "    </tr>\n",
              "    <tr>\n",
              "      <th>1</th>\n",
              "      <td>1</td>\n",
              "      <td>78.5</td>\n",
              "      <td>67.0</td>\n",
              "      <td>F</td>\n",
              "      <td>69.2</td>\n",
              "      <td>4</td>\n",
              "      <td>1</td>\n",
              "    </tr>\n",
              "    <tr>\n",
              "      <th>2</th>\n",
              "      <td>1</td>\n",
              "      <td>78.5</td>\n",
              "      <td>67.0</td>\n",
              "      <td>F</td>\n",
              "      <td>69.0</td>\n",
              "      <td>4</td>\n",
              "      <td>1</td>\n",
              "    </tr>\n",
              "    <tr>\n",
              "      <th>3</th>\n",
              "      <td>1</td>\n",
              "      <td>78.5</td>\n",
              "      <td>67.0</td>\n",
              "      <td>F</td>\n",
              "      <td>69.0</td>\n",
              "      <td>4</td>\n",
              "      <td>1</td>\n",
              "    </tr>\n",
              "    <tr>\n",
              "      <th>4</th>\n",
              "      <td>2</td>\n",
              "      <td>75.5</td>\n",
              "      <td>66.5</td>\n",
              "      <td>M</td>\n",
              "      <td>73.5</td>\n",
              "      <td>4</td>\n",
              "      <td>0</td>\n",
              "    </tr>\n",
              "  </tbody>\n",
              "</table>\n",
              "</div>"
            ],
            "text/plain": [
              "   Family  Father  Mother Gender  Height  Kids  Sex\n",
              "0       1    78.5    67.0      M    73.2     4    0\n",
              "1       1    78.5    67.0      F    69.2     4    1\n",
              "2       1    78.5    67.0      F    69.0     4    1\n",
              "3       1    78.5    67.0      F    69.0     4    1\n",
              "4       2    75.5    66.5      M    73.5     4    0"
            ]
          },
          "execution_count": 48,
          "metadata": {},
          "output_type": "execute_result"
        }
      ],
      "source": [
        "df.head()"
      ]
    },
    {
      "cell_type": "markdown",
      "id": "217d68fc",
      "metadata": {
        "id": "217d68fc"
      },
      "source": [
        "4. Plot a scatterplots of male vs the avarage parents' height and females $\\times 1.08$ (the guess by Galton) _\"which is equivalent to adding a little less than one-twelfthto each female height. It differs a very little from the factors employed by other anthropologists, who, moreover, differ a trifle between themselves; anyhow,  itsuits my data better than 1.07 or 1.09. The final result is not of a kind to be affected by these minute details, for it happened that, owing to a mistaken direction,the computer to whom I first entrusted the figures used a somewhat different factor, yet the result came out closely the same.\"_ http://www.stat.ucla.edu/~nchristo/statistics100C/history_regression.pdf"
      ]
    },
    {
      "cell_type": "code",
      "execution_count": 49,
      "id": "94943955",
      "metadata": {
        "colab": {
          "base_uri": "https://localhost:8080/",
          "height": 448
        },
        "id": "94943955",
        "outputId": "7f835b2c-e405-4f46-a12d-acbbf17ba862"
      },
      "outputs": [],
      "source": [
        "#Your code\n"
      ]
    },
    {
      "cell_type": "markdown",
      "id": "0dfa81c6",
      "metadata": {
        "id": "0dfa81c6"
      },
      "source": [
        "It's a genius guess by Galton allowed him to use more data for analysis"
      ]
    },
    {
      "cell_type": "code",
      "execution_count": null,
      "id": "2b739ea7",
      "metadata": {
        "id": "2b739ea7"
      },
      "outputs": [],
      "source": []
    }
  ],
  "metadata": {
    "colab": {
      "provenance": []
    },
    "kernelspec": {
      "display_name": "Python 3 (ipykernel)",
      "language": "python",
      "name": "python3"
    },
    "language_info": {
      "codemirror_mode": {
        "name": "ipython",
        "version": 3
      },
      "file_extension": ".py",
      "mimetype": "text/x-python",
      "name": "python",
      "nbconvert_exporter": "python",
      "pygments_lexer": "ipython3",
      "version": "3.10.12"
    }
  },
  "nbformat": 4,
  "nbformat_minor": 5
}
