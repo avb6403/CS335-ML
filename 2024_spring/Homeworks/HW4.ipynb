{
  "cells": [
    {
      "cell_type": "markdown",
      "metadata": {
        "id": "KlI_sPCTpv0V"
      },
      "source": [
        "# Homework 4: Text Classification"
      ]
    },
    {
      "cell_type": "markdown",
      "metadata": {
        "id": "NFcPdYN8pv0X"
      },
      "source": [
        "In this homework, you will work with a dataset composed of the posts from Tweetter. The goal is to identify if there is an emergency information in the tweet or not. This is a binary classification task.\n",
        "\n",
        "\\\n",
        "\n",
        "We will use a dataset from Kaggle contest: https://www.kaggle.com/competitions/nlp-getting-started/data Download train.csv and test.csv files. The code below will split the first file into train and validation sets."
      ]
    },
    {
      "cell_type": "code",
      "execution_count": 97,
      "metadata": {
        "id": "eh0GsHQdpv0Z"
      },
      "outputs": [],
      "source": [
        "import pandas as pd"
      ]
    },
    {
      "cell_type": "code",
      "execution_count": 98,
      "metadata": {
        "id": "Y_72DoMVpv0a"
      },
      "outputs": [],
      "source": [
        "data = pd.read_csv('nlp-getting-started/train.csv')"
      ]
    },
    {
      "cell_type": "code",
      "execution_count": 99,
      "metadata": {
        "id": "EoaoUXuNpv0b"
      },
      "outputs": [
        {
          "data": {
            "text/html": [
              "<div>\n",
              "<style scoped>\n",
              "    .dataframe tbody tr th:only-of-type {\n",
              "        vertical-align: middle;\n",
              "    }\n",
              "\n",
              "    .dataframe tbody tr th {\n",
              "        vertical-align: top;\n",
              "    }\n",
              "\n",
              "    .dataframe thead th {\n",
              "        text-align: right;\n",
              "    }\n",
              "</style>\n",
              "<table border=\"1\" class=\"dataframe\">\n",
              "  <thead>\n",
              "    <tr style=\"text-align: right;\">\n",
              "      <th></th>\n",
              "      <th>id</th>\n",
              "      <th>keyword</th>\n",
              "      <th>location</th>\n",
              "      <th>text</th>\n",
              "      <th>target</th>\n",
              "    </tr>\n",
              "  </thead>\n",
              "  <tbody>\n",
              "    <tr>\n",
              "      <th>0</th>\n",
              "      <td>1</td>\n",
              "      <td>NaN</td>\n",
              "      <td>NaN</td>\n",
              "      <td>Our Deeds are the Reason of this #earthquake M...</td>\n",
              "      <td>1</td>\n",
              "    </tr>\n",
              "    <tr>\n",
              "      <th>1</th>\n",
              "      <td>4</td>\n",
              "      <td>NaN</td>\n",
              "      <td>NaN</td>\n",
              "      <td>Forest fire near La Ronge Sask. Canada</td>\n",
              "      <td>1</td>\n",
              "    </tr>\n",
              "    <tr>\n",
              "      <th>2</th>\n",
              "      <td>5</td>\n",
              "      <td>NaN</td>\n",
              "      <td>NaN</td>\n",
              "      <td>All residents asked to 'shelter in place' are ...</td>\n",
              "      <td>1</td>\n",
              "    </tr>\n",
              "    <tr>\n",
              "      <th>3</th>\n",
              "      <td>6</td>\n",
              "      <td>NaN</td>\n",
              "      <td>NaN</td>\n",
              "      <td>13,000 people receive #wildfires evacuation or...</td>\n",
              "      <td>1</td>\n",
              "    </tr>\n",
              "    <tr>\n",
              "      <th>4</th>\n",
              "      <td>7</td>\n",
              "      <td>NaN</td>\n",
              "      <td>NaN</td>\n",
              "      <td>Just got sent this photo from Ruby #Alaska as ...</td>\n",
              "      <td>1</td>\n",
              "    </tr>\n",
              "  </tbody>\n",
              "</table>\n",
              "</div>"
            ],
            "text/plain": [
              "   id keyword location                                               text  \\\n",
              "0   1     NaN      NaN  Our Deeds are the Reason of this #earthquake M...   \n",
              "1   4     NaN      NaN             Forest fire near La Ronge Sask. Canada   \n",
              "2   5     NaN      NaN  All residents asked to 'shelter in place' are ...   \n",
              "3   6     NaN      NaN  13,000 people receive #wildfires evacuation or...   \n",
              "4   7     NaN      NaN  Just got sent this photo from Ruby #Alaska as ...   \n",
              "\n",
              "   target  \n",
              "0       1  \n",
              "1       1  \n",
              "2       1  \n",
              "3       1  \n",
              "4       1  "
            ]
          },
          "execution_count": 99,
          "metadata": {},
          "output_type": "execute_result"
        }
      ],
      "source": [
        "data.head()"
      ]
    },
    {
      "cell_type": "markdown",
      "metadata": {
        "id": "bFtgmczApv0f"
      },
      "source": [
        "## Q1 (1pt)\n",
        "\n",
        "Print information about missing values. Fill in missing values with an empty string [Example in SGD notebook](https://github.com/anton-selitskiy/RIT_ML/blob/main/SGD.ipynb)"
      ]
    },
    {
      "cell_type": "code",
      "execution_count": 100,
      "metadata": {
        "id": "WJfTrXpcr35G"
      },
      "outputs": [
        {
          "data": {
            "text/html": [
              "<div>\n",
              "<style scoped>\n",
              "    .dataframe tbody tr th:only-of-type {\n",
              "        vertical-align: middle;\n",
              "    }\n",
              "\n",
              "    .dataframe tbody tr th {\n",
              "        vertical-align: top;\n",
              "    }\n",
              "\n",
              "    .dataframe thead th {\n",
              "        text-align: right;\n",
              "    }\n",
              "</style>\n",
              "<table border=\"1\" class=\"dataframe\">\n",
              "  <thead>\n",
              "    <tr style=\"text-align: right;\">\n",
              "      <th></th>\n",
              "      <th>id</th>\n",
              "      <th>keyword</th>\n",
              "      <th>location</th>\n",
              "      <th>text</th>\n",
              "      <th>target</th>\n",
              "    </tr>\n",
              "  </thead>\n",
              "  <tbody>\n",
              "    <tr>\n",
              "      <th>0</th>\n",
              "      <td>False</td>\n",
              "      <td>True</td>\n",
              "      <td>True</td>\n",
              "      <td>False</td>\n",
              "      <td>False</td>\n",
              "    </tr>\n",
              "    <tr>\n",
              "      <th>1</th>\n",
              "      <td>False</td>\n",
              "      <td>True</td>\n",
              "      <td>True</td>\n",
              "      <td>False</td>\n",
              "      <td>False</td>\n",
              "    </tr>\n",
              "    <tr>\n",
              "      <th>2</th>\n",
              "      <td>False</td>\n",
              "      <td>True</td>\n",
              "      <td>True</td>\n",
              "      <td>False</td>\n",
              "      <td>False</td>\n",
              "    </tr>\n",
              "    <tr>\n",
              "      <th>3</th>\n",
              "      <td>False</td>\n",
              "      <td>True</td>\n",
              "      <td>True</td>\n",
              "      <td>False</td>\n",
              "      <td>False</td>\n",
              "    </tr>\n",
              "    <tr>\n",
              "      <th>4</th>\n",
              "      <td>False</td>\n",
              "      <td>True</td>\n",
              "      <td>True</td>\n",
              "      <td>False</td>\n",
              "      <td>False</td>\n",
              "    </tr>\n",
              "    <tr>\n",
              "      <th>...</th>\n",
              "      <td>...</td>\n",
              "      <td>...</td>\n",
              "      <td>...</td>\n",
              "      <td>...</td>\n",
              "      <td>...</td>\n",
              "    </tr>\n",
              "    <tr>\n",
              "      <th>7608</th>\n",
              "      <td>False</td>\n",
              "      <td>True</td>\n",
              "      <td>True</td>\n",
              "      <td>False</td>\n",
              "      <td>False</td>\n",
              "    </tr>\n",
              "    <tr>\n",
              "      <th>7609</th>\n",
              "      <td>False</td>\n",
              "      <td>True</td>\n",
              "      <td>True</td>\n",
              "      <td>False</td>\n",
              "      <td>False</td>\n",
              "    </tr>\n",
              "    <tr>\n",
              "      <th>7610</th>\n",
              "      <td>False</td>\n",
              "      <td>True</td>\n",
              "      <td>True</td>\n",
              "      <td>False</td>\n",
              "      <td>False</td>\n",
              "    </tr>\n",
              "    <tr>\n",
              "      <th>7611</th>\n",
              "      <td>False</td>\n",
              "      <td>True</td>\n",
              "      <td>True</td>\n",
              "      <td>False</td>\n",
              "      <td>False</td>\n",
              "    </tr>\n",
              "    <tr>\n",
              "      <th>7612</th>\n",
              "      <td>False</td>\n",
              "      <td>True</td>\n",
              "      <td>True</td>\n",
              "      <td>False</td>\n",
              "      <td>False</td>\n",
              "    </tr>\n",
              "  </tbody>\n",
              "</table>\n",
              "<p>7613 rows × 5 columns</p>\n",
              "</div>"
            ],
            "text/plain": [
              "         id  keyword  location   text  target\n",
              "0     False     True      True  False   False\n",
              "1     False     True      True  False   False\n",
              "2     False     True      True  False   False\n",
              "3     False     True      True  False   False\n",
              "4     False     True      True  False   False\n",
              "...     ...      ...       ...    ...     ...\n",
              "7608  False     True      True  False   False\n",
              "7609  False     True      True  False   False\n",
              "7610  False     True      True  False   False\n",
              "7611  False     True      True  False   False\n",
              "7612  False     True      True  False   False\n",
              "\n",
              "[7613 rows x 5 columns]"
            ]
          },
          "execution_count": 100,
          "metadata": {},
          "output_type": "execute_result"
        }
      ],
      "source": [
        "data.isnull()"
      ]
    },
    {
      "cell_type": "code",
      "execution_count": 101,
      "metadata": {
        "id": "uck7KVcZsmCr"
      },
      "outputs": [
        {
          "data": {
            "text/plain": [
              "id             0\n",
              "keyword       61\n",
              "location    2533\n",
              "text           0\n",
              "target         0\n",
              "dtype: int64"
            ]
          },
          "execution_count": 101,
          "metadata": {},
          "output_type": "execute_result"
        }
      ],
      "source": [
        "data.isnull().sum()"
      ]
    },
    {
      "cell_type": "code",
      "execution_count": 102,
      "metadata": {
        "id": "X6JkH0_Nsc3I"
      },
      "outputs": [],
      "source": [
        "data = data.fillna(\"\")"
      ]
    },
    {
      "cell_type": "code",
      "execution_count": 103,
      "metadata": {
        "id": "yDNd1-wBtiww"
      },
      "outputs": [
        {
          "data": {
            "text/html": [
              "<div>\n",
              "<style scoped>\n",
              "    .dataframe tbody tr th:only-of-type {\n",
              "        vertical-align: middle;\n",
              "    }\n",
              "\n",
              "    .dataframe tbody tr th {\n",
              "        vertical-align: top;\n",
              "    }\n",
              "\n",
              "    .dataframe thead th {\n",
              "        text-align: right;\n",
              "    }\n",
              "</style>\n",
              "<table border=\"1\" class=\"dataframe\">\n",
              "  <thead>\n",
              "    <tr style=\"text-align: right;\">\n",
              "      <th></th>\n",
              "      <th>id</th>\n",
              "      <th>keyword</th>\n",
              "      <th>location</th>\n",
              "      <th>text</th>\n",
              "      <th>target</th>\n",
              "    </tr>\n",
              "  </thead>\n",
              "  <tbody>\n",
              "    <tr>\n",
              "      <th>0</th>\n",
              "      <td>1</td>\n",
              "      <td></td>\n",
              "      <td></td>\n",
              "      <td>Our Deeds are the Reason of this #earthquake M...</td>\n",
              "      <td>1</td>\n",
              "    </tr>\n",
              "    <tr>\n",
              "      <th>1</th>\n",
              "      <td>4</td>\n",
              "      <td></td>\n",
              "      <td></td>\n",
              "      <td>Forest fire near La Ronge Sask. Canada</td>\n",
              "      <td>1</td>\n",
              "    </tr>\n",
              "    <tr>\n",
              "      <th>2</th>\n",
              "      <td>5</td>\n",
              "      <td></td>\n",
              "      <td></td>\n",
              "      <td>All residents asked to 'shelter in place' are ...</td>\n",
              "      <td>1</td>\n",
              "    </tr>\n",
              "    <tr>\n",
              "      <th>3</th>\n",
              "      <td>6</td>\n",
              "      <td></td>\n",
              "      <td></td>\n",
              "      <td>13,000 people receive #wildfires evacuation or...</td>\n",
              "      <td>1</td>\n",
              "    </tr>\n",
              "    <tr>\n",
              "      <th>4</th>\n",
              "      <td>7</td>\n",
              "      <td></td>\n",
              "      <td></td>\n",
              "      <td>Just got sent this photo from Ruby #Alaska as ...</td>\n",
              "      <td>1</td>\n",
              "    </tr>\n",
              "  </tbody>\n",
              "</table>\n",
              "</div>"
            ],
            "text/plain": [
              "   id keyword location                                               text  \\\n",
              "0   1                   Our Deeds are the Reason of this #earthquake M...   \n",
              "1   4                              Forest fire near La Ronge Sask. Canada   \n",
              "2   5                   All residents asked to 'shelter in place' are ...   \n",
              "3   6                   13,000 people receive #wildfires evacuation or...   \n",
              "4   7                   Just got sent this photo from Ruby #Alaska as ...   \n",
              "\n",
              "   target  \n",
              "0       1  \n",
              "1       1  \n",
              "2       1  \n",
              "3       1  \n",
              "4       1  "
            ]
          },
          "execution_count": 103,
          "metadata": {},
          "output_type": "execute_result"
        }
      ],
      "source": [
        "data.head()"
      ]
    },
    {
      "cell_type": "code",
      "execution_count": 104,
      "metadata": {
        "id": "JDUa8dJwfOBc"
      },
      "outputs": [
        {
          "data": {
            "text/plain": [
              "id          0\n",
              "keyword     0\n",
              "location    0\n",
              "text        0\n",
              "target      0\n",
              "dtype: int64"
            ]
          },
          "execution_count": 104,
          "metadata": {},
          "output_type": "execute_result"
        }
      ],
      "source": [
        "data.isnull().sum()"
      ]
    },
    {
      "cell_type": "markdown",
      "metadata": {
        "id": "gN6ORx7PfP6W"
      },
      "source": [
        "Now we will split our data into Test, Validation, and Test sets. You don't want to use Test set untill Q10."
      ]
    },
    {
      "cell_type": "code",
      "execution_count": 105,
      "metadata": {
        "id": "EZw19GDppv0d"
      },
      "outputs": [],
      "source": [
        "from sklearn.model_selection import train_test_split\n",
        "\n",
        "train, validation = train_test_split(data, test_size=0.3, random_state=42)"
      ]
    },
    {
      "cell_type": "code",
      "execution_count": 106,
      "metadata": {
        "id": "53e0l06zSwmH"
      },
      "outputs": [],
      "source": [
        "validation, test = train_test_split(validation, test_size=0.4, random_state=42)"
      ]
    },
    {
      "cell_type": "markdown",
      "metadata": {
        "id": "wD6Lh88gpv0h"
      },
      "source": [
        "## Q2 (2pt)\n",
        "\n",
        "1. What is the distribution of the classes in the Training set?\n",
        "\n",
        "2. Plot the bar-plot for 10 mostly frequent values in column \"keyword\".\n",
        "\n",
        "Comment on the information you've seen. [EDA notbook could be helpful](https://github.com/anton-selitskiy/RIT_ML/blob/main/EDA_and_Pipeline1.ipynb)"
      ]
    },
    {
      "cell_type": "code",
      "execution_count": 107,
      "metadata": {
        "id": "lS2oo6Jguf1J"
      },
      "outputs": [
        {
          "name": "stdout",
          "output_type": "stream",
          "text": [
            "<class 'pandas.core.frame.DataFrame'>\n",
            "Index: 5329 entries, 1186 to 7270\n",
            "Data columns (total 5 columns):\n",
            " #   Column    Non-Null Count  Dtype \n",
            "---  ------    --------------  ----- \n",
            " 0   id        5329 non-null   int64 \n",
            " 1   keyword   5329 non-null   object\n",
            " 2   location  5329 non-null   object\n",
            " 3   text      5329 non-null   object\n",
            " 4   target    5329 non-null   int64 \n",
            "dtypes: int64(2), object(3)\n",
            "memory usage: 249.8+ KB\n"
          ]
        }
      ],
      "source": [
        "train.info()"
      ]
    },
    {
      "cell_type": "code",
      "execution_count": 108,
      "metadata": {
        "id": "jn14riGD27vw"
      },
      "outputs": [
        {
          "data": {
            "text/plain": [
              "keyword\n",
              "              44\n",
              "damage        36\n",
              "siren         35\n",
              "wreckage      34\n",
              "fatalities    33\n",
              "deluge        31\n",
              "refugees      30\n",
              "derail        30\n",
              "fear          30\n",
              "tsunami       30\n",
              "Name: count, dtype: int64"
            ]
          },
          "execution_count": 108,
          "metadata": {},
          "output_type": "execute_result"
        }
      ],
      "source": [
        "keyword_counts = train['keyword'].value_counts().head(10)\n",
        "keyword_counts"
      ]
    },
    {
      "cell_type": "code",
      "execution_count": 109,
      "metadata": {
        "id": "ksdDo9XYvyoQ"
      },
      "outputs": [
        {
          "data": {
            "text/plain": [
              "<Axes: xlabel='keyword'>"
            ]
          },
          "execution_count": 109,
          "metadata": {},
          "output_type": "execute_result"
        },
        {
          "data": {
            "image/png": "[encoded data removed]",
            "text/plain": [
              "<Figure size 640x480 with 1 Axes>"
            ]
          },
          "metadata": {},
          "output_type": "display_data"
        }
      ],
      "source": [
        "keyword_counts.plot(kind='bar')"
      ]
    },
    {
      "cell_type": "markdown",
      "metadata": {},
      "source": [
        "An empty string is the most frequent keyword in this dataset."
      ]
    },
    {
      "cell_type": "markdown",
      "metadata": {
        "id": "KM4yo44Rpv0j"
      },
      "source": [
        "## Q3 (1pt)\n",
        "\n",
        "Join text columns in a new column and delete the column with id."
      ]
    },
    {
      "cell_type": "code",
      "execution_count": 110,
      "metadata": {
        "id": "LzQVIUvow3rP"
      },
      "outputs": [
        {
          "data": {
            "text/html": [
              "<div>\n",
              "<style scoped>\n",
              "    .dataframe tbody tr th:only-of-type {\n",
              "        vertical-align: middle;\n",
              "    }\n",
              "\n",
              "    .dataframe tbody tr th {\n",
              "        vertical-align: top;\n",
              "    }\n",
              "\n",
              "    .dataframe thead th {\n",
              "        text-align: right;\n",
              "    }\n",
              "</style>\n",
              "<table border=\"1\" class=\"dataframe\">\n",
              "  <thead>\n",
              "    <tr style=\"text-align: right;\">\n",
              "      <th></th>\n",
              "      <th>target</th>\n",
              "      <th>Concatenated</th>\n",
              "    </tr>\n",
              "  </thead>\n",
              "  <tbody>\n",
              "    <tr>\n",
              "      <th>1186</th>\n",
              "      <td>0</td>\n",
              "      <td>bridge%20collapseAshes 2015: AustraliaÛªs col...</td>\n",
              "    </tr>\n",
              "    <tr>\n",
              "      <th>4071</th>\n",
              "      <td>1</td>\n",
              "      <td>hailCarol Stream, IllinoisGREAT MICHIGAN TECHN...</td>\n",
              "    </tr>\n",
              "    <tr>\n",
              "      <th>5461</th>\n",
              "      <td>1</td>\n",
              "      <td>policeHouston CNN: Tennessee movie theater sho...</td>\n",
              "    </tr>\n",
              "  </tbody>\n",
              "</table>\n",
              "</div>"
            ],
            "text/plain": [
              "      target                                       Concatenated\n",
              "1186       0  bridge%20collapseAshes 2015: AustraliaÛªs col...\n",
              "4071       1  hailCarol Stream, IllinoisGREAT MICHIGAN TECHN...\n",
              "5461       1  policeHouston CNN: Tennessee movie theater sho..."
            ]
          },
          "execution_count": 110,
          "metadata": {},
          "output_type": "execute_result"
        }
      ],
      "source": [
        "text = train['keyword'] + train['location'] + train['text']\n",
        "train.drop('id', axis=1, inplace=True)\n",
        "train.drop('location', axis=1, inplace=True)\n",
        "train.drop('keyword', axis=1, inplace=True)\n",
        "train.drop('text', axis=1, inplace=True)\n",
        "train['Concatenated'] = text\n",
        "train.head(3)"
      ]
    },
    {
      "cell_type": "code",
      "execution_count": 111,
      "metadata": {
        "colab": {
          "base_uri": "https://localhost:8080/",
          "height": 143
        },
        "id": "Hp47nczsxilR",
        "outputId": "f5d90da6-e093-4f7f-d0c7-0c828b4f9d06"
      },
      "outputs": [
        {
          "data": {
            "text/html": [
              "<div>\n",
              "<style scoped>\n",
              "    .dataframe tbody tr th:only-of-type {\n",
              "        vertical-align: middle;\n",
              "    }\n",
              "\n",
              "    .dataframe tbody tr th {\n",
              "        vertical-align: top;\n",
              "    }\n",
              "\n",
              "    .dataframe thead th {\n",
              "        text-align: right;\n",
              "    }\n",
              "</style>\n",
              "<table border=\"1\" class=\"dataframe\">\n",
              "  <thead>\n",
              "    <tr style=\"text-align: right;\">\n",
              "      <th></th>\n",
              "      <th>target</th>\n",
              "      <th>Concatenated</th>\n",
              "    </tr>\n",
              "  </thead>\n",
              "  <tbody>\n",
              "    <tr>\n",
              "      <th>1740</th>\n",
              "      <td>1</td>\n",
              "      <td>collision'soooota@Zojadelin you literally almo...</td>\n",
              "    </tr>\n",
              "    <tr>\n",
              "      <th>4974</th>\n",
              "      <td>1</td>\n",
              "      <td>meltdownWashington, DCPresident Barack Obama h...</td>\n",
              "    </tr>\n",
              "    <tr>\n",
              "      <th>6053</th>\n",
              "      <td>1</td>\n",
              "      <td>sinkholeA sinkhole grows in Brooklyn: six-mete...</td>\n",
              "    </tr>\n",
              "  </tbody>\n",
              "</table>\n",
              "</div>"
            ],
            "text/plain": [
              "      target                                       Concatenated\n",
              "1740       1  collision'soooota@Zojadelin you literally almo...\n",
              "4974       1  meltdownWashington, DCPresident Barack Obama h...\n",
              "6053       1  sinkholeA sinkhole grows in Brooklyn: six-mete..."
            ]
          },
          "execution_count": 111,
          "metadata": {},
          "output_type": "execute_result"
        }
      ],
      "source": [
        "text = validation['keyword'] + validation['location'] + validation['text']\n",
        "validation.drop('id', axis=1, inplace=True)\n",
        "validation.drop('location', axis=1, inplace=True)\n",
        "validation.drop('keyword', axis=1, inplace=True)\n",
        "validation.drop('text', axis=1, inplace=True)\n",
        "validation['Concatenated'] = text\n",
        "validation.head(3)"
      ]
    },
    {
      "cell_type": "code",
      "execution_count": 112,
      "metadata": {
        "id": "9yUyoyYT3kc6"
      },
      "outputs": [
        {
          "data": {
            "text/html": [
              "<div>\n",
              "<style scoped>\n",
              "    .dataframe tbody tr th:only-of-type {\n",
              "        vertical-align: middle;\n",
              "    }\n",
              "\n",
              "    .dataframe tbody tr th {\n",
              "        vertical-align: top;\n",
              "    }\n",
              "\n",
              "    .dataframe thead th {\n",
              "        text-align: right;\n",
              "    }\n",
              "</style>\n",
              "<table border=\"1\" class=\"dataframe\">\n",
              "  <thead>\n",
              "    <tr style=\"text-align: right;\">\n",
              "      <th></th>\n",
              "      <th>target</th>\n",
              "      <th>Concatenated</th>\n",
              "    </tr>\n",
              "  </thead>\n",
              "  <tbody>\n",
              "    <tr>\n",
              "      <th>6334</th>\n",
              "      <td>0</td>\n",
              "      <td>structural%20failure@SirTitan45  Mega mood swi...</td>\n",
              "    </tr>\n",
              "    <tr>\n",
              "      <th>3892</th>\n",
              "      <td>0</td>\n",
              "      <td>flattenedWahpeton, NDPicking up flattened hay ...</td>\n",
              "    </tr>\n",
              "    <tr>\n",
              "      <th>2662</th>\n",
              "      <td>1</td>\n",
              "      <td>detonateWorldwide52.214904 5.139055 Nuke pleas...</td>\n",
              "    </tr>\n",
              "  </tbody>\n",
              "</table>\n",
              "</div>"
            ],
            "text/plain": [
              "      target                                       Concatenated\n",
              "6334       0  structural%20failure@SirTitan45  Mega mood swi...\n",
              "3892       0  flattenedWahpeton, NDPicking up flattened hay ...\n",
              "2662       1  detonateWorldwide52.214904 5.139055 Nuke pleas..."
            ]
          },
          "execution_count": 112,
          "metadata": {},
          "output_type": "execute_result"
        }
      ],
      "source": [
        "text = test['keyword'] + test['location'] + test['text']\n",
        "test.drop('id', axis=1, inplace=True)\n",
        "test.drop('location', axis=1, inplace=True)\n",
        "test.drop('keyword', axis=1, inplace=True)\n",
        "test.drop('text', axis=1, inplace=True)\n",
        "test['Concatenated'] = text\n",
        "test.head(3)"
      ]
    },
    {
      "cell_type": "markdown",
      "metadata": {
        "id": "WS0LXtJ1pv0j"
      },
      "source": [
        "## Q4 (1pt)\n",
        "\n",
        "Work with train set.\n",
        "\n",
        "1. Transform the data using CountVectorizer.\n",
        "2. What is the shape of the resulted matrix?\n"
      ]
    },
    {
      "cell_type": "code",
      "execution_count": 113,
      "metadata": {
        "id": "dtYKodRM34VQ"
      },
      "outputs": [],
      "source": [
        "from sklearn.feature_extraction.text import CountVectorizer"
      ]
    },
    {
      "cell_type": "code",
      "execution_count": 114,
      "metadata": {
        "id": "nCfHWpEv36CC"
      },
      "outputs": [
        {
          "data": {
            "text/plain": [
              "1186    bridge%20collapseAshes 2015: AustraliaÛªs col...\n",
              "4071    hailCarol Stream, IllinoisGREAT MICHIGAN TECHN...\n",
              "5461    policeHouston CNN: Tennessee movie theater sho...\n",
              "5787    riotingStill rioting in a couple of hours left...\n",
              "7445    woundsLake HighlandsCrack in the path where I ...\n",
              "                              ...                        \n",
              "5226    obliterationMerica!@Eganator2000 There aren't ...\n",
              "5390    panicjust had a panic attack bc I don't have e...\n",
              "860     bloodOmron HEM-712C Automatic Blood Pressure M...\n",
              "7603    Officials say a quarantine is in place at an A...\n",
              "7270    whirlwindStamford & Cork (& Shropshire)I moved...\n",
              "Name: Concatenated, Length: 5329, dtype: object"
            ]
          },
          "execution_count": 114,
          "metadata": {},
          "output_type": "execute_result"
        }
      ],
      "source": [
        "cnt_vec = CountVectorizer()\n",
        "train['Concatenated']"
      ]
    },
    {
      "cell_type": "code",
      "execution_count": 115,
      "metadata": {
        "id": "zQr1ctrr3_iH"
      },
      "outputs": [],
      "source": [
        "bow = cnt_vec.fit_transform(train['Concatenated'])"
      ]
    },
    {
      "cell_type": "code",
      "execution_count": 116,
      "metadata": {
        "id": "4wFx2zh24TkG"
      },
      "outputs": [
        {
          "data": {
            "text/plain": [
              "(5329, 22738)"
            ]
          },
          "execution_count": 116,
          "metadata": {},
          "output_type": "execute_result"
        }
      ],
      "source": [
        "bow.shape"
      ]
    },
    {
      "cell_type": "code",
      "execution_count": 117,
      "metadata": {
        "id": "91oTkUAW4T90"
      },
      "outputs": [
        {
          "data": {
            "text/plain": [
              "array([[0, 0, 0, ..., 0, 0, 0],\n",
              "       [0, 0, 0, ..., 0, 0, 0],\n",
              "       [0, 0, 0, ..., 0, 0, 0],\n",
              "       ...,\n",
              "       [0, 0, 0, ..., 0, 0, 0],\n",
              "       [0, 0, 0, ..., 0, 0, 0],\n",
              "       [0, 0, 0, ..., 0, 0, 0]])"
            ]
          },
          "execution_count": 117,
          "metadata": {},
          "output_type": "execute_result"
        }
      ],
      "source": [
        "bow.toarray()"
      ]
    },
    {
      "cell_type": "markdown",
      "metadata": {
        "id": "gJAGnvs1pv0k"
      },
      "source": [
        "## Q5 (2pt)\n",
        "\n",
        "The matrix in the previous question has many columns. Let's take a look at the dictionary of tokens, method *.vocabulary_* of CountVectorizer object.\n",
        "\n",
        "1. Find all the words in this dictionary that contain digits. How many such words were found?\n",
        "\n",
        "2. Find all the words that contain punctuation characters. How many such words were found?"
      ]
    },
    {
      "cell_type": "code",
      "execution_count": 118,
      "metadata": {
        "id": "0e6FCR8P53Aa"
      },
      "outputs": [],
      "source": [
        "import re"
      ]
    },
    {
      "cell_type": "code",
      "execution_count": 119,
      "metadata": {
        "id": "-9TQAmzb4-dz"
      },
      "outputs": [
        {
          "data": {
            "text/plain": [
              "[('bridge', 4091),\n",
              " ('20collapseashes', 504),\n",
              " ('2015', 297),\n",
              " ('australia', 2943),\n",
              " ('ûªs', 22707),\n",
              " ('collapse', 5237),\n",
              " ('at', 2820),\n",
              " ('trent', 20306),\n",
              " ('among', 2350),\n",
              " ('worst', 21971)]"
            ]
          },
          "execution_count": 119,
          "metadata": {},
          "output_type": "execute_result"
        }
      ],
      "source": [
        "list(cnt_vec.vocabulary_.items())[:10]"
      ]
    },
    {
      "cell_type": "code",
      "execution_count": 120,
      "metadata": {
        "id": "AzIhjh0q6flw"
      },
      "outputs": [
        {
          "data": {
            "text/plain": [
              "['20collapseashes',\n",
              " '2015',\n",
              " '60',\n",
              " 't5trhjuau0',\n",
              " 'b1g',\n",
              " 'bmurph1019',\n",
              " 'termn8r13',\n",
              " 'oaskgki6qj',\n",
              " 'di8elzswnr',\n",
              " '20accidentsomewhere']"
            ]
          },
          "execution_count": 120,
          "metadata": {},
          "output_type": "execute_result"
        }
      ],
      "source": [
        "words_with_digits = [word for word in cnt_vec.vocabulary_.keys() if re.search(r'\\d', word)]\n",
        "words_with_digits[:10]"
      ]
    },
    {
      "cell_type": "code",
      "execution_count": 121,
      "metadata": {
        "id": "vZXwUf6e6hRO"
      },
      "outputs": [
        {
          "data": {
            "text/plain": [
              "4590"
            ]
          },
          "execution_count": 121,
          "metadata": {},
          "output_type": "execute_result"
        }
      ],
      "source": [
        "len(words_with_digits)"
      ]
    },
    {
      "cell_type": "code",
      "execution_count": 122,
      "metadata": {},
      "outputs": [
        {
          "data": {
            "text/plain": [
              "['hail_youtsey',\n",
              " 'û_',\n",
              " '_gaabyx',\n",
              " 'early__may',\n",
              " 'til_now',\n",
              " 'marc_holl',\n",
              " 'mathew_is_angry',\n",
              " 'z3ke_sk1',\n",
              " 'derailed_benchmark',\n",
              " 'chubbysquirrel_']"
            ]
          },
          "execution_count": 122,
          "metadata": {},
          "output_type": "execute_result"
        }
      ],
      "source": [
        "import string\n",
        "punctuation_chars = set(string.punctuation)\n",
        "\n",
        "def contains_punctuation(word):\n",
        "    return any(char in punctuation_chars for char in word)\n",
        "\n",
        "words_with_punctuation = [word for word in cnt_vec.vocabulary_.keys() if contains_punctuation(word)]\n",
        "words_with_punctuation[:10]"
      ]
    },
    {
      "cell_type": "code",
      "execution_count": 123,
      "metadata": {},
      "outputs": [
        {
          "data": {
            "text/plain": [
              "317"
            ]
          },
          "execution_count": 123,
          "metadata": {},
          "output_type": "execute_result"
        }
      ],
      "source": [
        "len(words_with_punctuation)"
      ]
    },
    {
      "cell_type": "markdown",
      "metadata": {
        "id": "u3F1ni6wpv0k"
      },
      "source": [
        "## Q6 (1pt)\n",
        "\n",
        "During the lecture, we learned that there is a special text tokenizer in NLTK called *TweetTokenizer.* Let's try to apply *CountVectorizer* with this tokenizer. Answer all the questions from the previous section using TweetTokenizer and compare the results."
      ]
    },
    {
      "cell_type": "code",
      "execution_count": 124,
      "metadata": {
        "id": "wc2hAf_ipv0l"
      },
      "outputs": [],
      "source": [
        "from nltk.tokenize import TweetTokenizer"
      ]
    },
    {
      "cell_type": "code",
      "execution_count": 125,
      "metadata": {
        "id": "pEkPgwV67czc"
      },
      "outputs": [],
      "source": [
        "tw = TweetTokenizer()"
      ]
    },
    {
      "cell_type": "code",
      "execution_count": 126,
      "metadata": {
        "id": "o672XmWb7czg"
      },
      "outputs": [],
      "source": [
        "cnt_tw_vec = CountVectorizer()\n",
        "tokenized_tweets = [' '.join(tw.tokenize(tweet)) for tweet in train['Concatenated'].tolist()]"
      ]
    },
    {
      "cell_type": "code",
      "execution_count": 127,
      "metadata": {
        "id": "8J3XjgW571mn"
      },
      "outputs": [
        {
          "data": {
            "text/plain": [
              "['20collapseashes',\n",
              " '2015',\n",
              " '60',\n",
              " 't5trhjuau0',\n",
              " 'b1g',\n",
              " 'bmurph1019',\n",
              " 'termn8r13',\n",
              " 'oaskgki6qj',\n",
              " 'di8elzswnr',\n",
              " '20accidentsomewhere']"
            ]
          },
          "execution_count": 127,
          "metadata": {},
          "output_type": "execute_result"
        }
      ],
      "source": [
        "bow_tw = cnt_tw_vec.fit_transform(tokenized_tweets)\n",
        "feature_names = cnt_tw_vec.get_feature_names_out()\n",
        "tw_words_with_digits = [word for word in cnt_tw_vec.vocabulary_.keys() if re.search(r'\\d', word)]\n",
        "tw_words_with_digits[:10]"
      ]
    },
    {
      "cell_type": "code",
      "execution_count": 128,
      "metadata": {
        "id": "oHaBjxvv71mp"
      },
      "outputs": [
        {
          "data": {
            "text/plain": [
              "4435"
            ]
          },
          "execution_count": 128,
          "metadata": {},
          "output_type": "execute_result"
        }
      ],
      "source": [
        "len(tw_words_with_digits)"
      ]
    },
    {
      "cell_type": "code",
      "execution_count": 129,
      "metadata": {},
      "outputs": [
        {
          "data": {
            "text/plain": [
              "['hail_youtsey',\n",
              " 'û_',\n",
              " '_gaabyx',\n",
              " 'early__may',\n",
              " 'til_now',\n",
              " 'marc_holl',\n",
              " 'mathew_is_angry',\n",
              " 'z3ke_sk1',\n",
              " 'derailed_benchmark',\n",
              " 'chubbysquirrel_']"
            ]
          },
          "execution_count": 129,
          "metadata": {},
          "output_type": "execute_result"
        }
      ],
      "source": [
        "words_with_punctuation = [word for word in cnt_tw_vec.vocabulary_.keys() if contains_punctuation(word)]\n",
        "words_with_punctuation[:10]"
      ]
    },
    {
      "cell_type": "code",
      "execution_count": 130,
      "metadata": {},
      "outputs": [
        {
          "data": {
            "text/plain": [
              "316"
            ]
          },
          "execution_count": 130,
          "metadata": {},
          "output_type": "execute_result"
        }
      ],
      "source": [
        "len(words_with_punctuation)"
      ]
    },
    {
      "cell_type": "markdown",
      "metadata": {
        "id": "4LZMjKFjpv0l"
      },
      "source": [
        "## Q7 (4pt)\n",
        "\n",
        "In scikit-learn, we can evaluate the process of counting matrices using CountVectorizer. CountVectorizer, like other inheritors of the _VectorizerMixin, has arguments tokenizer and preprocessor. The preprocessor is applied at the very beginning to each line of your dataset, while the tokenizer should take a string and return tokens.\n",
        "\n",
        "Let's write a custom tokenizer that will do everything we need:\n",
        "\n",
        "1. Convert all letters to lowercase.\n",
        "2. Split the text into tokens using *TweetTokenizer* from the *nltk* package.\n",
        "3. Remove all tokens that contain non-Latin characters, except for emojies (we'll consider tokens containing only punctuation and at least one parenthesis as emoticons) and hashtags that contain only Latin letters after the initial #.\n",
        "4. Remove all tokens listed in nltk.corpus.stopwords.words('english').\n",
        "5. Perform stemming using *SnowballStemmer.*\n",
        "\n",
        "Demonstrate the operation of your function on the first text in the training dataset. You can access it by *.iloc[0]*\n",
        "\n",
        "Usefull site on regular expressions: https://regex101.com/"
      ]
    },
    {
      "cell_type": "code",
      "execution_count": 131,
      "metadata": {
        "id": "CHQ24NRu_HK8"
      },
      "outputs": [],
      "source": [
        "import nltk\n",
        "from nltk.corpus import stopwords\n",
        "from nltk.stem import SnowballStemmer"
      ]
    },
    {
      "cell_type": "code",
      "execution_count": 132,
      "metadata": {
        "id": "c4g5cwrr_J8J"
      },
      "outputs": [
        {
          "name": "stderr",
          "output_type": "stream",
          "text": [
            "[nltk_data] Downloading package stopwords to\n",
            "[nltk_data]     /home/tohab0g/nltk_data...\n",
            "[nltk_data]   Package stopwords is already up-to-date!\n"
          ]
        },
        {
          "data": {
            "text/plain": [
              "True"
            ]
          },
          "execution_count": 132,
          "metadata": {},
          "output_type": "execute_result"
        }
      ],
      "source": [
        "nltk.download('stopwords')"
      ]
    },
    {
      "cell_type": "code",
      "execution_count": 133,
      "metadata": {
        "id": "zDpKCWTA_WJ7"
      },
      "outputs": [],
      "source": [
        "stemmer = SnowballStemmer('english')"
      ]
    },
    {
      "cell_type": "code",
      "execution_count": 134,
      "metadata": {},
      "outputs": [
        {
          "name": "stdout",
          "output_type": "stream",
          "text": [
            "Defaulting to user installation because normal site-packages is not writeable\n",
            "Requirement already satisfied: emoji in /home/tohab0g/.local/lib/python3.10/site-packages (2.10.1)\n"
          ]
        },
        {
          "name": "stdout",
          "output_type": "stream",
          "text": [
            "Note: you may need to restart the kernel to use updated packages.\n"
          ]
        }
      ],
      "source": [
        "%pip install emoji"
      ]
    },
    {
      "cell_type": "code",
      "execution_count": 135,
      "metadata": {},
      "outputs": [],
      "source": [
        "import unicodedata\n",
        "import emoji\n",
        "\n",
        "def is_latin(text):\n",
        "    for char in text:\n",
        "      try:\n",
        "        if not unicodedata.name(char).startswith(('LATIN', 'COMMON')):\n",
        "            return False\n",
        "      except Exception:\n",
        "        return False\n",
        "    return True"
      ]
    },
    {
      "cell_type": "code",
      "execution_count": 136,
      "metadata": {
        "id": "U9etFsDw_cJ5"
      },
      "outputs": [],
      "source": [
        "def custom_tokenizer(text):\n",
        "    # Lowercase transformation\n",
        "    text = text.lower()\n",
        "\n",
        "    # Tokenize using TweetTokenizer\n",
        "    tokens = TweetTokenizer().tokenize(text)\n",
        "\n",
        "    # Filter tokens based on criteria\n",
        "    filtered_tokens = []\n",
        "    for token in tokens:\n",
        "    # Keep tokens that contain only Latin characters, \"smileys\", or valid hashtags\n",
        "        # Check if the token is an emoji (contains only punctuation and at least one parenthesis)\n",
        "        if emoji.is_emoji(token):\n",
        "            # print('here1')\n",
        "            filtered_tokens.append(token)\n",
        "        # Check if the token is a hashtag containing only Latin letters after the initial #\n",
        "        elif re.match(r'^#[A-Za-z]+$', token):\n",
        "            # print('here2')\n",
        "            filtered_tokens.append(token)\n",
        "        # Check if the token contains only Latin characters\n",
        "        elif is_latin(token):\n",
        "            # print('here3')\n",
        "            filtered_tokens.append(token)\n",
        "        elif re.match(r'(\\:\\w+\\:|\\<[\\/\\\\]?3|[\\(\\)\\\\\\D|\\*\\$][\\-\\^]?[\\:\\;\\=]|[\\:\\;\\=B8][\\-\\^]?[3DOPp\\@\\$\\*\\\\\\)\\(\\/\\|])(?=\\s|[\\!\\.\\?]|$)', token):\n",
        "            filtered_tokens.append(token)\n",
        "\n",
        "\n",
        "    # Remove stopwords\n",
        "    stop_words = set(stopwords.words(\"english\"))\n",
        "    filtered_tokens = [token for token in filtered_tokens if token.lower() not in stop_words]\n",
        "\n",
        "    # Perform stemming\n",
        "    stemmed_tokens =  [stemmer.stem(w) for w in filtered_tokens]\n",
        "\n",
        "    return stemmed_tokens"
      ]
    },
    {
      "cell_type": "code",
      "execution_count": 137,
      "metadata": {
        "id": "fGQWVa56B8Kv"
      },
      "outputs": [
        {
          "name": "stdout",
          "output_type": "stream",
          "text": [
            "😀\n"
          ]
        }
      ],
      "source": [
        "train.iloc[0]['Concatenated']\n",
        "print(stemmer.stem(\"😀\"))"
      ]
    },
    {
      "cell_type": "code",
      "execution_count": 138,
      "metadata": {},
      "outputs": [
        {
          "name": "stdout",
          "output_type": "stream",
          "text": [
            "['hi', ':)']\n"
          ]
        }
      ],
      "source": [
        "stemmed_tokens = custom_tokenizer(\"Hi there :)\")\n",
        "print(stemmed_tokens)"
      ]
    },
    {
      "cell_type": "markdown",
      "metadata": {
        "id": "zpQWnpltpv0m"
      },
      "source": [
        "## Q8 (2pt)\n",
        "\n",
        "1. Apply *CountVectorizer* with your tokenizer to the Train and Validation sets.\n",
        "2. Train *LogisticRegression* on the features obtained.\n",
        "3. Calculate f1-score on the validation set."
      ]
    },
    {
      "cell_type": "code",
      "execution_count": 139,
      "metadata": {
        "id": "yeFTsrIxP5pp"
      },
      "outputs": [
        {
          "name": "stderr",
          "output_type": "stream",
          "text": [
            "/home/tohab0g/.local/lib/python3.10/site-packages/sklearn/feature_extraction/text.py:525: UserWarning: The parameter 'token_pattern' will not be used since 'tokenizer' is not None'\n",
            "  warnings.warn(\n"
          ]
        }
      ],
      "source": [
        "from sklearn.preprocessing import MaxAbsScaler\n",
        "count_vec = CountVectorizer(tokenizer=custom_tokenizer)\n",
        "bow = count_vec.fit_transform(train['Concatenated'])\n",
        "bow_valid = count_vec.transform(validation['Concatenated'])\n",
        "scaler = MaxAbsScaler()\n",
        "bow = scaler.fit_transform(bow)\n",
        "bow_valid = scaler.transform(bow_valid)"
      ]
    },
    {
      "cell_type": "code",
      "execution_count": 140,
      "metadata": {
        "id": "cXKe4bh7QMBS"
      },
      "outputs": [],
      "source": [
        "from sklearn.linear_model import LogisticRegression"
      ]
    },
    {
      "cell_type": "code",
      "execution_count": 141,
      "metadata": {
        "id": "s1e7VFTXQMBV"
      },
      "outputs": [],
      "source": [
        "clf_bow = LogisticRegression(max_iter=200, random_state=42)"
      ]
    },
    {
      "cell_type": "code",
      "execution_count": 142,
      "metadata": {
        "id": "Pz7vkG0VQMBW"
      },
      "outputs": [
        {
          "data": {
            "text/html": [
              "<style>#sk-container-id-2 {\n",
              "  /* Definition of color scheme common for light and dark mode */\n",
              "  --sklearn-color-text: black;\n",
              "  --sklearn-color-line: gray;\n",
              "  /* Definition of color scheme for unfitted estimators */\n",
              "  --sklearn-color-unfitted-level-0: #fff5e6;\n",
              "  --sklearn-color-unfitted-level-1: #f6e4d2;\n",
              "  --sklearn-color-unfitted-level-2: #ffe0b3;\n",
              "  --sklearn-color-unfitted-level-3: chocolate;\n",
              "  /* Definition of color scheme for fitted estimators */\n",
              "  --sklearn-color-fitted-level-0: #f0f8ff;\n",
              "  --sklearn-color-fitted-level-1: #d4ebff;\n",
              "  --sklearn-color-fitted-level-2: #b3dbfd;\n",
              "  --sklearn-color-fitted-level-3: cornflowerblue;\n",
              "\n",
              "  /* Specific color for light theme */\n",
              "  --sklearn-color-text-on-default-background: var(--sg-text-color, var(--theme-code-foreground, var(--jp-content-font-color1, black)));\n",
              "  --sklearn-color-background: var(--sg-background-color, var(--theme-background, var(--jp-layout-color0, white)));\n",
              "  --sklearn-color-border-box: var(--sg-text-color, var(--theme-code-foreground, var(--jp-content-font-color1, black)));\n",
              "  --sklearn-color-icon: #696969;\n",
              "\n",
              "  @media (prefers-color-scheme: dark) {\n",
              "    /* Redefinition of color scheme for dark theme */\n",
              "    --sklearn-color-text-on-default-background: var(--sg-text-color, var(--theme-code-foreground, var(--jp-content-font-color1, white)));\n",
              "    --sklearn-color-background: var(--sg-background-color, var(--theme-background, var(--jp-layout-color0, #111)));\n",
              "    --sklearn-color-border-box: var(--sg-text-color, var(--theme-code-foreground, var(--jp-content-font-color1, white)));\n",
              "    --sklearn-color-icon: #878787;\n",
              "  }\n",
              "}\n",
              "\n",
              "#sk-container-id-2 {\n",
              "  color: var(--sklearn-color-text);\n",
              "}\n",
              "\n",
              "#sk-container-id-2 pre {\n",
              "  padding: 0;\n",
              "}\n",
              "\n",
              "#sk-container-id-2 input.sk-hidden--visually {\n",
              "  border: 0;\n",
              "  clip: rect(1px 1px 1px 1px);\n",
              "  clip: rect(1px, 1px, 1px, 1px);\n",
              "  height: 1px;\n",
              "  margin: -1px;\n",
              "  overflow: hidden;\n",
              "  padding: 0;\n",
              "  position: absolute;\n",
              "  width: 1px;\n",
              "}\n",
              "\n",
              "#sk-container-id-2 div.sk-dashed-wrapped {\n",
              "  border: 1px dashed var(--sklearn-color-line);\n",
              "  margin: 0 0.4em 0.5em 0.4em;\n",
              "  box-sizing: border-box;\n",
              "  padding-bottom: 0.4em;\n",
              "  background-color: var(--sklearn-color-background);\n",
              "}\n",
              "\n",
              "#sk-container-id-2 div.sk-container {\n",
              "  /* jupyter's `normalize.less` sets `[hidden] { display: none; }`\n",
              "     but bootstrap.min.css set `[hidden] { display: none !important; }`\n",
              "     so we also need the `!important` here to be able to override the\n",
              "     default hidden behavior on the sphinx rendered scikit-learn.org.\n",
              "     See: https://github.com/scikit-learn/scikit-learn/issues/21755 */\n",
              "  display: inline-block !important;\n",
              "  position: relative;\n",
              "}\n",
              "\n",
              "#sk-container-id-2 div.sk-text-repr-fallback {\n",
              "  display: none;\n",
              "}\n",
              "\n",
              "div.sk-parallel-item,\n",
              "div.sk-serial,\n",
              "div.sk-item {\n",
              "  /* draw centered vertical line to link estimators */\n",
              "  background-image: linear-gradient(var(--sklearn-color-text-on-default-background), var(--sklearn-color-text-on-default-background));\n",
              "  background-size: 2px 100%;\n",
              "  background-repeat: no-repeat;\n",
              "  background-position: center center;\n",
              "}\n",
              "\n",
              "/* Parallel-specific style estimator block */\n",
              "\n",
              "#sk-container-id-2 div.sk-parallel-item::after {\n",
              "  content: \"\";\n",
              "  width: 100%;\n",
              "  border-bottom: 2px solid var(--sklearn-color-text-on-default-background);\n",
              "  flex-grow: 1;\n",
              "}\n",
              "\n",
              "#sk-container-id-2 div.sk-parallel {\n",
              "  display: flex;\n",
              "  align-items: stretch;\n",
              "  justify-content: center;\n",
              "  background-color: var(--sklearn-color-background);\n",
              "  position: relative;\n",
              "}\n",
              "\n",
              "#sk-container-id-2 div.sk-parallel-item {\n",
              "  display: flex;\n",
              "  flex-direction: column;\n",
              "}\n",
              "\n",
              "#sk-container-id-2 div.sk-parallel-item:first-child::after {\n",
              "  align-self: flex-end;\n",
              "  width: 50%;\n",
              "}\n",
              "\n",
              "#sk-container-id-2 div.sk-parallel-item:last-child::after {\n",
              "  align-self: flex-start;\n",
              "  width: 50%;\n",
              "}\n",
              "\n",
              "#sk-container-id-2 div.sk-parallel-item:only-child::after {\n",
              "  width: 0;\n",
              "}\n",
              "\n",
              "/* Serial-specific style estimator block */\n",
              "\n",
              "#sk-container-id-2 div.sk-serial {\n",
              "  display: flex;\n",
              "  flex-direction: column;\n",
              "  align-items: center;\n",
              "  background-color: var(--sklearn-color-background);\n",
              "  padding-right: 1em;\n",
              "  padding-left: 1em;\n",
              "}\n",
              "\n",
              "\n",
              "/* Toggleable style: style used for estimator/Pipeline/ColumnTransformer box that is\n",
              "clickable and can be expanded/collapsed.\n",
              "- Pipeline and ColumnTransformer use this feature and define the default style\n",
              "- Estimators will overwrite some part of the style using the `sk-estimator` class\n",
              "*/\n",
              "\n",
              "/* Pipeline and ColumnTransformer style (default) */\n",
              "\n",
              "#sk-container-id-2 div.sk-toggleable {\n",
              "  /* Default theme specific background. It is overwritten whether we have a\n",
              "  specific estimator or a Pipeline/ColumnTransformer */\n",
              "  background-color: var(--sklearn-color-background);\n",
              "}\n",
              "\n",
              "/* Toggleable label */\n",
              "#sk-container-id-2 label.sk-toggleable__label {\n",
              "  cursor: pointer;\n",
              "  display: block;\n",
              "  width: 100%;\n",
              "  margin-bottom: 0;\n",
              "  padding: 0.5em;\n",
              "  box-sizing: border-box;\n",
              "  text-align: center;\n",
              "}\n",
              "\n",
              "#sk-container-id-2 label.sk-toggleable__label-arrow:before {\n",
              "  /* Arrow on the left of the label */\n",
              "  content: \"▸\";\n",
              "  float: left;\n",
              "  margin-right: 0.25em;\n",
              "  color: var(--sklearn-color-icon);\n",
              "}\n",
              "\n",
              "#sk-container-id-2 label.sk-toggleable__label-arrow:hover:before {\n",
              "  color: var(--sklearn-color-text);\n",
              "}\n",
              "\n",
              "/* Toggleable content - dropdown */\n",
              "\n",
              "#sk-container-id-2 div.sk-toggleable__content {\n",
              "  max-height: 0;\n",
              "  max-width: 0;\n",
              "  overflow: hidden;\n",
              "  text-align: left;\n",
              "  /* unfitted */\n",
              "  background-color: var(--sklearn-color-unfitted-level-0);\n",
              "}\n",
              "\n",
              "#sk-container-id-2 div.sk-toggleable__content.fitted {\n",
              "  /* fitted */\n",
              "  background-color: var(--sklearn-color-fitted-level-0);\n",
              "}\n",
              "\n",
              "#sk-container-id-2 div.sk-toggleable__content pre {\n",
              "  margin: 0.2em;\n",
              "  border-radius: 0.25em;\n",
              "  color: var(--sklearn-color-text);\n",
              "  /* unfitted */\n",
              "  background-color: var(--sklearn-color-unfitted-level-0);\n",
              "}\n",
              "\n",
              "#sk-container-id-2 div.sk-toggleable__content.fitted pre {\n",
              "  /* unfitted */\n",
              "  background-color: var(--sklearn-color-fitted-level-0);\n",
              "}\n",
              "\n",
              "#sk-container-id-2 input.sk-toggleable__control:checked~div.sk-toggleable__content {\n",
              "  /* Expand drop-down */\n",
              "  max-height: 200px;\n",
              "  max-width: 100%;\n",
              "  overflow: auto;\n",
              "}\n",
              "\n",
              "#sk-container-id-2 input.sk-toggleable__control:checked~label.sk-toggleable__label-arrow:before {\n",
              "  content: \"▾\";\n",
              "}\n",
              "\n",
              "/* Pipeline/ColumnTransformer-specific style */\n",
              "\n",
              "#sk-container-id-2 div.sk-label input.sk-toggleable__control:checked~label.sk-toggleable__label {\n",
              "  color: var(--sklearn-color-text);\n",
              "  background-color: var(--sklearn-color-unfitted-level-2);\n",
              "}\n",
              "\n",
              "#sk-container-id-2 div.sk-label.fitted input.sk-toggleable__control:checked~label.sk-toggleable__label {\n",
              "  background-color: var(--sklearn-color-fitted-level-2);\n",
              "}\n",
              "\n",
              "/* Estimator-specific style */\n",
              "\n",
              "/* Colorize estimator box */\n",
              "#sk-container-id-2 div.sk-estimator input.sk-toggleable__control:checked~label.sk-toggleable__label {\n",
              "  /* unfitted */\n",
              "  background-color: var(--sklearn-color-unfitted-level-2);\n",
              "}\n",
              "\n",
              "#sk-container-id-2 div.sk-estimator.fitted input.sk-toggleable__control:checked~label.sk-toggleable__label {\n",
              "  /* fitted */\n",
              "  background-color: var(--sklearn-color-fitted-level-2);\n",
              "}\n",
              "\n",
              "#sk-container-id-2 div.sk-label label.sk-toggleable__label,\n",
              "#sk-container-id-2 div.sk-label label {\n",
              "  /* The background is the default theme color */\n",
              "  color: var(--sklearn-color-text-on-default-background);\n",
              "}\n",
              "\n",
              "/* On hover, darken the color of the background */\n",
              "#sk-container-id-2 div.sk-label:hover label.sk-toggleable__label {\n",
              "  color: var(--sklearn-color-text);\n",
              "  background-color: var(--sklearn-color-unfitted-level-2);\n",
              "}\n",
              "\n",
              "/* Label box, darken color on hover, fitted */\n",
              "#sk-container-id-2 div.sk-label.fitted:hover label.sk-toggleable__label.fitted {\n",
              "  color: var(--sklearn-color-text);\n",
              "  background-color: var(--sklearn-color-fitted-level-2);\n",
              "}\n",
              "\n",
              "/* Estimator label */\n",
              "\n",
              "#sk-container-id-2 div.sk-label label {\n",
              "  font-family: monospace;\n",
              "  font-weight: bold;\n",
              "  display: inline-block;\n",
              "  line-height: 1.2em;\n",
              "}\n",
              "\n",
              "#sk-container-id-2 div.sk-label-container {\n",
              "  text-align: center;\n",
              "}\n",
              "\n",
              "/* Estimator-specific */\n",
              "#sk-container-id-2 div.sk-estimator {\n",
              "  font-family: monospace;\n",
              "  border: 1px dotted var(--sklearn-color-border-box);\n",
              "  border-radius: 0.25em;\n",
              "  box-sizing: border-box;\n",
              "  margin-bottom: 0.5em;\n",
              "  /* unfitted */\n",
              "  background-color: var(--sklearn-color-unfitted-level-0);\n",
              "}\n",
              "\n",
              "#sk-container-id-2 div.sk-estimator.fitted {\n",
              "  /* fitted */\n",
              "  background-color: var(--sklearn-color-fitted-level-0);\n",
              "}\n",
              "\n",
              "/* on hover */\n",
              "#sk-container-id-2 div.sk-estimator:hover {\n",
              "  /* unfitted */\n",
              "  background-color: var(--sklearn-color-unfitted-level-2);\n",
              "}\n",
              "\n",
              "#sk-container-id-2 div.sk-estimator.fitted:hover {\n",
              "  /* fitted */\n",
              "  background-color: var(--sklearn-color-fitted-level-2);\n",
              "}\n",
              "\n",
              "/* Specification for estimator info (e.g. \"i\" and \"?\") */\n",
              "\n",
              "/* Common style for \"i\" and \"?\" */\n",
              "\n",
              ".sk-estimator-doc-link,\n",
              "a:link.sk-estimator-doc-link,\n",
              "a:visited.sk-estimator-doc-link {\n",
              "  float: right;\n",
              "  font-size: smaller;\n",
              "  line-height: 1em;\n",
              "  font-family: monospace;\n",
              "  background-color: var(--sklearn-color-background);\n",
              "  border-radius: 1em;\n",
              "  height: 1em;\n",
              "  width: 1em;\n",
              "  text-decoration: none !important;\n",
              "  margin-left: 1ex;\n",
              "  /* unfitted */\n",
              "  border: var(--sklearn-color-unfitted-level-1) 1pt solid;\n",
              "  color: var(--sklearn-color-unfitted-level-1);\n",
              "}\n",
              "\n",
              ".sk-estimator-doc-link.fitted,\n",
              "a:link.sk-estimator-doc-link.fitted,\n",
              "a:visited.sk-estimator-doc-link.fitted {\n",
              "  /* fitted */\n",
              "  border: var(--sklearn-color-fitted-level-1) 1pt solid;\n",
              "  color: var(--sklearn-color-fitted-level-1);\n",
              "}\n",
              "\n",
              "/* On hover */\n",
              "div.sk-estimator:hover .sk-estimator-doc-link:hover,\n",
              ".sk-estimator-doc-link:hover,\n",
              "div.sk-label-container:hover .sk-estimator-doc-link:hover,\n",
              ".sk-estimator-doc-link:hover {\n",
              "  /* unfitted */\n",
              "  background-color: var(--sklearn-color-unfitted-level-3);\n",
              "  color: var(--sklearn-color-background);\n",
              "  text-decoration: none;\n",
              "}\n",
              "\n",
              "div.sk-estimator.fitted:hover .sk-estimator-doc-link.fitted:hover,\n",
              ".sk-estimator-doc-link.fitted:hover,\n",
              "div.sk-label-container:hover .sk-estimator-doc-link.fitted:hover,\n",
              ".sk-estimator-doc-link.fitted:hover {\n",
              "  /* fitted */\n",
              "  background-color: var(--sklearn-color-fitted-level-3);\n",
              "  color: var(--sklearn-color-background);\n",
              "  text-decoration: none;\n",
              "}\n",
              "\n",
              "/* Span, style for the box shown on hovering the info icon */\n",
              ".sk-estimator-doc-link span {\n",
              "  display: none;\n",
              "  z-index: 9999;\n",
              "  position: relative;\n",
              "  font-weight: normal;\n",
              "  right: .2ex;\n",
              "  padding: .5ex;\n",
              "  margin: .5ex;\n",
              "  width: min-content;\n",
              "  min-width: 20ex;\n",
              "  max-width: 50ex;\n",
              "  color: var(--sklearn-color-text);\n",
              "  box-shadow: 2pt 2pt 4pt #999;\n",
              "  /* unfitted */\n",
              "  background: var(--sklearn-color-unfitted-level-0);\n",
              "  border: .5pt solid var(--sklearn-color-unfitted-level-3);\n",
              "}\n",
              "\n",
              ".sk-estimator-doc-link.fitted span {\n",
              "  /* fitted */\n",
              "  background: var(--sklearn-color-fitted-level-0);\n",
              "  border: var(--sklearn-color-fitted-level-3);\n",
              "}\n",
              "\n",
              ".sk-estimator-doc-link:hover span {\n",
              "  display: block;\n",
              "}\n",
              "\n",
              "/* \"?\"-specific style due to the `<a>` HTML tag */\n",
              "\n",
              "#sk-container-id-2 a.estimator_doc_link {\n",
              "  float: right;\n",
              "  font-size: 1rem;\n",
              "  line-height: 1em;\n",
              "  font-family: monospace;\n",
              "  background-color: var(--sklearn-color-background);\n",
              "  border-radius: 1rem;\n",
              "  height: 1rem;\n",
              "  width: 1rem;\n",
              "  text-decoration: none;\n",
              "  /* unfitted */\n",
              "  color: var(--sklearn-color-unfitted-level-1);\n",
              "  border: var(--sklearn-color-unfitted-level-1) 1pt solid;\n",
              "}\n",
              "\n",
              "#sk-container-id-2 a.estimator_doc_link.fitted {\n",
              "  /* fitted */\n",
              "  border: var(--sklearn-color-fitted-level-1) 1pt solid;\n",
              "  color: var(--sklearn-color-fitted-level-1);\n",
              "}\n",
              "\n",
              "/* On hover */\n",
              "#sk-container-id-2 a.estimator_doc_link:hover {\n",
              "  /* unfitted */\n",
              "  background-color: var(--sklearn-color-unfitted-level-3);\n",
              "  color: var(--sklearn-color-background);\n",
              "  text-decoration: none;\n",
              "}\n",
              "\n",
              "#sk-container-id-2 a.estimator_doc_link.fitted:hover {\n",
              "  /* fitted */\n",
              "  background-color: var(--sklearn-color-fitted-level-3);\n",
              "}\n",
              "</style><div id=\"sk-container-id-2\" class=\"sk-top-container\"><div class=\"sk-text-repr-fallback\"><pre>LogisticRegression(max_iter=200, random_state=42)</pre><b>In a Jupyter environment, please rerun this cell to show the HTML representation or trust the notebook. <br />On GitHub, the HTML representation is unable to render, please try loading this page with nbviewer.org.</b></div><div class=\"sk-container\" hidden><div class=\"sk-item\"><div class=\"sk-estimator fitted sk-toggleable\"><input class=\"sk-toggleable__control sk-hidden--visually\" id=\"sk-estimator-id-2\" type=\"checkbox\" checked><label for=\"sk-estimator-id-2\" class=\"sk-toggleable__label fitted sk-toggleable__label-arrow fitted\">&nbsp;&nbsp;LogisticRegression<a class=\"sk-estimator-doc-link fitted\" rel=\"noreferrer\" target=\"_blank\" href=\"https://scikit-learn.org/1.4/modules/generated/sklearn.linear_model.LogisticRegression.html\">?<span>Documentation for LogisticRegression</span></a><span class=\"sk-estimator-doc-link fitted\">i<span>Fitted</span></span></label><div class=\"sk-toggleable__content fitted\"><pre>LogisticRegression(max_iter=200, random_state=42)</pre></div> </div></div></div></div>"
            ],
            "text/plain": [
              "LogisticRegression(max_iter=200, random_state=42)"
            ]
          },
          "execution_count": 142,
          "metadata": {},
          "output_type": "execute_result"
        }
      ],
      "source": [
        "clf_bow.fit(bow, train['target'])"
      ]
    },
    {
      "cell_type": "code",
      "execution_count": 143,
      "metadata": {
        "id": "mxODuaZpQhJX"
      },
      "outputs": [],
      "source": [
        "pred = clf_bow.predict(bow_valid)"
      ]
    },
    {
      "cell_type": "code",
      "execution_count": 144,
      "metadata": {
        "id": "I1A_3_DSQtXP"
      },
      "outputs": [],
      "source": [
        "from sklearn.metrics import classification_report"
      ]
    },
    {
      "cell_type": "code",
      "execution_count": 145,
      "metadata": {
        "id": "FNYWE2sURC3P"
      },
      "outputs": [
        {
          "name": "stdout",
          "output_type": "stream",
          "text": [
            "              precision    recall  f1-score   support\n",
            "\n",
            "           0       0.79      0.87      0.83       807\n",
            "           1       0.79      0.67      0.73       563\n",
            "\n",
            "    accuracy                           0.79      1370\n",
            "   macro avg       0.79      0.77      0.78      1370\n",
            "weighted avg       0.79      0.79      0.79      1370\n",
            "\n"
          ]
        }
      ],
      "source": [
        "print(classification_report(validation['target'], pred))"
      ]
    },
    {
      "cell_type": "code",
      "execution_count": 146,
      "metadata": {
        "id": "zkM7mhB_RPgw"
      },
      "outputs": [
        {
          "data": {
            "text/plain": [
              "13975"
            ]
          },
          "execution_count": 146,
          "metadata": {},
          "output_type": "execute_result"
        }
      ],
      "source": [
        "clf_bow.n_features_in_"
      ]
    },
    {
      "cell_type": "code",
      "execution_count": 147,
      "metadata": {
        "id": "h2fYwhfdRPgx"
      },
      "outputs": [
        {
          "data": {
            "text/plain": [
              "<5329x13975 sparse matrix of type '<class 'numpy.float64'>'\n",
              "\twith 48933 stored elements in Compressed Sparse Row format>"
            ]
          },
          "execution_count": 147,
          "metadata": {},
          "output_type": "execute_result"
        }
      ],
      "source": [
        "bow"
      ]
    },
    {
      "cell_type": "markdown",
      "metadata": {
        "id": "DLDBbCk_pv0m"
      },
      "source": [
        "## Q9 (2pt)\n",
        "\n",
        "1. Repeat Q8, but with a TF-IDF vectorizer. How did the quality change?\n",
        "\n",
        "2. We can further reduce the size of our matrix by discarding *df* values close to one. Most likely, such words do not carry much information about the category since they occur quite frequently. Limit the maximum df in the parameters of TfIdfVectorizer, set the upper limit to 0.9. How did the matrix size change, and how did the quality change?\n",
        "\n",
        "3. We can also reduce the size of the matrix by removing words with very small *df* values. Were you able to improve the quality by doing this?"
      ]
    },
    {
      "cell_type": "code",
      "execution_count": 148,
      "metadata": {
        "id": "sMAA2hLOWef-"
      },
      "outputs": [],
      "source": [
        "from sklearn.feature_extraction.text import TfidfVectorizer"
      ]
    },
    {
      "cell_type": "code",
      "execution_count": 149,
      "metadata": {
        "id": "zIuiSBc7Rsiw"
      },
      "outputs": [],
      "source": [
        "vec1 = TfidfVectorizer(tokenizer=custom_tokenizer)"
      ]
    },
    {
      "cell_type": "code",
      "execution_count": 150,
      "metadata": {
        "id": "9CvelSouWmUI"
      },
      "outputs": [
        {
          "name": "stderr",
          "output_type": "stream",
          "text": [
            "/home/tohab0g/.local/lib/python3.10/site-packages/sklearn/feature_extraction/text.py:525: UserWarning: The parameter 'token_pattern' will not be used since 'tokenizer' is not None'\n",
            "  warnings.warn(\n"
          ]
        },
        {
          "name": "stdout",
          "output_type": "stream",
          "text": [
            "              precision    recall  f1-score   support\n",
            "\n",
            "           0       0.80      0.84      0.82       807\n",
            "           1       0.75      0.69      0.72       563\n",
            "\n",
            "    accuracy                           0.78      1370\n",
            "   macro avg       0.78      0.77      0.77      1370\n",
            "weighted avg       0.78      0.78      0.78      1370\n",
            "\n"
          ]
        }
      ],
      "source": [
        "vec1_train = vec1.fit_transform(train['Concatenated'])\n",
        "vec1_valid = vec1.transform(validation['Concatenated'])\n",
        "scaler = MaxAbsScaler()\n",
        "vec1_train = scaler.fit_transform(vec1_train)\n",
        "vec1_valid = scaler.transform(vec1_valid)\n",
        "\n",
        "clf1 = LogisticRegression(max_iter=200, random_state=42)\n",
        "clf1.fit(vec1_train, train['target'])\n",
        "pred = clf1.predict(vec1_valid)\n",
        "print(classification_report(validation['target'], pred))"
      ]
    },
    {
      "cell_type": "code",
      "execution_count": 151,
      "metadata": {
        "id": "dvSASmIpWmUK"
      },
      "outputs": [
        {
          "data": {
            "text/plain": [
              "(5329, 13975)"
            ]
          },
          "execution_count": 151,
          "metadata": {},
          "output_type": "execute_result"
        }
      ],
      "source": [
        "vec1_train.shape"
      ]
    },
    {
      "cell_type": "code",
      "execution_count": 152,
      "metadata": {
        "id": "gob0eJ33WmUL"
      },
      "outputs": [
        {
          "name": "stderr",
          "output_type": "stream",
          "text": [
            "/home/tohab0g/.local/lib/python3.10/site-packages/sklearn/feature_extraction/text.py:525: UserWarning: The parameter 'token_pattern' will not be used since 'tokenizer' is not None'\n",
            "  warnings.warn(\n"
          ]
        },
        {
          "name": "stdout",
          "output_type": "stream",
          "text": [
            "              precision    recall  f1-score   support\n",
            "\n",
            "           0       0.80      0.84      0.82       807\n",
            "           1       0.75      0.69      0.72       563\n",
            "\n",
            "    accuracy                           0.78      1370\n",
            "   macro avg       0.78      0.77      0.77      1370\n",
            "weighted avg       0.78      0.78      0.78      1370\n",
            "\n"
          ]
        }
      ],
      "source": [
        "vec2 = TfidfVectorizer(tokenizer=custom_tokenizer, max_df=0.9)\n",
        "vec2_train = vec2.fit_transform(train['Concatenated'])\n",
        "vec2_valid = vec2.transform(validation['Concatenated'])\n",
        "scaler = MaxAbsScaler()\n",
        "vec2_train = scaler.fit_transform(vec2_train)\n",
        "vec2_valid = scaler.transform(vec2_valid)\n",
        "\n",
        "clf2 = LogisticRegression(max_iter=200, random_state=42)\n",
        "clf2.fit(vec2_train, train['target'])\n",
        "pred = clf2.predict(vec2_valid)\n",
        "print(classification_report(validation['target'], pred))"
      ]
    },
    {
      "cell_type": "code",
      "execution_count": 153,
      "metadata": {
        "id": "6qXxve1dWmUM"
      },
      "outputs": [
        {
          "data": {
            "text/plain": [
              "<5329x13975 sparse matrix of type '<class 'numpy.float64'>'\n",
              "\twith 48933 stored elements in Compressed Sparse Row format>"
            ]
          },
          "execution_count": 153,
          "metadata": {},
          "output_type": "execute_result"
        }
      ],
      "source": [
        "vec2_train"
      ]
    },
    {
      "cell_type": "code",
      "execution_count": 154,
      "metadata": {
        "id": "kPGHQfABW8hQ"
      },
      "outputs": [
        {
          "name": "stderr",
          "output_type": "stream",
          "text": [
            "/home/tohab0g/.local/lib/python3.10/site-packages/sklearn/feature_extraction/text.py:525: UserWarning: The parameter 'token_pattern' will not be used since 'tokenizer' is not None'\n",
            "  warnings.warn(\n"
          ]
        },
        {
          "name": "stdout",
          "output_type": "stream",
          "text": [
            "              precision    recall  f1-score   support\n",
            "\n",
            "           0       0.79      0.83      0.81       807\n",
            "           1       0.74      0.68      0.71       563\n",
            "\n",
            "    accuracy                           0.77      1370\n",
            "   macro avg       0.76      0.76      0.76      1370\n",
            "weighted avg       0.77      0.77      0.77      1370\n",
            "\n"
          ]
        }
      ],
      "source": [
        "vec3 = TfidfVectorizer(tokenizer=custom_tokenizer, max_df=0.9, min_df=0.001)\n",
        "vec3_train = vec3.fit_transform(train['Concatenated'])\n",
        "vec3_valid = vec3.transform(validation['Concatenated'])\n",
        "scaler = MaxAbsScaler()\n",
        "vec3_train = scaler.fit_transform(vec3_train)\n",
        "vec3_valid = scaler.transform(vec3_valid)\n",
        "\n",
        "clf3 = LogisticRegression(max_iter=200, random_state=42)\n",
        "clf3.fit(vec3_train, train['target'])\n",
        "pred = clf3.predict(vec3_valid)\n",
        "print(classification_report(validation['target'], pred))"
      ]
    },
    {
      "cell_type": "code",
      "execution_count": 155,
      "metadata": {
        "id": "6VbhC57NW85F"
      },
      "outputs": [
        {
          "data": {
            "text/plain": [
              "<5329x1576 sparse matrix of type '<class 'numpy.float64'>'\n",
              "\twith 31409 stored elements in Compressed Sparse Row format>"
            ]
          },
          "execution_count": 155,
          "metadata": {},
          "output_type": "execute_result"
        }
      ],
      "source": [
        "vec3_train"
      ]
    },
    {
      "cell_type": "markdown",
      "metadata": {
        "id": "dQX1FcJzpv0n"
      },
      "source": [
        "## Q10 (2pt)\n",
        "\n",
        "Evaluate the best model. The minimal value of f1-score on the Test data should be at least 0.75."
      ]
    },
    {
      "cell_type": "code",
      "execution_count": 156,
      "metadata": {
        "id": "nGLzBeA9RyP_"
      },
      "outputs": [
        {
          "name": "stderr",
          "output_type": "stream",
          "text": [
            "/home/tohab0g/.local/lib/python3.10/site-packages/sklearn/feature_extraction/text.py:525: UserWarning: The parameter 'token_pattern' will not be used since 'tokenizer' is not None'\n",
            "  warnings.warn(\n"
          ]
        },
        {
          "name": "stdout",
          "output_type": "stream",
          "text": [
            "              precision    recall  f1-score   support\n",
            "\n",
            "           0       0.76      0.87      0.81       511\n",
            "           1       0.80      0.66      0.72       403\n",
            "\n",
            "    accuracy                           0.78       914\n",
            "   macro avg       0.78      0.76      0.77       914\n",
            "weighted avg       0.78      0.78      0.77       914\n",
            "\n"
          ]
        }
      ],
      "source": [
        "from sklearn.preprocessing import MaxAbsScaler\n",
        "count_vec = CountVectorizer(tokenizer=custom_tokenizer)\n",
        "bow = count_vec.fit_transform(train['Concatenated'])\n",
        "bow_test = count_vec.transform(test['Concatenated'])\n",
        "scaler = MaxAbsScaler()\n",
        "bow = scaler.fit_transform(bow)\n",
        "bow_test = scaler.transform(bow_test)\n",
        "clf_bow = LogisticRegression(max_iter=200, random_state=42)\n",
        "clf_bow.fit(bow, train['target'])\n",
        "pred = clf_bow.predict(bow_test)\n",
        "print(classification_report(test['target'], pred))"
      ]
    },
    {
      "cell_type": "code",
      "execution_count": 157,
      "metadata": {
        "id": "9rkxZyq4ULUX"
      },
      "outputs": [
        {
          "name": "stderr",
          "output_type": "stream",
          "text": [
            "/home/tohab0g/.local/lib/python3.10/site-packages/sklearn/feature_extraction/text.py:525: UserWarning: The parameter 'token_pattern' will not be used since 'tokenizer' is not None'\n",
            "  warnings.warn(\n"
          ]
        },
        {
          "name": "stdout",
          "output_type": "stream",
          "text": [
            "              precision    recall  f1-score   support\n",
            "\n",
            "           0       0.78      0.86      0.82       511\n",
            "           1       0.79      0.69      0.74       403\n",
            "\n",
            "    accuracy                           0.78       914\n",
            "   macro avg       0.78      0.77      0.78       914\n",
            "weighted avg       0.78      0.78      0.78       914\n",
            "\n"
          ]
        }
      ],
      "source": [
        "vec1 = TfidfVectorizer(tokenizer=custom_tokenizer)\n",
        "vec1_train = vec1.fit_transform(train['Concatenated'])\n",
        "vec1_test = vec1.transform(test['Concatenated'])\n",
        "scaler = MaxAbsScaler()\n",
        "vec1_train = scaler.fit_transform(vec1_train)\n",
        "vec1_test = scaler.transform(vec1_test)\n",
        "\n",
        "clf1 = LogisticRegression(max_iter=200, random_state=42)\n",
        "clf1.fit(vec1_train, train['target'])\n",
        "pred = clf1.predict(vec1_test)\n",
        "print(classification_report(test['target'], pred))"
      ]
    },
    {
      "cell_type": "code",
      "execution_count": 158,
      "metadata": {
        "id": "6-3f7Qn8R9HZ"
      },
      "outputs": [
        {
          "name": "stderr",
          "output_type": "stream",
          "text": [
            "/home/tohab0g/.local/lib/python3.10/site-packages/sklearn/feature_extraction/text.py:525: UserWarning: The parameter 'token_pattern' will not be used since 'tokenizer' is not None'\n",
            "  warnings.warn(\n"
          ]
        },
        {
          "name": "stdout",
          "output_type": "stream",
          "text": [
            "              precision    recall  f1-score   support\n",
            "\n",
            "           0       0.78      0.86      0.82       511\n",
            "           1       0.79      0.69      0.74       403\n",
            "\n",
            "    accuracy                           0.78       914\n",
            "   macro avg       0.78      0.77      0.78       914\n",
            "weighted avg       0.78      0.78      0.78       914\n",
            "\n"
          ]
        }
      ],
      "source": [
        "vec2 = TfidfVectorizer(tokenizer=custom_tokenizer, max_df=0.9)\n",
        "vec2_train = vec2.fit_transform(train['Concatenated'])\n",
        "vec2_test = vec2.transform(test['Concatenated'])\n",
        "scaler = MaxAbsScaler()\n",
        "vec2_train = scaler.fit_transform(vec2_train)\n",
        "vec2_test = scaler.transform(vec2_test)\n",
        "\n",
        "clf2 = LogisticRegression(max_iter=200, random_state=42)\n",
        "clf2.fit(vec2_train, train['target'])\n",
        "pred = clf2.predict(vec2_test)\n",
        "print(classification_report(test['target'], pred))"
      ]
    },
    {
      "cell_type": "code",
      "execution_count": 159,
      "metadata": {
        "id": "hBsD_hr7SSFZ"
      },
      "outputs": [
        {
          "name": "stderr",
          "output_type": "stream",
          "text": [
            "/home/tohab0g/.local/lib/python3.10/site-packages/sklearn/feature_extraction/text.py:525: UserWarning: The parameter 'token_pattern' will not be used since 'tokenizer' is not None'\n",
            "  warnings.warn(\n"
          ]
        },
        {
          "name": "stdout",
          "output_type": "stream",
          "text": [
            "              precision    recall  f1-score   support\n",
            "\n",
            "           0       0.78      0.88      0.83       511\n",
            "           1       0.82      0.69      0.75       403\n",
            "\n",
            "    accuracy                           0.80       914\n",
            "   macro avg       0.80      0.79      0.79       914\n",
            "weighted avg       0.80      0.80      0.80       914\n",
            "\n"
          ]
        }
      ],
      "source": [
        "vec3 = TfidfVectorizer(tokenizer=custom_tokenizer, max_df=0.9, min_df=0.001)\n",
        "vec3_train = vec3.fit_transform(train['Concatenated'])\n",
        "vec3_test = vec3.transform(test['Concatenated'])\n",
        "scaler = MaxAbsScaler()\n",
        "vec3_train = scaler.fit_transform(vec3_train)\n",
        "vec3_test = scaler.transform(vec3_test)\n",
        "\n",
        "clf3 = LogisticRegression(max_iter=200, random_state=42)\n",
        "clf3.fit(vec3_train, train['target'])\n",
        "pred = clf3.predict(vec3_test)\n",
        "print(classification_report(test['target'], pred))"
      ]
    },
    {
      "cell_type": "markdown",
      "metadata": {
        "id": "xhNq40sJwyUv"
      },
      "source": [
        "## Q11 (2pt)\n",
        "Visualize the most important features."
      ]
    },
    {
      "cell_type": "code",
      "execution_count": 160,
      "metadata": {
        "id": "yoi6yuSaUzjb"
      },
      "outputs": [
        {
          "data": {
            "image/png": "[encoded data removed]",
            "text/plain": [
              "<Figure size 1500x500 with 1 Axes>"
            ]
          },
          "metadata": {},
          "output_type": "display_data"
        }
      ],
      "source": [
        "import numpy as np\n",
        "from matplotlib import pylab as plt\n",
        "%matplotlib inline\n",
        "\n",
        "def visualize_coeefficients(classifier, feature_names, n_features=25):\n",
        "  coef = classifier.coef_.ravel()\n",
        "  positive_coefficients = np.argsort(coef)[-n_features:]\n",
        "  negative_coefficients = np.argsort(coef)[:n_features]\n",
        "  all_coefs = np.hstack([negative_coefficients, positive_coefficients])\n",
        "\n",
        "  plt.figure(figsize=(15, 5))\n",
        "  colors = [\"red\" if c < 0 else \"blue\" for c in coef[all_coefs]]\n",
        "  plt.bar(np.arange(2*n_features), coef[all_coefs], color=colors)\n",
        "  feature_names = np.array(feature_names)\n",
        "  plt.xticks(np.arange(1, 1+2*n_features), feature_names[all_coefs], rotation=60, ha=\"right\")\n",
        "\n",
        "visualize_coeefficients(clf3, vec3.get_feature_names_out())"
      ]
    },
    {
      "cell_type": "markdown",
      "metadata": {},
      "source": [
        "From the plot above, words suicid, hiroshima, earthquake, fire have a blue color or classfied as a disaster."
      ]
    }
  ],
  "metadata": {
    "colab": {
      "provenance": []
    },
    "kernelspec": {
      "display_name": "Python 3 (ipykernel)",
      "language": "python",
      "name": "python3"
    },
    "language_info": {
      "codemirror_mode": {
        "name": "ipython",
        "version": 3
      },
      "file_extension": ".py",
      "mimetype": "text/x-python",
      "name": "python",
      "nbconvert_exporter": "python",
      "pygments_lexer": "ipython3",
      "version": "3.10.12"
    }
  },
  "nbformat": 4,
  "nbformat_minor": 0
}
