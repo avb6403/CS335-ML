{
  "nbformat": 4,
  "nbformat_minor": 0,
  "metadata": {
    "colab": {
      "provenance": []
    },
    "kernelspec": {
      "name": "python3",
      "display_name": "Python 3"
    },
    "language_info": {
      "name": "python"
    }
  },
  "cells": [
    {
      "cell_type": "markdown",
      "source": [
        "# Homework 10\n",
        "\n",
        "In this homework, you will implement NN using PyTorch and investigate different activation functions, batch sizes, and learning rates. Use [Lecture code](https://github.com/anton-selitskiy/RIT_ML/blob/main/2024_spring/Lectures/ML23.ipynb) as refference."
      ],
      "metadata": {
        "id": "z_CRSmB1hc7b"
      }
    },
    {
      "cell_type": "markdown",
      "source": [
        "Use load_planar_dataset function from the previous homework to create the data."
      ],
      "metadata": {
        "id": "QqhFYpQGhmRn"
      }
    },
    {
      "cell_type": "code",
      "execution_count": null,
      "metadata": {
        "id": "_1xKtWGNhTbX"
      },
      "outputs": [],
      "source": []
    },
    {
      "cell_type": "code",
      "source": [],
      "metadata": {
        "id": "yGL2JrZtiHQH"
      },
      "execution_count": null,
      "outputs": []
    },
    {
      "cell_type": "markdown",
      "source": [
        "##1. (2 pt) Create Dataset object."
      ],
      "metadata": {
        "id": "lT4dPA8siHi_"
      }
    },
    {
      "cell_type": "code",
      "source": [],
      "metadata": {
        "id": "_oFulJvwiJA_"
      },
      "execution_count": null,
      "outputs": []
    },
    {
      "cell_type": "markdown",
      "source": [
        "## 2. (1 pt) Create DataLoader object."
      ],
      "metadata": {
        "id": "o6uNanKiiMjH"
      }
    },
    {
      "cell_type": "code",
      "source": [],
      "metadata": {
        "id": "CR-6brtWiSz_"
      },
      "execution_count": null,
      "outputs": []
    },
    {
      "cell_type": "markdown",
      "source": [
        "## 3. (3 pt) Construct the model\n",
        "$$\n",
        "hidden\\_1 \\to activation\\_1 \\to hidden\\_2 \\to activation\\_2  \n",
        "$$\n",
        "Use `Sigmoid` function as activation on this step."
      ],
      "metadata": {
        "id": "uFSBUgnqiVzZ"
      }
    },
    {
      "cell_type": "code",
      "source": [],
      "metadata": {
        "id": "UnUP-g9Fi0m9"
      },
      "execution_count": null,
      "outputs": []
    },
    {
      "cell_type": "markdown",
      "source": [
        "## 4. (3 pt) Write the training loop. Use Binary cross-entropy loss. Also, you can use tqdm function to see the training progress. You can start with learning rate 0.01."
      ],
      "metadata": {
        "id": "j6nUGAuEi1_a"
      }
    },
    {
      "cell_type": "code",
      "source": [],
      "metadata": {
        "id": "rVX9T03yi9rk"
      },
      "execution_count": null,
      "outputs": []
    },
    {
      "cell_type": "code",
      "source": [],
      "metadata": {
        "id": "fZdZcqfkjd8R"
      },
      "execution_count": null,
      "outputs": []
    },
    {
      "cell_type": "code",
      "source": [],
      "metadata": {
        "id": "kw_inc8rjd--"
      },
      "execution_count": null,
      "outputs": []
    },
    {
      "cell_type": "code",
      "source": [],
      "metadata": {
        "id": "EBgVLAatjeB3"
      },
      "execution_count": null,
      "outputs": []
    },
    {
      "cell_type": "code",
      "source": [],
      "metadata": {
        "id": "Z38BrpoojeFR"
      },
      "execution_count": null,
      "outputs": []
    },
    {
      "cell_type": "markdown",
      "source": [
        "## 5. (2 pt) Write the prediction class to use it in plot_decision_regions function."
      ],
      "metadata": {
        "id": "-gSYSPMTjP-y"
      }
    },
    {
      "cell_type": "code",
      "source": [],
      "metadata": {
        "id": "JwsHA_kCjcmS"
      },
      "execution_count": null,
      "outputs": []
    },
    {
      "cell_type": "markdown",
      "source": [
        "## 6. (2 pt) Plot the loss and decision boundary after the training."
      ],
      "metadata": {
        "id": "lhpE7gXhjg_1"
      }
    },
    {
      "cell_type": "code",
      "source": [],
      "metadata": {
        "id": "co704Qk2jnZP"
      },
      "execution_count": null,
      "outputs": []
    },
    {
      "cell_type": "code",
      "source": [],
      "metadata": {
        "id": "hYRtPcTzjoMc"
      },
      "execution_count": null,
      "outputs": []
    },
    {
      "cell_type": "code",
      "source": [],
      "metadata": {
        "id": "7nMmkB0mjoTL"
      },
      "execution_count": null,
      "outputs": []
    },
    {
      "cell_type": "markdown",
      "source": [
        "## 7. Experiments 1: Try LeakyReLU as `activation_1` with the size of `hidden_1` = 4, 5, and 10. You can reuse the same model without copying it."
      ],
      "metadata": {
        "id": "UPGy5kg-joiY"
      }
    },
    {
      "cell_type": "code",
      "source": [],
      "metadata": {
        "id": "qBmcAwoJkFW7"
      },
      "execution_count": null,
      "outputs": []
    },
    {
      "cell_type": "code",
      "source": [],
      "metadata": {
        "id": "tKyf0_JQkJ0N"
      },
      "execution_count": null,
      "outputs": []
    },
    {
      "cell_type": "code",
      "source": [],
      "metadata": {
        "id": "alMDK5qikJ3x"
      },
      "execution_count": null,
      "outputs": []
    },
    {
      "cell_type": "markdown",
      "source": [
        "## 8. (3 pt) Comment on the number of the straight lines with respect to the size of the hidden layer."
      ],
      "metadata": {
        "id": "vbbLNEG8kKH3"
      }
    },
    {
      "cell_type": "markdown",
      "source": [],
      "metadata": {
        "id": "3r_u4JH_kTiX"
      }
    },
    {
      "cell_type": "code",
      "source": [],
      "metadata": {
        "id": "Zt5imS_NkO9_"
      },
      "execution_count": null,
      "outputs": []
    },
    {
      "cell_type": "markdown",
      "source": [
        "## 9. Experiments 2: with the `hidden_1` layer of the size 4 try Sigmoind, ReLU, LeakyReLU, ELU, and SiLU as `activation_1`. Do this for batch sizes 4 and 50."
      ],
      "metadata": {
        "id": "aaqxYYITkWIF"
      }
    },
    {
      "cell_type": "code",
      "source": [],
      "metadata": {
        "id": "13DPPUK2kQgv"
      },
      "execution_count": null,
      "outputs": []
    },
    {
      "cell_type": "code",
      "source": [],
      "metadata": {
        "id": "uPdwChLgk6hn"
      },
      "execution_count": null,
      "outputs": []
    },
    {
      "cell_type": "code",
      "source": [],
      "metadata": {
        "id": "5rvuPqwgk6lG"
      },
      "execution_count": null,
      "outputs": []
    },
    {
      "cell_type": "markdown",
      "source": [
        "## 10. (4 pt) Comment on the shape of the decision boundaries with respect to the activation function and the batch size. Did you adjust the learning rate? Did you try to start with small learning rate like 0.001 instead of 0.01 and if so, which worked better?"
      ],
      "metadata": {
        "id": "ZUaEa0ECk6zu"
      }
    },
    {
      "cell_type": "code",
      "source": [],
      "metadata": {
        "id": "uEfF86FJk-lu"
      },
      "execution_count": null,
      "outputs": []
    }
  ]
}