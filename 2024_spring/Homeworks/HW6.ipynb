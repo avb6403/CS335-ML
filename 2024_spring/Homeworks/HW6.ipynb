{
  "cells": [
    {
      "cell_type": "markdown",
      "metadata": {
        "id": "LNzpOlkNVOnv"
      },
      "source": [
        "# Homework 6\n",
        "Part 1: Softmax\n",
        "\n",
        "Part 2: Bayes: MAP estimator for continuous data\n",
        "\n",
        "Part 3: Naive Bayes: Bayesian spam filter (discrete date)"
      ]
    },
    {
      "cell_type": "code",
      "execution_count": 1,
      "metadata": {
        "id": "vb53IqZeOX5K"
      },
      "outputs": [
        {
          "name": "stderr",
          "output_type": "stream",
          "text": [
            "/tmp/ipykernel_28325/3459056358.py:2: DeprecationWarning: \n",
            "Pyarrow will become a required dependency of pandas in the next major release of pandas (pandas 3.0),\n",
            "(to allow more performant data types, such as the Arrow string type, and better interoperability with other libraries)\n",
            "but was not found to be installed on your system.\n",
            "If this would cause problems for you,\n",
            "please provide us feedback at https://github.com/pandas-dev/pandas/issues/54466\n",
            "        \n",
            "  import pandas as pd\n"
          ]
        }
      ],
      "source": [
        "import numpy as np\n",
        "import pandas as pd\n",
        "import matplotlib.pyplot as plt\n",
        "%matplotlib inline"
      ]
    },
    {
      "cell_type": "markdown",
      "metadata": {
        "id": "YQOqlxGSZNFs"
      },
      "source": [
        "# Part 1\n",
        "When computing the output probabilities from margins $x_1,\\ x_2,\\ \\ldots,\\ x_C$, often (incorrectly) called *logits*, the exponential terms may be very large or very small. This can cause numerical or overflow errors (try `np.exp(1000)`).\n",
        "\n",
        "Check that the following formula is correct for an arbitrary $A$:\n",
        "\n",
        "$$\n",
        "Softmax_i = \\frac{e^{x_i}}{\\sum\\limits_{c=1}^{C} e^{x_c}} = \\frac{e^{x_i-A}}{\\sum\\limits_{c=1}^{C} e^{x_c-A}}.\n",
        "$$\n",
        "\n",
        "A suitable choice for this fixed value $A$ is\n",
        "$$\n",
        "A = \\underset{c}{\\max} x_c.\n",
        "$$\n",
        "\n",
        "## Q1 (3pt) Write a function `compute_probabilities` that computes Softmax."
      ]
    },
    {
      "cell_type": "code",
      "execution_count": 7,
      "metadata": {
        "id": "S6s7L43uZNW7"
      },
      "outputs": [],
      "source": [
        "def compute_probabilities(X):\n",
        "    \"\"\"\n",
        "    Computes Softmax, for each vector X[i, :].\n",
        "\n",
        "    Args:\n",
        "        X - (n, C) NumPy array (n datapoints each with C features)\n",
        "    Returns:\n",
        "        H - (n, C) NumPy array, where each row H[i,:] = Softmax(X[i,:])\n",
        "    \"\"\"\n",
        "    \n",
        "    # A = np.max(X, axis=1, keepdims=True)  # Not sure why this does not work\n",
        "    A = np.max(X, axis=1)  \n",
        "    e_x = np.exp(X - A[:, np.newaxis])   \n",
        "    # sum_e_x = np.sum(e_x, axis=1, keepdims=True)[:,np.newaxis]                   \n",
        "    sum_e_x = np.sum(e_x, axis=1)[:,np.newaxis]  \n",
        "    H = e_x / sum_e_x                      \n",
        "    return H"
      ]
    },
    {
      "cell_type": "code",
      "execution_count": 6,
      "metadata": {
        "id": "2LoiFUi1fOa5"
      },
      "outputs": [],
      "source": [
        "#Test yourself\n",
        "from scipy.special import softmax\n",
        "M = np.random.randint(-1000, 1000, size=(30,20))\n",
        "assert np.allclose(compute_probabilities(M), softmax(M, axis=1))"
      ]
    },
    {
      "cell_type": "markdown",
      "metadata": {
        "id": "nH6xiiLgkiWc"
      },
      "source": [
        "# Part 2\n",
        "In this Question you will work with dataset from Ch.2 in *Classification, Parameter Estimation and State\n",
        "Estimation: An Engineering Approach Using MATLAB* by\n",
        "R. Duin, F. van der Heijden, D. de Ridder, and D. M.\n",
        "J. Tax https://go.exlibris.link/Y6BQ8cJ5"
      ]
    },
    {
      "cell_type": "code",
      "execution_count": 8,
      "metadata": {
        "id": "Q_CfkI8WCFhX"
      },
      "outputs": [],
      "source": [
        "#data = pd.read_csv('data_bnrs.csv', header=None)\n",
        "data = pd.read_csv('https://raw.githubusercontent.com/anton-selitskiy/RIT_ML/main/2023_fall/data_bnrs.csv', header=None)"
      ]
    },
    {
      "cell_type": "code",
      "execution_count": 9,
      "metadata": {
        "colab": {
          "base_uri": "https://localhost:8080/",
          "height": 206
        },
        "id": "4hQuayjBCp_-",
        "outputId": "a9a04d9f-3e2b-4270-d70b-ab8462416976"
      },
      "outputs": [
        {
          "data": {
            "text/html": [
              "<div>\n",
              "<style scoped>\n",
              "    .dataframe tbody tr th:only-of-type {\n",
              "        vertical-align: middle;\n",
              "    }\n",
              "\n",
              "    .dataframe tbody tr th {\n",
              "        vertical-align: top;\n",
              "    }\n",
              "\n",
              "    .dataframe thead th {\n",
              "        text-align: right;\n",
              "    }\n",
              "</style>\n",
              "<table border=\"1\" class=\"dataframe\">\n",
              "  <thead>\n",
              "    <tr style=\"text-align: right;\">\n",
              "      <th></th>\n",
              "      <th>0</th>\n",
              "      <th>1</th>\n",
              "      <th>2</th>\n",
              "    </tr>\n",
              "  </thead>\n",
              "  <tbody>\n",
              "    <tr>\n",
              "      <th>0</th>\n",
              "      <td>0.35029</td>\n",
              "      <td>0.79978</td>\n",
              "      <td>1</td>\n",
              "    </tr>\n",
              "    <tr>\n",
              "      <th>1</th>\n",
              "      <td>0.60302</td>\n",
              "      <td>0.97778</td>\n",
              "      <td>1</td>\n",
              "    </tr>\n",
              "    <tr>\n",
              "      <th>2</th>\n",
              "      <td>0.32696</td>\n",
              "      <td>0.74125</td>\n",
              "      <td>1</td>\n",
              "    </tr>\n",
              "    <tr>\n",
              "      <th>3</th>\n",
              "      <td>0.35015</td>\n",
              "      <td>0.83668</td>\n",
              "      <td>1</td>\n",
              "    </tr>\n",
              "    <tr>\n",
              "      <th>4</th>\n",
              "      <td>0.46741</td>\n",
              "      <td>0.94682</td>\n",
              "      <td>1</td>\n",
              "    </tr>\n",
              "  </tbody>\n",
              "</table>\n",
              "</div>"
            ],
            "text/plain": [
              "         0        1  2\n",
              "0  0.35029  0.79978  1\n",
              "1  0.60302  0.97778  1\n",
              "2  0.32696  0.74125  1\n",
              "3  0.35015  0.83668  1\n",
              "4  0.46741  0.94682  1"
            ]
          },
          "execution_count": 9,
          "metadata": {},
          "output_type": "execute_result"
        }
      ],
      "source": [
        "data.head()"
      ]
    },
    {
      "cell_type": "code",
      "execution_count": 10,
      "metadata": {
        "id": "bK-K4D0iDQ2I"
      },
      "outputs": [],
      "source": [
        "X = data.iloc[:,:-1].values\n",
        "y = data.iloc[:,-1].values"
      ]
    },
    {
      "cell_type": "code",
      "execution_count": 11,
      "metadata": {
        "id": "6tC5OnPMmY_A"
      },
      "outputs": [],
      "source": [
        "from sklearn.model_selection import train_test_split\n",
        "X_train, X_test, y_train, y_test = train_test_split(X, y, test_size=0.2, random_state=42)"
      ]
    },
    {
      "cell_type": "code",
      "execution_count": 12,
      "metadata": {
        "colab": {
          "base_uri": "https://localhost:8080/",
          "height": 447
        },
        "id": "yplpQNErCsMq",
        "outputId": "15ba92c7-d089-4775-8e32-5f4063a26120"
      },
      "outputs": [
        {
          "data": {
            "text/plain": [
              "<matplotlib.collections.PathCollection at 0x7a8211ddde70>"
            ]
          },
          "execution_count": 12,
          "metadata": {},
          "output_type": "execute_result"
        },
        {
          "data": {
            "image/png": "[encoded data removed]",
            "text/plain": [
              "<Figure size 640x480 with 1 Axes>"
            ]
          },
          "metadata": {},
          "output_type": "display_data"
        }
      ],
      "source": [
        "plt.scatter(X_train[:,0], X_train[:,1], c=y_train)\n",
        "plt.scatter(X_test[:,0], X_test[:,1], marker='x')"
      ]
    },
    {
      "cell_type": "markdown",
      "metadata": {
        "id": "BrFoZRQ1tnfj"
      },
      "source": [
        "From the conditional probability formula, we know that\n",
        "$$\n",
        "p(y=c|x) = \\frac{p(x, y=c)}{p(x)} = \\frac{p(x|y=c)p(y=c)}{p(x)}, \\quad c=1,2,3,4.\n",
        "$$\n",
        "\n",
        "Because the denominator doesn't depend on $c,$\n",
        "$$\n",
        "a(x) = \\underset{c}{argmax}\\ p(y=c|x) = \\underset{c}{argmax}\\ p(x|y=c)p(y=c).\n",
        "$$\n",
        "\n",
        "We will assume that conditional distribution $p(x|y=c)\\sim N(\\mu_c,\\Sigma_c)$ you can use `multivariate_normal` from `scipy.stats` to calculate this value for the entier matix $X$ with datapoints in rows $X[i,:]$ as follows: `multivariate_normal(X, mean=, cov=)`.\n",
        "\n",
        "For the Cost function, you can use the following decision rule:\n",
        "$$\n",
        "a(x) = \\underset{c}{\\arg \\min}\\ \\text{Cost\\_Matrix} \\cdot \\begin{bmatrix} p(y=1|x) \\\\ p(y=2|x) \\\\ p(y=3|x) \\\\ p(y=4|x) \\end{bmatrix} = \\underset{c}{\\arg \\min}\\ \\text{Cost\\_Matrix} \\cdot \\begin{bmatrix} p(x|y=1)p(y=1) \\\\ p(x|y=2)p(y=2) \\\\ p(x|y=3)p(y=3) \\\\ p(x|y=4)p(y=4) \\end{bmatrix}.\n",
        "$$\n"
      ]
    },
    {
      "cell_type": "markdown",
      "metadata": {
        "id": "QHCKneY6R0yh"
      },
      "source": [
        "## Q2 (8pt) Write the class `UserMAP` for maximum a posteriori estimator"
      ]
    },
    {
      "cell_type": "code",
      "execution_count": 13,
      "metadata": {
        "id": "lU__wXm7WFKv"
      },
      "outputs": [],
      "source": [
        "from scipy.stats import multivariate_normal"
      ]
    },
    {
      "cell_type": "code",
      "execution_count": 53,
      "metadata": {
        "id": "2pkw1g72FYMU"
      },
      "outputs": [],
      "source": [
        "class UserMAP():\n",
        "    def __init__(self, cost=False):\n",
        "        self.cost = cost\n",
        "\n",
        "    def fit(self, X, y):\n",
        "      \"\"\"\n",
        "      Calculate mean velues and covariance matrices for each class\n",
        "      Calculate class distribution p(y)\n",
        "      Store them as self. variables\n",
        "      \"\"\"\n",
        "      self.classes = np.unique(y)\n",
        "      self.means = np.zeros((len(self.classes), X.shape[1]))\n",
        "      self.covariances = np.zeros((len(self.classes), X.shape[1], X.shape[1]))\n",
        "      self.priors = np.zeros(len(self.classes))\n",
        "\n",
        "      for i, c in enumerate(self.classes):\n",
        "        X_c = X[y == c]\n",
        "        self.means[i] = np.mean(X_c, axis=0)\n",
        "        self.covariances[i] = np.cov(X_c, rowvar=False)\n",
        "        self.priors[i] = len(X_c) / len(X)\n",
        "\n",
        "    def posterior(self, X):\n",
        "      \"\"\"\n",
        "      Calculate posterior pobabilities and return argmax\n",
        "      \"\"\"\n",
        "      prob_posterior = np.zeros((X.shape[0], len(self.classes)))\n",
        "\n",
        "      for i, _ in enumerate(self.classes):\n",
        "          likelihood = multivariate_normal.pdf(X, mean=self.means[i], cov=self.covariances[i])\n",
        "          posterior = likelihood * self.priors[i]\n",
        "          prob_posterior[:,i] = posterior\n",
        "          # posteriors = np.column_stack(posteriors)\n",
        "      return np.argmax(prob_posterior, axis=1) + 1  # +1 to match class labels\n",
        "\n",
        "\n",
        "    def posterior_cost(self, X):\n",
        "      \"\"\"\n",
        "      Given the cost matrix and posterior probabilities, predict the class\n",
        "      \"\"\"\n",
        "      cost_matrix = np.array([\n",
        "        [ -0.20, 0.07, 0.07, 0.07 ],\n",
        "        [  0.07,-0.15, 0.07, 0.07 ],\n",
        "        [  0.07, 0.07,-0.05, 0.07 ],\n",
        "        [  0.03, 0.03, 0.03, 0.03 ]])\n",
        "      \n",
        "      # Create empty array for posterior probabilities\n",
        "      prob_posterior_cost = np.zeros((X.shape[0], len(self.classes)))\n",
        "\n",
        "      # Iterate over classes\n",
        "      for i, _ in enumerate(self.classes):\n",
        "        # Calculate conditional probability\n",
        "        prob_posterior_cost[:, i] = multivariate_normal.pdf(X, mean=self.means[i], cov=self.covariances[i]) * self.priors[i]\n",
        "\n",
        "      # Multiply posterior probabilties by transpose of cost matrix\n",
        "      # To get class costs\n",
        "      class_costs = prob_posterior_cost.dot(cost_matrix.T)\n",
        "\n",
        "      # Get the min of class_costs (we minimize the costs)\n",
        "      return np.argmin(class_costs, axis=1)\n",
        "\n",
        "\n",
        "    def predict(self, X):\n",
        "      if self.cost == True:\n",
        "        return self.posterior_cost(X)\n",
        "      return self.posterior(X)"
      ]
    },
    {
      "cell_type": "code",
      "execution_count": 26,
      "metadata": {
        "id": "AJEqrrn4SUsR"
      },
      "outputs": [],
      "source": [
        "from mlxtend.plotting import plot_decision_regions"
      ]
    },
    {
      "cell_type": "markdown",
      "metadata": {},
      "source": [
        "From the conditional probability formula, we know that\n",
        "$$\n",
        "p(y=c|x) = \\frac{p(x, y=c)}{p(x)} = \\frac{p(x|y=c)p(y=c)}{p(x)}, \\quad c=1,2,3,4.\n",
        "$$\n",
        "\n",
        "Because the denominator doesn't depend on $c,$\n",
        "$$\n",
        "a(x) = \\underset{c}{argmax}\\ p(y=c|x) = \\underset{c}{argmax}\\ p(x|y=c)p(y=c).\n",
        "$$\n",
        "\n",
        "We will assume that conditional distribution $p(x|y=c)\\sim N(\\mu_c,\\Sigma_c)$ you can use `multivariate_normal` from `scipy.stats` to calculate this value for the entier matix $X$ with datapoints in rows $X[i,:]$ as follows: `multivariate_normal(X, mean=, cov=)`.\n",
        "\n",
        "For the Cost function, you can use the following decision rule:\n",
        "$$\n",
        "a(x) = \\underset{c}{\\arg \\min}\\ \\text{Cost\\_Matrix} \\cdot \\begin{bmatrix} p(y=1|x) \\\\ p(y=2|x) \\\\ p(y=3|x) \\\\ p(y=4|x) \\end{bmatrix} = \\underset{c}{\\arg \\min}\\ \\text{Cost\\_Matrix} \\cdot \\begin{bmatrix} p(x|y=1)p(y=1) \\\\ p(x|y=2)p(y=2) \\\\ p(x|y=3)p(y=3) \\\\ p(x|y=4)p(y=4) \\end{bmatrix}.\n",
        "$$\n"
      ]
    },
    {
      "cell_type": "markdown",
      "metadata": {},
      "source": [
        "##Q2 (8pt) Write the class `UserMAP` for maximum a posteriori estimator"
      ]
    },
    {
      "cell_type": "code",
      "execution_count": 54,
      "metadata": {
        "id": "sN4JlQi8Sfe_"
      },
      "outputs": [],
      "source": [
        "clf = UserMAP()"
      ]
    },
    {
      "cell_type": "code",
      "execution_count": 55,
      "metadata": {
        "id": "wOvPrahxSmNP"
      },
      "outputs": [],
      "source": [
        "clf.fit(X_train, y_train)"
      ]
    },
    {
      "cell_type": "code",
      "execution_count": 56,
      "metadata": {
        "id": "Vt69ENuLSpmq"
      },
      "outputs": [
        {
          "name": "stderr",
          "output_type": "stream",
          "text": [
            "/home/tohab0g/.local/lib/python3.10/site-packages/mlxtend/plotting/decision_regions.py:346: UserWarning: You passed a edgecolor/edgecolors ('black') for an unfilled marker ('x').  Matplotlib is ignoring the edgecolor in favor of the facecolor.  This behavior may change in the future.\n",
            "  ax.scatter(\n"
          ]
        },
        {
          "data": {
            "text/plain": [
              "<Axes: >"
            ]
          },
          "execution_count": 56,
          "metadata": {},
          "output_type": "execute_result"
        },
        {
          "data": {
            "image/png": "[encoded data removed]",
            "text/plain": [
              "<Figure size 640x480 with 1 Axes>"
            ]
          },
          "metadata": {},
          "output_type": "display_data"
        }
      ],
      "source": [
        "plot_decision_regions(X_test,y_test,clf)"
      ]
    },
    {
      "cell_type": "code",
      "execution_count": 57,
      "metadata": {
        "id": "xs-wc0ItpT3H"
      },
      "outputs": [],
      "source": [
        "clf_cost = UserMAP(cost=True)"
      ]
    },
    {
      "cell_type": "code",
      "execution_count": 58,
      "metadata": {
        "id": "0LL1f9BWpT3J"
      },
      "outputs": [],
      "source": [
        "clf_cost.fit(X_train, y_train)"
      ]
    },
    {
      "cell_type": "code",
      "execution_count": 59,
      "metadata": {
        "id": "pZ6SqQ1rpT3K"
      },
      "outputs": [
        {
          "data": {
            "text/plain": [
              "<Axes: >"
            ]
          },
          "execution_count": 59,
          "metadata": {},
          "output_type": "execute_result"
        },
        {
          "data": {
            "image/png": "[encoded data removed]",
            "text/plain": [
              "<Figure size 640x480 with 1 Axes>"
            ]
          },
          "metadata": {},
          "output_type": "display_data"
        }
      ],
      "source": [
        "plot_decision_regions(X_test,y_test,clf_cost)"
      ]
    },
    {
      "cell_type": "markdown",
      "metadata": {
        "id": "pB4PUCyHOX5L"
      },
      "source": [
        "# Part 3\n",
        "In this Question, you will apply Naive Bayes classifier to build a spam filter. Use dataset from https://www.kaggle.com/datasets/venky73/spam-mails-dataset?select=spam_ham_dataset.csv  It's *Enron email dataset,* a large collection of emails from the Enron Corporation."
      ]
    },
    {
      "cell_type": "code",
      "execution_count": 62,
      "metadata": {
        "colab": {
          "base_uri": "https://localhost:8080/"
        },
        "id": "ZH6te3Eq0d8V",
        "outputId": "4f0c69a0-5cfd-4f78-da54-51ed09b0f8b2"
      },
      "outputs": [
        {
          "name": "stdout",
          "output_type": "stream",
          "text": [
            "Archive:  archive.zip\n",
            "  inflating: spam_ham_dataset.csv    \n"
          ]
        }
      ],
      "source": [
        "!unzip archive.zip"
      ]
    },
    {
      "cell_type": "code",
      "execution_count": 63,
      "metadata": {
        "colab": {
          "base_uri": "https://localhost:8080/",
          "height": 206
        },
        "id": "oKkC7ul6OX5P",
        "outputId": "25f94ab4-d402-4e74-c831-d94b1d559c88"
      },
      "outputs": [
        {
          "data": {
            "text/html": [
              "<div>\n",
              "<style scoped>\n",
              "    .dataframe tbody tr th:only-of-type {\n",
              "        vertical-align: middle;\n",
              "    }\n",
              "\n",
              "    .dataframe tbody tr th {\n",
              "        vertical-align: top;\n",
              "    }\n",
              "\n",
              "    .dataframe thead th {\n",
              "        text-align: right;\n",
              "    }\n",
              "</style>\n",
              "<table border=\"1\" class=\"dataframe\">\n",
              "  <thead>\n",
              "    <tr style=\"text-align: right;\">\n",
              "      <th></th>\n",
              "      <th>Unnamed: 0</th>\n",
              "      <th>label</th>\n",
              "      <th>text</th>\n",
              "      <th>label_num</th>\n",
              "    </tr>\n",
              "  </thead>\n",
              "  <tbody>\n",
              "    <tr>\n",
              "      <th>0</th>\n",
              "      <td>605</td>\n",
              "      <td>ham</td>\n",
              "      <td>Subject: enron methanol ; meter # : 988291\\r\\n...</td>\n",
              "      <td>0</td>\n",
              "    </tr>\n",
              "    <tr>\n",
              "      <th>1</th>\n",
              "      <td>2349</td>\n",
              "      <td>ham</td>\n",
              "      <td>Subject: hpl nom for january 9 , 2001\\r\\n( see...</td>\n",
              "      <td>0</td>\n",
              "    </tr>\n",
              "    <tr>\n",
              "      <th>2</th>\n",
              "      <td>3624</td>\n",
              "      <td>ham</td>\n",
              "      <td>Subject: neon retreat\\r\\nho ho ho , we ' re ar...</td>\n",
              "      <td>0</td>\n",
              "    </tr>\n",
              "    <tr>\n",
              "      <th>3</th>\n",
              "      <td>4685</td>\n",
              "      <td>spam</td>\n",
              "      <td>Subject: photoshop , windows , office . cheap ...</td>\n",
              "      <td>1</td>\n",
              "    </tr>\n",
              "    <tr>\n",
              "      <th>4</th>\n",
              "      <td>2030</td>\n",
              "      <td>ham</td>\n",
              "      <td>Subject: re : indian springs\\r\\nthis deal is t...</td>\n",
              "      <td>0</td>\n",
              "    </tr>\n",
              "  </tbody>\n",
              "</table>\n",
              "</div>"
            ],
            "text/plain": [
              "   Unnamed: 0 label                                               text  \\\n",
              "0         605   ham  Subject: enron methanol ; meter # : 988291\\r\\n...   \n",
              "1        2349   ham  Subject: hpl nom for january 9 , 2001\\r\\n( see...   \n",
              "2        3624   ham  Subject: neon retreat\\r\\nho ho ho , we ' re ar...   \n",
              "3        4685  spam  Subject: photoshop , windows , office . cheap ...   \n",
              "4        2030   ham  Subject: re : indian springs\\r\\nthis deal is t...   \n",
              "\n",
              "   label_num  \n",
              "0          0  \n",
              "1          0  \n",
              "2          0  \n",
              "3          1  \n",
              "4          0  "
            ]
          },
          "execution_count": 63,
          "metadata": {},
          "output_type": "execute_result"
        }
      ],
      "source": [
        "import pandas as pd\n",
        "data = pd.read_csv('spam_ham_dataset.csv')\n",
        "\n",
        "texts = data['text'].values\n",
        "target = data['label_num'].values\n",
        "data.head()"
      ]
    },
    {
      "cell_type": "code",
      "execution_count": 64,
      "metadata": {
        "id": "6i6EbqM3OX5R"
      },
      "outputs": [],
      "source": [
        "from sklearn.model_selection import train_test_split\n",
        "texts_train, texts_test, y_train, y_test = train_test_split(texts, target, test_size=0.5, random_state=42)"
      ]
    },
    {
      "cell_type": "markdown",
      "metadata": {
        "id": "r3InaLNbOX5S"
      },
      "source": [
        "### Preprocessing and tokenization"
      ]
    },
    {
      "cell_type": "markdown",
      "metadata": {
        "id": "6DFHbHF1OX5W"
      },
      "source": [
        "### Solving it: bag of words\n",
        "\n",
        "![img](http://www.novuslight.com/uploads/n/BagofWords.jpg)\n",
        "\n",
        "Apply `CountVectorizer()` to the training data."
      ]
    },
    {
      "cell_type": "code",
      "execution_count": 65,
      "metadata": {
        "id": "Qwxf2Oiw6JMY"
      },
      "outputs": [],
      "source": [
        "from sklearn.feature_extraction.text import CountVectorizer"
      ]
    },
    {
      "cell_type": "code",
      "execution_count": 66,
      "metadata": {
        "id": "fEcwel836omQ"
      },
      "outputs": [],
      "source": [
        "vec = CountVectorizer()"
      ]
    },
    {
      "cell_type": "code",
      "execution_count": 67,
      "metadata": {
        "id": "9qNUazHSOX5a"
      },
      "outputs": [],
      "source": [
        "X_train_bow = vec.fit_transform(texts_train).toarray()\n",
        "X_test_bow = vec.transform(texts_test).toarray()"
      ]
    },
    {
      "cell_type": "markdown",
      "metadata": {
        "id": "8lbUu4b8OX5b"
      },
      "source": [
        "Now you have the counts of the words from the bag of words in each e-mail.\n",
        "\n",
        "__Naive bayes:__ perhaps the simplest model that can solve your problem is the so called Naive Bayes Classifier.\n",
        "Its a simple probabilistic model that assumes the independence of input features and computes the counting probabilities.\n",
        "\n",
        "If you don't remember the math behind Naive Bayes, read https://scikit-learn.org/stable/modules/naive_bayes.html to help refresh your memory. Done? Good! Now let's implement that :)\n",
        "\n",
        "For every word we will calculate its frequency in spam and in ham, it will be $p(word|y=0)$ and $p(word|y=0)$. To avoid devisions by zero instead of the formula\n",
        "$$\n",
        "p(word|y) =\\frac{\\#word \\text{ in class y}}{\\text{total # words in class } y}\n",
        "$$\n",
        "use\n",
        "$$\n",
        "p(word|y) =\\frac{\\delta+\\#word \\text{ in class y}}{\\delta\\cdot\\text{vocabulary length} + \\text{total # words in class } y}\n",
        "$$\n",
        "\n",
        "##Q3 (8pt) Write the class for Naive Bayes"
      ]
    },
    {
      "cell_type": "code",
      "execution_count": 68,
      "metadata": {
        "id": "oSs5aD6dOX5c"
      },
      "outputs": [],
      "source": [
        "delta = 1.0\n",
        "class BinaryNaiveBayes:\n",
        "#     delta = 1.0  # add this to all word counts to smoothe probabilities\n",
        "\n",
        "    def fit(self, X, y):\n",
        "        \"\"\"\n",
        "        Fit a NaiveBayes classifier for two classes\n",
        "        :param X: [batch_size, vocab_size] of bag-of-words features\n",
        "        :param y: [batch_size] of binary targets {0, 1}\n",
        "        \"\"\"\n",
        "        # first, compute marginal probabilities of every class, p(y=c) for c = 0,1\n",
        "        self.p_y = np.array([np.sum(y == 0) / len(y), np.sum(y == 1) / len(y)])\n",
        "\n",
        "\n",
        "        # count occurences of each word in texts with label 1 and label 0 separately\n",
        "        word_counts_positive = np.sum(X[y == 1], axis = 0)\n",
        "        word_counts_negative = np.sum(X[y == 0], axis = 0)\n",
        "        # ^-- both must be vectors of shape [vocab_size].\n",
        "\n",
        "        # finally, lets use those counts to estimate p(x | y = c) for c = 0, 1\n",
        "\n",
        "        #<YOUR CODE HERE>\n",
        "\n",
        "        self.p_x_given_positive = (delta + word_counts_positive) / np.sum(delta + word_counts_positive)\n",
        "\n",
        "        self.p_x_given_negative = (delta + word_counts_negative) / np.sum(delta + word_counts_negative)\n",
        "        # both must be of shape [vocab_size]; and don't forget to add self.delta!\n",
        "\n",
        "        return self\n",
        "\n",
        "    def predict_scores(self, X):\n",
        "        \"\"\"\n",
        "        :param X: [batch_size, vocab_size] of bag-of-words features\n",
        "        :returns: a matrix of scores [batch_size, k] of scores for k-th class\n",
        "        \"\"\"\n",
        "        # compute scores for positive and negative classes separately.\n",
        "        # these scores should be proportional to log-probabilities of the respective target {0, 1}\n",
        "\n",
        "        score_negative = X.dot(np.log(self.p_x_given_negative)) + np.log(self.p_y[0])\n",
        "        score_positive = X.dot(np.log(self.p_x_given_positive)) + np.log(self.p_y[1])\n",
        "        return np.stack([score_negative, score_positive], axis=-1)\n",
        "\n",
        "    def predict(self, X):\n",
        "        return self.predict_scores(X).argmax(axis=-1)"
      ]
    },
    {
      "cell_type": "code",
      "execution_count": 69,
      "metadata": {
        "id": "-dz355hHOX5d"
      },
      "outputs": [],
      "source": [
        "naive_model = BinaryNaiveBayes().fit(X_train_bow, y_train)"
      ]
    },
    {
      "cell_type": "code",
      "execution_count": 70,
      "metadata": {
        "id": "LQYFHmNwOX5d"
      },
      "outputs": [],
      "source": [
        "assert naive_model.p_y.shape == (2,) and naive_model.p_y.sum() == 1 and naive_model.p_y[0] > naive_model.p_y[1]\n",
        "assert naive_model.p_x_given_positive.shape == naive_model.p_x_given_negative.shape == X_train_bow.shape[1:]\n",
        "assert np.allclose(naive_model.p_x_given_positive.sum(), 1.0)\n",
        "assert np.allclose(naive_model.p_x_given_negative.sum(), 1.0)\n",
        "assert naive_model.p_x_given_negative.min() > 0, \"did you forget to add delta?\""
      ]
    },
    {
      "cell_type": "code",
      "execution_count": 71,
      "metadata": {
        "colab": {
          "base_uri": "https://localhost:8080/",
          "height": 465
        },
        "id": "gRkHz48qOX5e",
        "outputId": "af4b5043-3af1-40be-d57c-e7a75919f62c"
      },
      "outputs": [
        {
          "name": "stdout",
          "output_type": "stream",
          "text": [
            "Model accuracy: 0.971\n",
            "Well done!\n"
          ]
        },
        {
          "data": {
            "image/png": "[encoded data removed]",
            "text/plain": [
              "<Figure size 640x480 with 1 Axes>"
            ]
          },
          "metadata": {},
          "output_type": "display_data"
        }
      ],
      "source": [
        "from sklearn.metrics import roc_auc_score, roc_curve\n",
        "\n",
        "for name, X, y, model in [\n",
        "    ('train', X_train_bow, y_train, naive_model),\n",
        "    ('test ', X_test_bow, y_test, naive_model)\n",
        "]:\n",
        "    proba = model.predict_scores(X)[:, 1] - model.predict_scores(X)[:, 0]\n",
        "    auc = roc_auc_score(y, proba)\n",
        "    plt.plot(*roc_curve(y, proba)[:2], label='%s AUC=%.4f' % (name, auc))\n",
        "\n",
        "plt.plot([0, 1], [0, 1], '--', color='black',)\n",
        "plt.legend(fontsize='large')\n",
        "plt.grid()\n",
        "\n",
        "test_accuracy = np.mean(naive_model.predict(X_test_bow) == y_test)\n",
        "print(f\"Model accuracy: {test_accuracy:.3f}\")\n",
        "assert test_accuracy > 0.75, \"Accuracy too low. There's likely a mistake in the code.\"\n",
        "print(\"Well done!\")"
      ]
    },
    {
      "cell_type": "markdown",
      "metadata": {
        "id": "e2a_6Rd2OX5e"
      },
      "source": [
        "Okay, it definitely learned *something*. Now let's figure out what exactly it learned. The simplest way to do that is by highlighting which words have a greatest ratio of positive to negative probability or vice versa. (The log of that fraction is called *logit.*) Here are top-25 words that have the __highest__ ratio of ${p(x_i | y=0)} \\over {p(x_i | y=1)}$."
      ]
    },
    {
      "cell_type": "code",
      "execution_count": 72,
      "metadata": {
        "id": "mkD2jbV-OX5f"
      },
      "outputs": [],
      "source": [
        "bow_vocabulary = vec.get_feature_names_out()"
      ]
    },
    {
      "cell_type": "code",
      "execution_count": 73,
      "metadata": {
        "id": "H0vbJPnBOX5g"
      },
      "outputs": [
        {
          "name": "stdout",
          "output_type": "stream",
          "text": [
            "#0\t      nbsp\t(ratio=0.0018332767128025555)\n",
            "#1\t     pills\t(ratio=0.0027203460899650825)\n",
            "#2\t      2004\t(ratio=0.0029664075453388087)\n",
            "#3\t      font\t(ratio=0.0035348209672001365)\n",
            "#4\t computron\t(ratio=0.003988615550827182)\n",
            "#5\t        br\t(ratio=0.00454088539632633)\n",
            "#6\t    viagra\t(ratio=0.005676106745407913)\n",
            "#7\t        xp\t(ratio=0.005676106745407913)\n",
            "#8\t    cialis\t(ratio=0.006785231051981872)\n",
            "#9\t        td\t(ratio=0.006944883547322622)\n",
            "#10\t      soft\t(ratio=0.0074723430572458584)\n",
            "#11\t    moopid\t(ratio=0.007977231101654363)\n",
            "#12\t   hotlist\t(ratio=0.007977231101654363)\n",
            "#13\t     width\t(ratio=0.008555291326411927)\n",
            "#14\t      meds\t(ratio=0.008681104434153278)\n",
            "#15\t      href\t(ratio=0.008810673157051089)\n",
            "#16\t       pro\t(ratio=0.008944168204885196)\n",
            "#17\t        mx\t(ratio=0.00908177079265266)\n",
            "#18\t  paliourg\t(ratio=0.009370080976546395)\n",
            "#19\t      pain\t(ratio=0.01017784657797281)\n",
            "#20\t        oo\t(ratio=0.010356405289867069)\n",
            "#21\t photoshop\t(ratio=0.010541341098614695)\n",
            "#22\t     drugs\t(ratio=0.010541341098614695)\n",
            "#23\t     adobe\t(ratio=0.010541341098614695)\n",
            "#24\t      spam\t(ratio=0.011138020783441942)\n"
          ]
        }
      ],
      "source": [
        "probability_ratio = 1/(naive_model.p_x_given_positive/naive_model.p_x_given_negative)\n",
        "top_negative_words = bow_vocabulary[np.argsort(probability_ratio)[:25]]\n",
        "assert len(top_negative_words) == 25 and [isinstance(w, str) for w in top_negative_words]\n",
        "\n",
        "for i, word in enumerate(top_negative_words):\n",
        "    print(f\"#{i}\\t{word.rjust(10, ' ')}\\t(ratio={probability_ratio[list(bow_vocabulary).index(word)]})\")"
      ]
    },
    {
      "cell_type": "code",
      "execution_count": 74,
      "metadata": {
        "id": "qcdqpbDe4Z-G"
      },
      "outputs": [],
      "source": [
        "from sklearn.metrics import ConfusionMatrixDisplay"
      ]
    },
    {
      "cell_type": "code",
      "execution_count": 75,
      "metadata": {
        "id": "inqeD8UG4Z-I"
      },
      "outputs": [
        {
          "data": {
            "text/plain": [
              "<sklearn.metrics._plot.confusion_matrix.ConfusionMatrixDisplay at 0x7a820c039c90>"
            ]
          },
          "execution_count": 75,
          "metadata": {},
          "output_type": "execute_result"
        },
        {
          "data": {
            "image/png": "[encoded data removed]",
            "text/plain": [
              "<Figure size 640x480 with 2 Axes>"
            ]
          },
          "metadata": {},
          "output_type": "display_data"
        }
      ],
      "source": [
        "ConfusionMatrixDisplay.from_predictions(y_test, naive_model.predict(X_test_bow))"
      ]
    },
    {
      "cell_type": "markdown",
      "metadata": {
        "id": "Z9QcXQjB3_5C"
      },
      "source": [
        "Now, let's do it with the built-in function and compare results"
      ]
    },
    {
      "cell_type": "code",
      "execution_count": 76,
      "metadata": {
        "id": "NLl9t66lP6L8"
      },
      "outputs": [],
      "source": [
        "from sklearn.naive_bayes import MultinomialNB"
      ]
    },
    {
      "cell_type": "code",
      "execution_count": 77,
      "metadata": {
        "id": "MeeD-XjpQIz-"
      },
      "outputs": [],
      "source": [
        "model = MultinomialNB().fit(X_train_bow, y_train)"
      ]
    },
    {
      "cell_type": "code",
      "execution_count": 78,
      "metadata": {
        "id": "N29FnF9SQR92"
      },
      "outputs": [
        {
          "data": {
            "text/plain": [
              "0.9709976798143851"
            ]
          },
          "execution_count": 78,
          "metadata": {},
          "output_type": "execute_result"
        }
      ],
      "source": [
        "np.mean(y_test==model.predict(X_test_bow))"
      ]
    },
    {
      "cell_type": "markdown",
      "metadata": {
        "id": "b1uQ9TmVOX5g"
      },
      "source": [
        "Now lets try something less prehistoric: __Logistic Regression__. It turns out, if you're using silicon instead of an abacus, you can find model weights by optimizing the log-probability of the answer. Though, of course, you don't even need to write it by hand anymore. Let's sklearn it!\n",
        "\n",
        "You can play with parameter $C=$ in LogisticRegression, it plays similar role as in SVM allowing slightly negative margins."
      ]
    },
    {
      "cell_type": "code",
      "execution_count": 80,
      "metadata": {
        "id": "hlo_pfNGOX5h"
      },
      "outputs": [],
      "source": [
        "from sklearn.linear_model import LogisticRegression\n",
        "bow_model = LogisticRegression(C = 0.2).fit(X_train_bow, y_train)"
      ]
    },
    {
      "cell_type": "code",
      "execution_count": 81,
      "metadata": {
        "colab": {
          "base_uri": "https://localhost:8080/",
          "height": 465
        },
        "id": "b6qzyNS-OX5h",
        "outputId": "5f399ae5-af81-45f2-b8f5-d61f6eb4c514"
      },
      "outputs": [
        {
          "name": "stdout",
          "output_type": "stream",
          "text": [
            "Model accuracy: 0.971\n",
            "Well done!\n"
          ]
        },
        {
          "data": {
            "image/png": "[encoded data removed]",
            "text/plain": [
              "<Figure size 640x480 with 1 Axes>"
            ]
          },
          "metadata": {},
          "output_type": "display_data"
        }
      ],
      "source": [
        "from sklearn.metrics import roc_auc_score, roc_curve\n",
        "\n",
        "for name, X, y, model in [\n",
        "    ('train', X_train_bow, y_train, bow_model),\n",
        "    ('test ', X_test_bow, y_test, bow_model)\n",
        "]:\n",
        "    proba = model.predict_proba(X)[:, 1]\n",
        "    auc = roc_auc_score(y, proba)\n",
        "    plt.plot(*roc_curve(y, proba)[:2], label='%s AUC=%.4f' % (name, auc))\n",
        "\n",
        "plt.plot([0, 1], [0, 1], '--', color='black',)\n",
        "plt.legend(fontsize='large')\n",
        "plt.grid()\n",
        "\n",
        "test_accuracy = np.mean(bow_model.predict(X_test_bow) == y_test)\n",
        "print(f\"Model accuracy: {test_accuracy:.3f}\")\n",
        "assert test_accuracy > 0.77, \"Hint: tune the parameter C to improve performance\"\n",
        "print(\"Well done!\")"
      ]
    },
    {
      "cell_type": "code",
      "execution_count": 82,
      "metadata": {
        "id": "2UXDOAGPswD0"
      },
      "outputs": [
        {
          "data": {
            "text/plain": [
              "<sklearn.metrics._plot.confusion_matrix.ConfusionMatrixDisplay at 0x7a82657d1300>"
            ]
          },
          "execution_count": 82,
          "metadata": {},
          "output_type": "execute_result"
        },
        {
          "data": {
            "image/png": "[encoded data removed]",
            "text/plain": [
              "<Figure size 640x480 with 2 Axes>"
            ]
          },
          "metadata": {},
          "output_type": "display_data"
        }
      ],
      "source": [
        "ConfusionMatrixDisplay.from_predictions(y_test, bow_model.predict(X_test_bow))"
      ]
    },
    {
      "cell_type": "markdown",
      "metadata": {
        "id": "7cEgJnO6QPKc"
      },
      "source": [
        "Finally, you can play with threshold to reduce the False Positive predictions, as you did in HW5. But let's better think about\n",
        "\n",
        "## Q4 (1pt) How to update the Naive Bayes model after getting a new spam classification from a user?"
      ]
    },
    {
      "cell_type": "markdown",
      "metadata": {},
      "source": [
        "Since the Naive model is determined by p(x(i) | y) and p(y), both of these these terms have to be updated for every i in order to update the entire model. After receiving a new spam classification from a user:\n",
        "- Extract a feature for the new spam classification\n",
        "- Combine new data with previous data\n",
        "- Recalculate model parameters\n",
        "- Calculate count for each word\n",
        "- Find conditional probabilite for each word\n",
        "- Train the model with new parameters"
      ]
    }
  ],
  "metadata": {
    "colab": {
      "provenance": []
    },
    "kernelspec": {
      "display_name": "Python 3 (ipykernel)",
      "language": "python",
      "name": "python3"
    },
    "language_info": {
      "codemirror_mode": {
        "name": "ipython",
        "version": 3
      },
      "file_extension": ".py",
      "mimetype": "text/x-python",
      "name": "python",
      "nbconvert_exporter": "python",
      "pygments_lexer": "ipython3",
      "version": "3.10.12"
    }
  },
  "nbformat": 4,
  "nbformat_minor": 0
}
