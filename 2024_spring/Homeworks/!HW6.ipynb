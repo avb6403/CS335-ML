{
  "cells": [
    {
      "cell_type": "markdown",
      "metadata": {
        "id": "LNzpOlkNVOnv"
      },
      "source": [
        "#Homework 6\n",
        "Part 1: Softmax\n",
        "\n",
        "Part 2: Bayes: MAP estimator for continuous data\n",
        "\n",
        "Part 3: Naive Bayes: Bayesian spam filter (discrete date)"
      ]
    },
    {
      "cell_type": "code",
      "execution_count": 112,
      "metadata": {
        "id": "vb53IqZeOX5K"
      },
      "outputs": [],
      "source": [
        "import numpy as np\n",
        "import pandas as pd\n",
        "import matplotlib.pyplot as plt\n",
        "%matplotlib inline"
      ]
    },
    {
      "cell_type": "markdown",
      "metadata": {
        "id": "YQOqlxGSZNFs"
      },
      "source": [
        "#Part 1\n",
        "When computing the output probabilities from margins $x_1,\\ x_2,\\ \\ldots,\\ x_C$, often (incorrectly) called *logits*, the exponential terms may be very large or very small. This can cause numerical or overflow errors (try `np.exp(1000)`).\n",
        "\n",
        "Check that the following formula is correct for an arbitrary $A$:\n",
        "\n",
        "$$\n",
        "Softmax_i = \\frac{e^{x_i}}{\\sum\\limits_{c=1}^{C} e^{x_c}} = \\frac{e^{x_i-A}}{\\sum\\limits_{c=1}^{C} e^{x_c-A}}.\n",
        "$$\n",
        "\n",
        "A suitable choice for this fixed value $A$ is\n",
        "$$\n",
        "A = \\underset{c}{\\max} x_c.\n",
        "$$\n",
        "\n",
        "##Q1 (3pt) Write a function `compute_probabilities` that computes Softmax."
      ]
    },
    {
      "cell_type": "code",
      "execution_count": 113,
      "metadata": {
        "id": "S6s7L43uZNW7"
      },
      "outputs": [],
      "source": [
        "def compute_probabilities(X):\n",
        "    \"\"\"\n",
        "    Computes Softmax, for each vector X[i, :].\n",
        "\n",
        "    Args:\n",
        "        X - (n, C) NumPy array (n datapoints each with C features)\n",
        "    Returns:\n",
        "        H - (n, C) NumPy array, where each row H[i,:] = Softmax(X[i,:])\n",
        "    \"\"\"\n",
        "    # Get the A = max(c) x_c\n",
        "    A = np.max(X, axis = 1)\n",
        "    # Get e^ (x_i - A)\n",
        "    exp_X = np.exp(X - A[:, np.newaxis])\n",
        "    # Get sum from 1 to C of e^ (x_i - A)\n",
        "    sum = np.sum(exp_X, axis=1)[:, np.newaxis]\n",
        "    # Get H = softmax(X)\n",
        "    H = exp_X / sum\n",
        "    return H"
      ]
    },
    {
      "cell_type": "code",
      "execution_count": 114,
      "metadata": {
        "id": "2LoiFUi1fOa5"
      },
      "outputs": [],
      "source": [
        "#Test yourself\n",
        "from scipy.special import softmax\n",
        "M = np.random.randint(-1000, 1000, size=(30,20))\n",
        "assert np.allclose(compute_probabilities(M), softmax(M, axis=1))"
      ]
    },
    {
      "cell_type": "markdown",
      "metadata": {
        "id": "nH6xiiLgkiWc"
      },
      "source": [
        "#Part 2\n",
        "In this Question you will work with dataset from Ch.2 in *Classification, Parameter Estimation and State\n",
        "Estimation: An Engineering Approach Using MATLAB* by\n",
        "R. Duin, F. van der Heijden, D. de Ridder, and D. M.\n",
        "J. Tax https://go.exlibris.link/Y6BQ8cJ5"
      ]
    },
    {
      "cell_type": "code",
      "execution_count": 115,
      "metadata": {
        "id": "Q_CfkI8WCFhX"
      },
      "outputs": [],
      "source": [
        "#data = pd.read_csv('data_bnrs.csv', header=None)\n",
        "data = pd.read_csv('https://raw.githubusercontent.com/anton-selitskiy/RIT_ML/main/2023_fall/data_bnrs.csv', header=None)"
      ]
    },
    {
      "cell_type": "code",
      "execution_count": 116,
      "metadata": {
        "colab": {
          "base_uri": "https://localhost:8080/",
          "height": 206
        },
        "id": "4hQuayjBCp_-",
        "outputId": "31f30a2e-c93a-4f44-bb1f-3e31439b0c7e"
      },
      "outputs": [
        {
          "data": {
            "application/vnd.google.colaboratory.intrinsic+json": {
              "summary": "{\n  \"name\": \"data\",\n  \"rows\": 94,\n  \"fields\": [\n    {\n      \"column\": 0,\n      \"properties\": {\n        \"dtype\": \"number\",\n        \"std\": 0.14150746445554355,\n        \"min\": 0.11983,\n        \"max\": 0.71084,\n        \"num_unique_values\": 94,\n        \"samples\": [\n          0.57131,\n          0.43701,\n          0.20895\n        ],\n        \"semantic_type\": \"\",\n        \"description\": \"\"\n      }\n    },\n    {\n      \"column\": 1,\n      \"properties\": {\n        \"dtype\": \"number\",\n        \"std\": 0.32976293263613266,\n        \"min\": 0.028819,\n        \"max\": 0.97778,\n        \"num_unique_values\": 94,\n        \"samples\": [\n          0.085736,\n          0.057742,\n          0.072455\n        ],\n        \"semantic_type\": \"\",\n        \"description\": \"\"\n      }\n    },\n    {\n      \"column\": 2,\n      \"properties\": {\n        \"dtype\": \"number\",\n        \"std\": 1,\n        \"min\": 1,\n        \"max\": 4,\n        \"num_unique_values\": 4,\n        \"samples\": [\n          2,\n          4,\n          1\n        ],\n        \"semantic_type\": \"\",\n        \"description\": \"\"\n      }\n    }\n  ]\n}",
              "type": "dataframe",
              "variable_name": "data"
            },
            "text/html": [
              "\n",
              "  <div id=\"df-b5bde0fc-967b-4ee0-aee7-c47b24acd1a2\" class=\"colab-df-container\">\n",
              "    <div>\n",
              "<style scoped>\n",
              "    .dataframe tbody tr th:only-of-type {\n",
              "        vertical-align: middle;\n",
              "    }\n",
              "\n",
              "    .dataframe tbody tr th {\n",
              "        vertical-align: top;\n",
              "    }\n",
              "\n",
              "    .dataframe thead th {\n",
              "        text-align: right;\n",
              "    }\n",
              "</style>\n",
              "<table border=\"1\" class=\"dataframe\">\n",
              "  <thead>\n",
              "    <tr style=\"text-align: right;\">\n",
              "      <th></th>\n",
              "      <th>0</th>\n",
              "      <th>1</th>\n",
              "      <th>2</th>\n",
              "    </tr>\n",
              "  </thead>\n",
              "  <tbody>\n",
              "    <tr>\n",
              "      <th>0</th>\n",
              "      <td>0.35029</td>\n",
              "      <td>0.79978</td>\n",
              "      <td>1</td>\n",
              "    </tr>\n",
              "    <tr>\n",
              "      <th>1</th>\n",
              "      <td>0.60302</td>\n",
              "      <td>0.97778</td>\n",
              "      <td>1</td>\n",
              "    </tr>\n",
              "    <tr>\n",
              "      <th>2</th>\n",
              "      <td>0.32696</td>\n",
              "      <td>0.74125</td>\n",
              "      <td>1</td>\n",
              "    </tr>\n",
              "    <tr>\n",
              "      <th>3</th>\n",
              "      <td>0.35015</td>\n",
              "      <td>0.83668</td>\n",
              "      <td>1</td>\n",
              "    </tr>\n",
              "    <tr>\n",
              "      <th>4</th>\n",
              "      <td>0.46741</td>\n",
              "      <td>0.94682</td>\n",
              "      <td>1</td>\n",
              "    </tr>\n",
              "  </tbody>\n",
              "</table>\n",
              "</div>\n",
              "    <div class=\"colab-df-buttons\">\n",
              "\n",
              "  <div class=\"colab-df-container\">\n",
              "    <button class=\"colab-df-convert\" onclick=\"convertToInteractive('df-b5bde0fc-967b-4ee0-aee7-c47b24acd1a2')\"\n",
              "            title=\"Convert this dataframe to an interactive table.\"\n",
              "            style=\"display:none;\">\n",
              "\n",
              "  <svg xmlns=\"http://www.w3.org/2000/svg\" height=\"24px\" viewBox=\"0 -960 960 960\">\n",
              "    <path d=\"M120-120v-720h720v720H120Zm60-500h600v-160H180v160Zm220 220h160v-160H400v160Zm0 220h160v-160H400v160ZM180-400h160v-160H180v160Zm440 0h160v-160H620v160ZM180-180h160v-160H180v160Zm440 0h160v-160H620v160Z\"/>\n",
              "  </svg>\n",
              "    </button>\n",
              "\n",
              "  <style>\n",
              "    .colab-df-container {\n",
              "      display:flex;\n",
              "      gap: 12px;\n",
              "    }\n",
              "\n",
              "    .colab-df-convert {\n",
              "      background-color: #E8F0FE;\n",
              "      border: none;\n",
              "      border-radius: 50%;\n",
              "      cursor: pointer;\n",
              "      display: none;\n",
              "      fill: #1967D2;\n",
              "      height: 32px;\n",
              "      padding: 0 0 0 0;\n",
              "      width: 32px;\n",
              "    }\n",
              "\n",
              "    .colab-df-convert:hover {\n",
              "      background-color: #E2EBFA;\n",
              "      box-shadow: 0px 1px 2px rgba(60, 64, 67, 0.3), 0px 1px 3px 1px rgba(60, 64, 67, 0.15);\n",
              "      fill: #174EA6;\n",
              "    }\n",
              "\n",
              "    .colab-df-buttons div {\n",
              "      margin-bottom: 4px;\n",
              "    }\n",
              "\n",
              "    [theme=dark] .colab-df-convert {\n",
              "      background-color: #3B4455;\n",
              "      fill: #D2E3FC;\n",
              "    }\n",
              "\n",
              "    [theme=dark] .colab-df-convert:hover {\n",
              "      background-color: #434B5C;\n",
              "      box-shadow: 0px 1px 3px 1px rgba(0, 0, 0, 0.15);\n",
              "      filter: drop-shadow(0px 1px 2px rgba(0, 0, 0, 0.3));\n",
              "      fill: #FFFFFF;\n",
              "    }\n",
              "  </style>\n",
              "\n",
              "    <script>\n",
              "      const buttonEl =\n",
              "        document.querySelector('#df-b5bde0fc-967b-4ee0-aee7-c47b24acd1a2 button.colab-df-convert');\n",
              "      buttonEl.style.display =\n",
              "        google.colab.kernel.accessAllowed ? 'block' : 'none';\n",
              "\n",
              "      async function convertToInteractive(key) {\n",
              "        const element = document.querySelector('#df-b5bde0fc-967b-4ee0-aee7-c47b24acd1a2');\n",
              "        const dataTable =\n",
              "          await google.colab.kernel.invokeFunction('convertToInteractive',\n",
              "                                                    [key], {});\n",
              "        if (!dataTable) return;\n",
              "\n",
              "        const docLinkHtml = 'Like what you see? Visit the ' +\n",
              "          '<a target=\"_blank\" href=https://colab.research.google.com/notebooks/data_table.ipynb>data table notebook</a>'\n",
              "          + ' to learn more about interactive tables.';\n",
              "        element.innerHTML = '';\n",
              "        dataTable['output_type'] = 'display_data';\n",
              "        await google.colab.output.renderOutput(dataTable, element);\n",
              "        const docLink = document.createElement('div');\n",
              "        docLink.innerHTML = docLinkHtml;\n",
              "        element.appendChild(docLink);\n",
              "      }\n",
              "    </script>\n",
              "  </div>\n",
              "\n",
              "\n",
              "<div id=\"df-951e576a-d82d-4028-ae75-bb3df5326117\">\n",
              "  <button class=\"colab-df-quickchart\" onclick=\"quickchart('df-951e576a-d82d-4028-ae75-bb3df5326117')\"\n",
              "            title=\"Suggest charts\"\n",
              "            style=\"display:none;\">\n",
              "\n",
              "<svg xmlns=\"http://www.w3.org/2000/svg\" height=\"24px\"viewBox=\"0 0 24 24\"\n",
              "     width=\"24px\">\n",
              "    <g>\n",
              "        <path d=\"M19 3H5c-1.1 0-2 .9-2 2v14c0 1.1.9 2 2 2h14c1.1 0 2-.9 2-2V5c0-1.1-.9-2-2-2zM9 17H7v-7h2v7zm4 0h-2V7h2v10zm4 0h-2v-4h2v4z\"/>\n",
              "    </g>\n",
              "</svg>\n",
              "  </button>\n",
              "\n",
              "<style>\n",
              "  .colab-df-quickchart {\n",
              "      --bg-color: #E8F0FE;\n",
              "      --fill-color: #1967D2;\n",
              "      --hover-bg-color: #E2EBFA;\n",
              "      --hover-fill-color: #174EA6;\n",
              "      --disabled-fill-color: #AAA;\n",
              "      --disabled-bg-color: #DDD;\n",
              "  }\n",
              "\n",
              "  [theme=dark] .colab-df-quickchart {\n",
              "      --bg-color: #3B4455;\n",
              "      --fill-color: #D2E3FC;\n",
              "      --hover-bg-color: #434B5C;\n",
              "      --hover-fill-color: #FFFFFF;\n",
              "      --disabled-bg-color: #3B4455;\n",
              "      --disabled-fill-color: #666;\n",
              "  }\n",
              "\n",
              "  .colab-df-quickchart {\n",
              "    background-color: var(--bg-color);\n",
              "    border: none;\n",
              "    border-radius: 50%;\n",
              "    cursor: pointer;\n",
              "    display: none;\n",
              "    fill: var(--fill-color);\n",
              "    height: 32px;\n",
              "    padding: 0;\n",
              "    width: 32px;\n",
              "  }\n",
              "\n",
              "  .colab-df-quickchart:hover {\n",
              "    background-color: var(--hover-bg-color);\n",
              "    box-shadow: 0 1px 2px rgba(60, 64, 67, 0.3), 0 1px 3px 1px rgba(60, 64, 67, 0.15);\n",
              "    fill: var(--button-hover-fill-color);\n",
              "  }\n",
              "\n",
              "  .colab-df-quickchart-complete:disabled,\n",
              "  .colab-df-quickchart-complete:disabled:hover {\n",
              "    background-color: var(--disabled-bg-color);\n",
              "    fill: var(--disabled-fill-color);\n",
              "    box-shadow: none;\n",
              "  }\n",
              "\n",
              "  .colab-df-spinner {\n",
              "    border: 2px solid var(--fill-color);\n",
              "    border-color: transparent;\n",
              "    border-bottom-color: var(--fill-color);\n",
              "    animation:\n",
              "      spin 1s steps(1) infinite;\n",
              "  }\n",
              "\n",
              "  @keyframes spin {\n",
              "    0% {\n",
              "      border-color: transparent;\n",
              "      border-bottom-color: var(--fill-color);\n",
              "      border-left-color: var(--fill-color);\n",
              "    }\n",
              "    20% {\n",
              "      border-color: transparent;\n",
              "      border-left-color: var(--fill-color);\n",
              "      border-top-color: var(--fill-color);\n",
              "    }\n",
              "    30% {\n",
              "      border-color: transparent;\n",
              "      border-left-color: var(--fill-color);\n",
              "      border-top-color: var(--fill-color);\n",
              "      border-right-color: var(--fill-color);\n",
              "    }\n",
              "    40% {\n",
              "      border-color: transparent;\n",
              "      border-right-color: var(--fill-color);\n",
              "      border-top-color: var(--fill-color);\n",
              "    }\n",
              "    60% {\n",
              "      border-color: transparent;\n",
              "      border-right-color: var(--fill-color);\n",
              "    }\n",
              "    80% {\n",
              "      border-color: transparent;\n",
              "      border-right-color: var(--fill-color);\n",
              "      border-bottom-color: var(--fill-color);\n",
              "    }\n",
              "    90% {\n",
              "      border-color: transparent;\n",
              "      border-bottom-color: var(--fill-color);\n",
              "    }\n",
              "  }\n",
              "</style>\n",
              "\n",
              "  <script>\n",
              "    async function quickchart(key) {\n",
              "      const quickchartButtonEl =\n",
              "        document.querySelector('#' + key + ' button');\n",
              "      quickchartButtonEl.disabled = true;  // To prevent multiple clicks.\n",
              "      quickchartButtonEl.classList.add('colab-df-spinner');\n",
              "      try {\n",
              "        const charts = await google.colab.kernel.invokeFunction(\n",
              "            'suggestCharts', [key], {});\n",
              "      } catch (error) {\n",
              "        console.error('Error during call to suggestCharts:', error);\n",
              "      }\n",
              "      quickchartButtonEl.classList.remove('colab-df-spinner');\n",
              "      quickchartButtonEl.classList.add('colab-df-quickchart-complete');\n",
              "    }\n",
              "    (() => {\n",
              "      let quickchartButtonEl =\n",
              "        document.querySelector('#df-951e576a-d82d-4028-ae75-bb3df5326117 button');\n",
              "      quickchartButtonEl.style.display =\n",
              "        google.colab.kernel.accessAllowed ? 'block' : 'none';\n",
              "    })();\n",
              "  </script>\n",
              "</div>\n",
              "    </div>\n",
              "  </div>\n"
            ],
            "text/plain": [
              "         0        1  2\n",
              "0  0.35029  0.79978  1\n",
              "1  0.60302  0.97778  1\n",
              "2  0.32696  0.74125  1\n",
              "3  0.35015  0.83668  1\n",
              "4  0.46741  0.94682  1"
            ]
          },
          "execution_count": 116,
          "metadata": {},
          "output_type": "execute_result"
        }
      ],
      "source": [
        "data.head()"
      ]
    },
    {
      "cell_type": "code",
      "execution_count": 117,
      "metadata": {
        "id": "bK-K4D0iDQ2I"
      },
      "outputs": [],
      "source": [
        "X = data.iloc[:,:-1].values\n",
        "y = data.iloc[:,-1].values"
      ]
    },
    {
      "cell_type": "code",
      "execution_count": 118,
      "metadata": {
        "id": "6tC5OnPMmY_A"
      },
      "outputs": [],
      "source": [
        "from sklearn.model_selection import train_test_split\n",
        "X_train, X_test, y_train, y_test = train_test_split(X, y, test_size=0.2, random_state=42)"
      ]
    },
    {
      "cell_type": "code",
      "execution_count": 119,
      "metadata": {
        "colab": {
          "base_uri": "https://localhost:8080/",
          "height": 447
        },
        "id": "yplpQNErCsMq",
        "outputId": "a970ad59-7c34-4f70-bdfe-19252b9e2638"
      },
      "outputs": [
        {
          "data": {
            "text/plain": [
              "<matplotlib.collections.PathCollection at 0x781a07959c00>"
            ]
          },
          "execution_count": 119,
          "metadata": {},
          "output_type": "execute_result"
        },
        {
          "data": {
            "image/png": "[encoded data removed]",
            "text/plain": [
              "<Figure size 640x480 with 1 Axes>"
            ]
          },
          "metadata": {},
          "output_type": "display_data"
        }
      ],
      "source": [
        "plt.scatter(X_train[:,0], X_train[:,1], c=y_train)\n",
        "plt.scatter(X_test[:,0], X_test[:,1], marker='x')"
      ]
    },
    {
      "cell_type": "markdown",
      "metadata": {
        "id": "BrFoZRQ1tnfj"
      },
      "source": [
        "From the conditional probability formula, we know that\n",
        "$$\n",
        "p(y=c|x) = \\frac{p(x, y=c)}{p(x)} = \\frac{p(x|y=c)p(y=c)}{p(x)}, \\quad c=1,2,3,4.\n",
        "$$\n",
        "\n",
        "Because the denominator doesn't depend on $c,$\n",
        "$$\n",
        "a(x) = \\underset{c}{argmax}\\ p(y=c|x) = \\underset{c}{argmax}\\ p(x|y=c)p(y=c).\n",
        "$$\n",
        "\n",
        "We will assume that conditional distribution $p(x|y=c)\\sim N(\\mu_c,\\Sigma_c)$ you can use `multivariate_normal` from `scipy.stats` to calculate this value for the entier matix $X$ with datapoints in rows $X[i,:]$ as follows: `multivariate_normal(X, mean=, cov=)`.\n",
        "\n",
        "For the Cost function, you can use the following decision rule:\n",
        "$$\n",
        "a(x) = argmin\\ \\text{Cost_Matrix}\\cdot \\begin{bmatrix}p(y=1|x)\\\\ p(y=2|x) \\\\ p(y=3|x)\\\\ p(y=4|x)\\end{bmatrix} = argmin\\ \\text{Cost_Matrix}\\cdot \\begin{bmatrix}p(x|y=1)p(y=1)\\\\ p(x|y=2)p(y=2) \\\\ p(x|y=3)p(y=3)\\\\ p(x|y=4)p(y=4)\\end{bmatrix}.\n",
        "$$"
      ]
    },
    {
      "cell_type": "markdown",
      "metadata": {
        "id": "QHCKneY6R0yh"
      },
      "source": [
        "##Q2 (8pt) Write the class `UserMAP` for maximum a posteriori estimator"
      ]
    },
    {
      "cell_type": "code",
      "execution_count": 120,
      "metadata": {
        "id": "lU__wXm7WFKv"
      },
      "outputs": [],
      "source": [
        "from scipy.stats import multivariate_normal"
      ]
    },
    {
      "cell_type": "code",
      "execution_count": 121,
      "metadata": {
        "id": "2pkw1g72FYMU"
      },
      "outputs": [],
      "source": [
        "class UserMAP():\n",
        "    def __init__(self, cost=False):\n",
        "        self.cost = cost\n",
        "\n",
        "    def fit(self, X, y):\n",
        "      \"\"\"\n",
        "      Calculate mean velues and covariance matrices for each class\n",
        "      Calculate class distribution p(y)\n",
        "      Store them as self. variables\n",
        "      \"\"\"\n",
        "      # Get all unique classes of y\n",
        "      self.classes = np.unique(y)\n",
        "      # Create empty array of desired length for mean for each class\n",
        "      self.mu = np.zeros((len(self.classes), X.shape[1]))\n",
        "      # Create empty array of desired length for covariance for each class\n",
        "      self.sigma = np.zeros((len(self.classes), X.shape[1], X.shape[1]))\n",
        "      # Create empty array for class distribution p(y)\n",
        "      self.py = np.zeros(len(self.classes))\n",
        "\n",
        "      # Iterate over classes\n",
        "      for i, c in enumerate(self.classes):\n",
        "        # Get matrix where y == c\n",
        "        X_c = X[y == c]\n",
        "        # Calculate mean for that class c\n",
        "        self.mu[i] = X_c.mean(axis=0)\n",
        "        # Calculate covariance for class c\n",
        "        self.sigma[i] = np.cov(X_c.T)\n",
        "        # Calculate class distribution\n",
        "        self.py[i] = X_c.shape[0] / len(y)\n",
        "\n",
        "    def posterior(self, X):\n",
        "      \"\"\"\n",
        "      Calculate posterior pobabilities and return argmax\n",
        "      \"\"\"\n",
        "      # Create empty array for posterior probabilities\n",
        "      prob_posterior = np.zeros((X.shape[0], len(self.classes)))\n",
        "\n",
        "      # Iterate over classes\n",
        "      for i, _ in enumerate(self.classes):\n",
        "        # Calculate conditional probability\n",
        "        prob_posterior[:, i] = multivariate_normal.pdf(X, mean=self.mu[i], cov=self.sigma[i]) * self.py[i]\n",
        "\n",
        "      # Get argmax of conditional probabilities\n",
        "      return np.argmax(prob_posterior, axis=1)\n",
        "\n",
        "    def posterior_cost(self, X):\n",
        "      \"\"\"\n",
        "      Given the cost matrix and posterior probabilities, predict the class\n",
        "      \"\"\"\n",
        "      cost_matrix = np.array([\n",
        "        [ -0.20, 0.07, 0.07, 0.07 ],\n",
        "        [  0.07,-0.15, 0.07, 0.07 ],\n",
        "        [  0.07, 0.07,-0.05, 0.07 ],\n",
        "        [  0.03, 0.03, 0.03, 0.03 ]])\n",
        "\n",
        "      # Create empty array for posterior probabilities\n",
        "      prob_posterior_cost = np.zeros((X.shape[0], len(self.classes)))\n",
        "\n",
        "      # Iterate over classes\n",
        "      for i, _ in enumerate(self.classes):\n",
        "        # Calculate conditional probability\n",
        "        prob_posterior_cost[:, i] = multivariate_normal.pdf(X, mean=self.mu[i], cov=self.sigma[i]) * self.py[i]\n",
        "\n",
        "      # Multiply posterior probabilties by transpose of cost matrix\n",
        "      # To get class costs\n",
        "      class_costs = prob_posterior_cost.dot(cost_matrix.T)\n",
        "\n",
        "      # Get the min of class_costs (we minimize the costs)\n",
        "      return np.argmin(class_costs, axis=1)\n",
        "\n",
        "\n",
        "    def predict(self, X):\n",
        "      if self.cost == True:\n",
        "        return self.posterior_cost(X)\n",
        "      return self.posterior(X)"
      ]
    },
    {
      "cell_type": "code",
      "execution_count": 122,
      "metadata": {
        "id": "AJEqrrn4SUsR"
      },
      "outputs": [],
      "source": [
        "from mlxtend.plotting import plot_decision_regions"
      ]
    },
    {
      "cell_type": "code",
      "execution_count": 123,
      "metadata": {
        "id": "sN4JlQi8Sfe_"
      },
      "outputs": [],
      "source": [
        "clf = UserMAP()"
      ]
    },
    {
      "cell_type": "code",
      "execution_count": 124,
      "metadata": {
        "id": "wOvPrahxSmNP"
      },
      "outputs": [],
      "source": [
        "clf.fit(X_train, y_train)"
      ]
    },
    {
      "cell_type": "code",
      "execution_count": 125,
      "metadata": {
        "colab": {
          "base_uri": "https://localhost:8080/",
          "height": 482
        },
        "id": "Vt69ENuLSpmq",
        "outputId": "a1d9160e-03b2-49f4-aeed-836efeb384be"
      },
      "outputs": [
        {
          "name": "stderr",
          "output_type": "stream",
          "text": [
            "/usr/local/lib/python3.10/dist-packages/mlxtend/plotting/decision_regions.py:346: UserWarning: You passed a edgecolor/edgecolors ('black') for an unfilled marker ('x').  Matplotlib is ignoring the edgecolor in favor of the facecolor.  This behavior may change in the future.\n",
            "  ax.scatter(\n"
          ]
        },
        {
          "data": {
            "text/plain": [
              "<Axes: >"
            ]
          },
          "execution_count": 125,
          "metadata": {},
          "output_type": "execute_result"
        },
        {
          "data": {
            "image/png": "[encoded data removed]",
            "text/plain": [
              "<Figure size 640x480 with 1 Axes>"
            ]
          },
          "metadata": {},
          "output_type": "display_data"
        }
      ],
      "source": [
        "plot_decision_regions(X_test,y_test,clf)"
      ]
    },
    {
      "cell_type": "code",
      "execution_count": 126,
      "metadata": {
        "id": "xs-wc0ItpT3H"
      },
      "outputs": [],
      "source": [
        "clf_cost = UserMAP(cost=True)"
      ]
    },
    {
      "cell_type": "code",
      "execution_count": 127,
      "metadata": {
        "id": "0LL1f9BWpT3J"
      },
      "outputs": [],
      "source": [
        "clf_cost.fit(X_train, y_train)"
      ]
    },
    {
      "cell_type": "code",
      "execution_count": 128,
      "metadata": {
        "colab": {
          "base_uri": "https://localhost:8080/",
          "height": 447
        },
        "id": "pZ6SqQ1rpT3K",
        "outputId": "2ffa76ae-e117-4590-814d-397b5bfb7c54"
      },
      "outputs": [
        {
          "data": {
            "text/plain": [
              "<Axes: >"
            ]
          },
          "execution_count": 128,
          "metadata": {},
          "output_type": "execute_result"
        },
        {
          "data": {
            "image/png": "[encoded data removed]",
            "text/plain": [
              "<Figure size 640x480 with 1 Axes>"
            ]
          },
          "metadata": {},
          "output_type": "display_data"
        }
      ],
      "source": [
        "plot_decision_regions(X_test,y_test,clf_cost)"
      ]
    },
    {
      "cell_type": "markdown",
      "metadata": {
        "id": "pB4PUCyHOX5L"
      },
      "source": [
        "# Part 3\n",
        "In this Question, you will apply Naive Bayes classifier to build a spam filter. Use dataset from https://www.kaggle.com/datasets/venky73/spam-mails-dataset?select=spam_ham_dataset.csv  It's *Enron email dataset,* a large collection of emails from the Enron Corporation."
      ]
    },
    {
      "cell_type": "code",
      "execution_count": 129,
      "metadata": {
        "id": "ZH6te3Eq0d8V"
      },
      "outputs": [],
      "source": [
        "#!unzip spam_ham_dataset.csv.zip"
      ]
    },
    {
      "cell_type": "code",
      "execution_count": 130,
      "metadata": {
        "colab": {
          "base_uri": "https://localhost:8080/",
          "height": 206
        },
        "id": "oKkC7ul6OX5P",
        "outputId": "1ececde5-41b0-4a77-f3e4-e176cad3b652"
      },
      "outputs": [
        {
          "data": {
            "application/vnd.google.colaboratory.intrinsic+json": {
              "summary": "{\n  \"name\": \"data\",\n  \"rows\": 5171,\n  \"fields\": [\n    {\n      \"column\": \"Unnamed: 0\",\n      \"properties\": {\n        \"dtype\": \"number\",\n        \"std\": 1492,\n        \"min\": 0,\n        \"max\": 5170,\n        \"num_unique_values\": 5171,\n        \"samples\": [\n          2924,\n          3839,\n          3078\n        ],\n        \"semantic_type\": \"\",\n        \"description\": \"\"\n      }\n    },\n    {\n      \"column\": \"label\",\n      \"properties\": {\n        \"dtype\": \"category\",\n        \"num_unique_values\": 2,\n        \"samples\": [\n          \"spam\",\n          \"ham\"\n        ],\n        \"semantic_type\": \"\",\n        \"description\": \"\"\n      }\n    },\n    {\n      \"column\": \"text\",\n      \"properties\": {\n        \"dtype\": \"string\",\n        \"num_unique_values\": 4993,\n        \"samples\": [\n          \"Subject: hpl / conoco - teco waha 03 / 23 / 01 purchase\\r\\ndaren , conoco invoiced hpl at $ 5 . 87 for 03 / 23 at pgev / waha and deal ticket 685350 shows $ 4 . 87 . can you confirm the price ? thanks .\",\n          \"Subject: holiday on - call data\\r\\npipeline contact phone fax pager\\r\\nblack marlin blair lichentwalter 713 853 - 7367 713 646 - 3201 ( h )\\r\\n281 370 - 1866\\r\\ndebbie thompson 713 853 - 3144 713 646 - 3201\\r\\n( noms due today for 23 rd through 27 th )\\r\\nchannel jim tobacco 713 420 - 2159\\r\\ngas control 1 505 599 - 2333\\r\\n( open thursday . noms will be due through monday )\\r\\ncentana william spekels 713 627 - 6290 713 762 - 3450\\r\\ndonna spencer 713 627 - 6255\\r\\ngas control 1 888 204 - 1718\\r\\n( noms due today for 23 rd through 27 th )\\r\\nduke energy annette anderson 713 260 - 8603 713 949 - 3026\\r\\n( on call ) bob moseman 713 - 260 - 8698 ( thursday )\\r\\nopen tomorrow - noms will be due thru the 27 th )\\r\\nlonestar gary gafford 214 670 - 2674 214 875 - 3810\\r\\ngas control 214 875 - 2455 or 2456\\r\\n( noms due today , 23 rd thru 27 th )\\r\\nnorthern natural ben markey 853 - 7581 cell 713 446 - 9404 800 931 - 0398\\r\\n( on call ) charlie mosey 853 - 1520\\r\\ngas control 853 -\\r\\n( open thursday - noms due thru 27 th . )\\r\\neast trans - east texas\\r\\ntejas gas control 713 767 - 5366\\r\\npaula svehla 713 230 - 3569\\r\\nmickey chapman 713 230 - 3546\\r\\n( open thursday - noms due thru 27 th )\\r\\nmidcon ( y 2 k ) ken nachlinger 713 369 - 9284 713 369 - 9375 888 733 - 5954\\r\\n( on call ) steven 888 790 - 0255\\r\\n( y 2 k ) don 888 733 - 4602\\r\\ngas control 713 369 - 9200\\r\\n( noms due today , 23 rd thru 27 th )\\r\\nmoss bluff no current business\"\n        ],\n        \"semantic_type\": \"\",\n        \"description\": \"\"\n      }\n    },\n    {\n      \"column\": \"label_num\",\n      \"properties\": {\n        \"dtype\": \"number\",\n        \"std\": 0,\n        \"min\": 0,\n        \"max\": 1,\n        \"num_unique_values\": 2,\n        \"samples\": [\n          1,\n          0\n        ],\n        \"semantic_type\": \"\",\n        \"description\": \"\"\n      }\n    }\n  ]\n}",
              "type": "dataframe",
              "variable_name": "data"
            },
            "text/html": [
              "\n",
              "  <div id=\"df-7d747df8-71ea-4a08-969a-61ea20e3bee1\" class=\"colab-df-container\">\n",
              "    <div>\n",
              "<style scoped>\n",
              "    .dataframe tbody tr th:only-of-type {\n",
              "        vertical-align: middle;\n",
              "    }\n",
              "\n",
              "    .dataframe tbody tr th {\n",
              "        vertical-align: top;\n",
              "    }\n",
              "\n",
              "    .dataframe thead th {\n",
              "        text-align: right;\n",
              "    }\n",
              "</style>\n",
              "<table border=\"1\" class=\"dataframe\">\n",
              "  <thead>\n",
              "    <tr style=\"text-align: right;\">\n",
              "      <th></th>\n",
              "      <th>Unnamed: 0</th>\n",
              "      <th>label</th>\n",
              "      <th>text</th>\n",
              "      <th>label_num</th>\n",
              "    </tr>\n",
              "  </thead>\n",
              "  <tbody>\n",
              "    <tr>\n",
              "      <th>0</th>\n",
              "      <td>605</td>\n",
              "      <td>ham</td>\n",
              "      <td>Subject: enron methanol ; meter # : 988291\\r\\n...</td>\n",
              "      <td>0</td>\n",
              "    </tr>\n",
              "    <tr>\n",
              "      <th>1</th>\n",
              "      <td>2349</td>\n",
              "      <td>ham</td>\n",
              "      <td>Subject: hpl nom for january 9 , 2001\\r\\n( see...</td>\n",
              "      <td>0</td>\n",
              "    </tr>\n",
              "    <tr>\n",
              "      <th>2</th>\n",
              "      <td>3624</td>\n",
              "      <td>ham</td>\n",
              "      <td>Subject: neon retreat\\r\\nho ho ho , we ' re ar...</td>\n",
              "      <td>0</td>\n",
              "    </tr>\n",
              "    <tr>\n",
              "      <th>3</th>\n",
              "      <td>4685</td>\n",
              "      <td>spam</td>\n",
              "      <td>Subject: photoshop , windows , office . cheap ...</td>\n",
              "      <td>1</td>\n",
              "    </tr>\n",
              "    <tr>\n",
              "      <th>4</th>\n",
              "      <td>2030</td>\n",
              "      <td>ham</td>\n",
              "      <td>Subject: re : indian springs\\r\\nthis deal is t...</td>\n",
              "      <td>0</td>\n",
              "    </tr>\n",
              "  </tbody>\n",
              "</table>\n",
              "</div>\n",
              "    <div class=\"colab-df-buttons\">\n",
              "\n",
              "  <div class=\"colab-df-container\">\n",
              "    <button class=\"colab-df-convert\" onclick=\"convertToInteractive('df-7d747df8-71ea-4a08-969a-61ea20e3bee1')\"\n",
              "            title=\"Convert this dataframe to an interactive table.\"\n",
              "            style=\"display:none;\">\n",
              "\n",
              "  <svg xmlns=\"http://www.w3.org/2000/svg\" height=\"24px\" viewBox=\"0 -960 960 960\">\n",
              "    <path d=\"M120-120v-720h720v720H120Zm60-500h600v-160H180v160Zm220 220h160v-160H400v160Zm0 220h160v-160H400v160ZM180-400h160v-160H180v160Zm440 0h160v-160H620v160ZM180-180h160v-160H180v160Zm440 0h160v-160H620v160Z\"/>\n",
              "  </svg>\n",
              "    </button>\n",
              "\n",
              "  <style>\n",
              "    .colab-df-container {\n",
              "      display:flex;\n",
              "      gap: 12px;\n",
              "    }\n",
              "\n",
              "    .colab-df-convert {\n",
              "      background-color: #E8F0FE;\n",
              "      border: none;\n",
              "      border-radius: 50%;\n",
              "      cursor: pointer;\n",
              "      display: none;\n",
              "      fill: #1967D2;\n",
              "      height: 32px;\n",
              "      padding: 0 0 0 0;\n",
              "      width: 32px;\n",
              "    }\n",
              "\n",
              "    .colab-df-convert:hover {\n",
              "      background-color: #E2EBFA;\n",
              "      box-shadow: 0px 1px 2px rgba(60, 64, 67, 0.3), 0px 1px 3px 1px rgba(60, 64, 67, 0.15);\n",
              "      fill: #174EA6;\n",
              "    }\n",
              "\n",
              "    .colab-df-buttons div {\n",
              "      margin-bottom: 4px;\n",
              "    }\n",
              "\n",
              "    [theme=dark] .colab-df-convert {\n",
              "      background-color: #3B4455;\n",
              "      fill: #D2E3FC;\n",
              "    }\n",
              "\n",
              "    [theme=dark] .colab-df-convert:hover {\n",
              "      background-color: #434B5C;\n",
              "      box-shadow: 0px 1px 3px 1px rgba(0, 0, 0, 0.15);\n",
              "      filter: drop-shadow(0px 1px 2px rgba(0, 0, 0, 0.3));\n",
              "      fill: #FFFFFF;\n",
              "    }\n",
              "  </style>\n",
              "\n",
              "    <script>\n",
              "      const buttonEl =\n",
              "        document.querySelector('#df-7d747df8-71ea-4a08-969a-61ea20e3bee1 button.colab-df-convert');\n",
              "      buttonEl.style.display =\n",
              "        google.colab.kernel.accessAllowed ? 'block' : 'none';\n",
              "\n",
              "      async function convertToInteractive(key) {\n",
              "        const element = document.querySelector('#df-7d747df8-71ea-4a08-969a-61ea20e3bee1');\n",
              "        const dataTable =\n",
              "          await google.colab.kernel.invokeFunction('convertToInteractive',\n",
              "                                                    [key], {});\n",
              "        if (!dataTable) return;\n",
              "\n",
              "        const docLinkHtml = 'Like what you see? Visit the ' +\n",
              "          '<a target=\"_blank\" href=https://colab.research.google.com/notebooks/data_table.ipynb>data table notebook</a>'\n",
              "          + ' to learn more about interactive tables.';\n",
              "        element.innerHTML = '';\n",
              "        dataTable['output_type'] = 'display_data';\n",
              "        await google.colab.output.renderOutput(dataTable, element);\n",
              "        const docLink = document.createElement('div');\n",
              "        docLink.innerHTML = docLinkHtml;\n",
              "        element.appendChild(docLink);\n",
              "      }\n",
              "    </script>\n",
              "  </div>\n",
              "\n",
              "\n",
              "<div id=\"df-beab0ad3-ee27-424e-ae11-bcaa7a08f92b\">\n",
              "  <button class=\"colab-df-quickchart\" onclick=\"quickchart('df-beab0ad3-ee27-424e-ae11-bcaa7a08f92b')\"\n",
              "            title=\"Suggest charts\"\n",
              "            style=\"display:none;\">\n",
              "\n",
              "<svg xmlns=\"http://www.w3.org/2000/svg\" height=\"24px\"viewBox=\"0 0 24 24\"\n",
              "     width=\"24px\">\n",
              "    <g>\n",
              "        <path d=\"M19 3H5c-1.1 0-2 .9-2 2v14c0 1.1.9 2 2 2h14c1.1 0 2-.9 2-2V5c0-1.1-.9-2-2-2zM9 17H7v-7h2v7zm4 0h-2V7h2v10zm4 0h-2v-4h2v4z\"/>\n",
              "    </g>\n",
              "</svg>\n",
              "  </button>\n",
              "\n",
              "<style>\n",
              "  .colab-df-quickchart {\n",
              "      --bg-color: #E8F0FE;\n",
              "      --fill-color: #1967D2;\n",
              "      --hover-bg-color: #E2EBFA;\n",
              "      --hover-fill-color: #174EA6;\n",
              "      --disabled-fill-color: #AAA;\n",
              "      --disabled-bg-color: #DDD;\n",
              "  }\n",
              "\n",
              "  [theme=dark] .colab-df-quickchart {\n",
              "      --bg-color: #3B4455;\n",
              "      --fill-color: #D2E3FC;\n",
              "      --hover-bg-color: #434B5C;\n",
              "      --hover-fill-color: #FFFFFF;\n",
              "      --disabled-bg-color: #3B4455;\n",
              "      --disabled-fill-color: #666;\n",
              "  }\n",
              "\n",
              "  .colab-df-quickchart {\n",
              "    background-color: var(--bg-color);\n",
              "    border: none;\n",
              "    border-radius: 50%;\n",
              "    cursor: pointer;\n",
              "    display: none;\n",
              "    fill: var(--fill-color);\n",
              "    height: 32px;\n",
              "    padding: 0;\n",
              "    width: 32px;\n",
              "  }\n",
              "\n",
              "  .colab-df-quickchart:hover {\n",
              "    background-color: var(--hover-bg-color);\n",
              "    box-shadow: 0 1px 2px rgba(60, 64, 67, 0.3), 0 1px 3px 1px rgba(60, 64, 67, 0.15);\n",
              "    fill: var(--button-hover-fill-color);\n",
              "  }\n",
              "\n",
              "  .colab-df-quickchart-complete:disabled,\n",
              "  .colab-df-quickchart-complete:disabled:hover {\n",
              "    background-color: var(--disabled-bg-color);\n",
              "    fill: var(--disabled-fill-color);\n",
              "    box-shadow: none;\n",
              "  }\n",
              "\n",
              "  .colab-df-spinner {\n",
              "    border: 2px solid var(--fill-color);\n",
              "    border-color: transparent;\n",
              "    border-bottom-color: var(--fill-color);\n",
              "    animation:\n",
              "      spin 1s steps(1) infinite;\n",
              "  }\n",
              "\n",
              "  @keyframes spin {\n",
              "    0% {\n",
              "      border-color: transparent;\n",
              "      border-bottom-color: var(--fill-color);\n",
              "      border-left-color: var(--fill-color);\n",
              "    }\n",
              "    20% {\n",
              "      border-color: transparent;\n",
              "      border-left-color: var(--fill-color);\n",
              "      border-top-color: var(--fill-color);\n",
              "    }\n",
              "    30% {\n",
              "      border-color: transparent;\n",
              "      border-left-color: var(--fill-color);\n",
              "      border-top-color: var(--fill-color);\n",
              "      border-right-color: var(--fill-color);\n",
              "    }\n",
              "    40% {\n",
              "      border-color: transparent;\n",
              "      border-right-color: var(--fill-color);\n",
              "      border-top-color: var(--fill-color);\n",
              "    }\n",
              "    60% {\n",
              "      border-color: transparent;\n",
              "      border-right-color: var(--fill-color);\n",
              "    }\n",
              "    80% {\n",
              "      border-color: transparent;\n",
              "      border-right-color: var(--fill-color);\n",
              "      border-bottom-color: var(--fill-color);\n",
              "    }\n",
              "    90% {\n",
              "      border-color: transparent;\n",
              "      border-bottom-color: var(--fill-color);\n",
              "    }\n",
              "  }\n",
              "</style>\n",
              "\n",
              "  <script>\n",
              "    async function quickchart(key) {\n",
              "      const quickchartButtonEl =\n",
              "        document.querySelector('#' + key + ' button');\n",
              "      quickchartButtonEl.disabled = true;  // To prevent multiple clicks.\n",
              "      quickchartButtonEl.classList.add('colab-df-spinner');\n",
              "      try {\n",
              "        const charts = await google.colab.kernel.invokeFunction(\n",
              "            'suggestCharts', [key], {});\n",
              "      } catch (error) {\n",
              "        console.error('Error during call to suggestCharts:', error);\n",
              "      }\n",
              "      quickchartButtonEl.classList.remove('colab-df-spinner');\n",
              "      quickchartButtonEl.classList.add('colab-df-quickchart-complete');\n",
              "    }\n",
              "    (() => {\n",
              "      let quickchartButtonEl =\n",
              "        document.querySelector('#df-beab0ad3-ee27-424e-ae11-bcaa7a08f92b button');\n",
              "      quickchartButtonEl.style.display =\n",
              "        google.colab.kernel.accessAllowed ? 'block' : 'none';\n",
              "    })();\n",
              "  </script>\n",
              "</div>\n",
              "    </div>\n",
              "  </div>\n"
            ],
            "text/plain": [
              "   Unnamed: 0 label                                               text  \\\n",
              "0         605   ham  Subject: enron methanol ; meter # : 988291\\r\\n...   \n",
              "1        2349   ham  Subject: hpl nom for january 9 , 2001\\r\\n( see...   \n",
              "2        3624   ham  Subject: neon retreat\\r\\nho ho ho , we ' re ar...   \n",
              "3        4685  spam  Subject: photoshop , windows , office . cheap ...   \n",
              "4        2030   ham  Subject: re : indian springs\\r\\nthis deal is t...   \n",
              "\n",
              "   label_num  \n",
              "0          0  \n",
              "1          0  \n",
              "2          0  \n",
              "3          1  \n",
              "4          0  "
            ]
          },
          "execution_count": 130,
          "metadata": {},
          "output_type": "execute_result"
        }
      ],
      "source": [
        "import pandas as pd\n",
        "data = pd.read_csv('spam_ham_dataset.csv')\n",
        "\n",
        "texts = data['text'].values\n",
        "target = data['label_num'].values\n",
        "data.head()"
      ]
    },
    {
      "cell_type": "code",
      "execution_count": 131,
      "metadata": {
        "id": "6i6EbqM3OX5R"
      },
      "outputs": [],
      "source": [
        "from sklearn.model_selection import train_test_split\n",
        "texts_train, texts_test, y_train, y_test = train_test_split(texts, target, test_size=0.5, random_state=42)"
      ]
    },
    {
      "cell_type": "markdown",
      "metadata": {
        "id": "r3InaLNbOX5S"
      },
      "source": [
        "### Preprocessing and tokenization"
      ]
    },
    {
      "cell_type": "markdown",
      "metadata": {
        "id": "6DFHbHF1OX5W"
      },
      "source": [
        "### Solving it: bag of words\n",
        "\n",
        "![img](http://www.novuslight.com/uploads/n/BagofWords.jpg)\n",
        "\n",
        "Apply `CountVectorizer()` to the training data."
      ]
    },
    {
      "cell_type": "code",
      "execution_count": 132,
      "metadata": {
        "id": "Qwxf2Oiw6JMY"
      },
      "outputs": [],
      "source": [
        "from sklearn.feature_extraction.text import CountVectorizer"
      ]
    },
    {
      "cell_type": "code",
      "execution_count": 133,
      "metadata": {
        "id": "fEcwel836omQ"
      },
      "outputs": [],
      "source": [
        "vec = CountVectorizer()"
      ]
    },
    {
      "cell_type": "code",
      "execution_count": 134,
      "metadata": {
        "id": "9qNUazHSOX5a"
      },
      "outputs": [],
      "source": [
        "X_train_bow = vec.fit_transform(texts_train).toarray()\n",
        "X_test_bow = vec.transform(texts_test).toarray()"
      ]
    },
    {
      "cell_type": "markdown",
      "metadata": {
        "id": "8lbUu4b8OX5b"
      },
      "source": [
        "Now you have the counts of the words from the bag of words in each e-mail.\n",
        "\n",
        "__Naive bayes:__ perhaps the simplest model that can solve your problem is the so called Naive Bayes Classifier.\n",
        "Its a simple probabilistic model that assumes the independence of input features and computes the counting probabilities.\n",
        "\n",
        "If you don't remember the math behind Naive Bayes, read https://scikit-learn.org/stable/modules/naive_bayes.html to help refresh your memory. Done? Good! Now let's implement that :)\n",
        "\n",
        "For every word we will calculate its frequency in spam and in ham, it will be $p(word|y=0)$ and $p(word|y=0)$. To avoid devisions by zero instead of the formula\n",
        "$$\n",
        "p(word|y) =\\frac{\\#word \\text{ in class y}}{\\text{total # words in class } y}\n",
        "$$\n",
        "use\n",
        "$$\n",
        "p(word|y) =\\frac{\\delta+\\#word \\text{ in class y}}{\\delta\\cdot\\text{vocabulary length} + \\text{total # words in class } y}\n",
        "$$\n",
        "\n",
        "##Q3 (8pt) Write the class for Naive Bayes"
      ]
    },
    {
      "cell_type": "code",
      "execution_count": 135,
      "metadata": {
        "id": "oSs5aD6dOX5c"
      },
      "outputs": [],
      "source": [
        "delta = 1.0\n",
        "class BinaryNaiveBayes:\n",
        "#     delta = 1.0  # add this to all word counts to smoothe probabilities\n",
        "\n",
        "    def fit(self, X, y):\n",
        "        \"\"\"\n",
        "        Fit a NaiveBayes classifier for two classes\n",
        "        :param X: [batch_size, vocab_size] of bag-of-words features\n",
        "        :param y: [batch_size] of binary targets {0, 1}\n",
        "        \"\"\"\n",
        "        # first, compute marginal probabilities of every class, p(y=c) for c = 0,1\n",
        "        self.p_y = np.array([np.sum(y == 0) / len(y), np.sum(y == 1) / len(y)])\n",
        "\n",
        "\n",
        "        # count occurences of each word in texts with label 1 and label 0 separately\n",
        "        word_counts_positive = np.sum(X[y == 1], axis = 0)\n",
        "        word_counts_negative = np.sum(X[y == 0], axis = 0)\n",
        "        # ^-- both must be vectors of shape [vocab_size].\n",
        "\n",
        "        # finally, lets use those counts to estimate p(x | y = c) for c = 0, 1\n",
        "\n",
        "        self.p_x_given_positive = (delta + word_counts_positive) / np.sum(delta + word_counts_positive)\n",
        "        self.p_x_given_negative = (delta + word_counts_negative) / np.sum(delta + word_counts_negative)\n",
        "        # both must be of shape [vocab_size]; and don't forget to add self.delta!\n",
        "\n",
        "        return self\n",
        "\n",
        "    def predict_scores(self, X):\n",
        "        \"\"\"\n",
        "        :param X: [batch_size, vocab_size] of bag-of-words features\n",
        "        :returns: a matrix of scores [batch_size, k] of scores for k-th class\n",
        "        \"\"\"\n",
        "        # compute scores for positive and negative classes separately.\n",
        "        # these scores should be proportional to log-probabilities of the respective target {0, 1}\n",
        "\n",
        "        score_negative = X.dot(np.log(self.p_x_given_negative)) + np.log(self.p_y[0])\n",
        "        score_positive = X.dot(np.log(self.p_x_given_positive)) + np.log(self.p_y[1])\n",
        "        return np.stack([score_negative, score_positive], axis=-1)\n",
        "\n",
        "    def predict(self, X):\n",
        "        return self.predict_scores(X).argmax(axis=-1)"
      ]
    },
    {
      "cell_type": "code",
      "execution_count": 136,
      "metadata": {
        "id": "-dz355hHOX5d"
      },
      "outputs": [],
      "source": [
        "naive_model = BinaryNaiveBayes().fit(X_train_bow, y_train)"
      ]
    },
    {
      "cell_type": "code",
      "execution_count": 137,
      "metadata": {
        "id": "LQYFHmNwOX5d"
      },
      "outputs": [],
      "source": [
        "assert naive_model.p_y.shape == (2,) and naive_model.p_y.sum() == 1 and naive_model.p_y[0] > naive_model.p_y[1]\n",
        "assert naive_model.p_x_given_positive.shape == naive_model.p_x_given_negative.shape == X_train_bow.shape[1:]\n",
        "assert np.allclose(naive_model.p_x_given_positive.sum(), 1.0)\n",
        "assert np.allclose(naive_model.p_x_given_negative.sum(), 1.0)\n",
        "assert naive_model.p_x_given_negative.min() > 0, \"did you forget to add delta?\""
      ]
    },
    {
      "cell_type": "code",
      "execution_count": 138,
      "metadata": {
        "colab": {
          "base_uri": "https://localhost:8080/",
          "height": 465
        },
        "id": "gRkHz48qOX5e",
        "outputId": "68902373-0353-4edd-f872-2454022fcb1e"
      },
      "outputs": [
        {
          "name": "stdout",
          "output_type": "stream",
          "text": [
            "Model accuracy: 0.971\n",
            "Well done!\n"
          ]
        },
        {
          "data": {
            "image/png": "[encoded data removed]",
            "text/plain": [
              "<Figure size 640x480 with 1 Axes>"
            ]
          },
          "metadata": {},
          "output_type": "display_data"
        }
      ],
      "source": [
        "from sklearn.metrics import roc_auc_score, roc_curve\n",
        "\n",
        "for name, X, y, model in [\n",
        "    ('train', X_train_bow, y_train, naive_model),\n",
        "    ('test ', X_test_bow, y_test, naive_model)\n",
        "]:\n",
        "    proba = model.predict_scores(X)[:, 1] - model.predict_scores(X)[:, 0]\n",
        "    auc = roc_auc_score(y, proba)\n",
        "    plt.plot(*roc_curve(y, proba)[:2], label='%s AUC=%.4f' % (name, auc))\n",
        "\n",
        "plt.plot([0, 1], [0, 1], '--', color='black',)\n",
        "plt.legend(fontsize='large')\n",
        "plt.grid()\n",
        "\n",
        "test_accuracy = np.mean(naive_model.predict(X_test_bow) == y_test)\n",
        "print(f\"Model accuracy: {test_accuracy:.3f}\")\n",
        "assert test_accuracy > 0.75, \"Accuracy too low. There's likely a mistake in the code.\"\n",
        "print(\"Well done!\")"
      ]
    },
    {
      "cell_type": "markdown",
      "metadata": {
        "id": "e2a_6Rd2OX5e"
      },
      "source": [
        "Okay, it definitely learned *something*. Now let's figure out what exactly it learned. The simplest way to do that is by highlighting which words have a greatest ratio of positive to negative probability or vice versa. (The log of that fraction is called *logit.*) Here are top-25 words that have the __highest__ ratio of ${p(x_i | y=0)} \\over {p(x_i | y=1)}$."
      ]
    },
    {
      "cell_type": "code",
      "execution_count": 139,
      "metadata": {
        "id": "mkD2jbV-OX5f"
      },
      "outputs": [],
      "source": [
        "bow_vocabulary = vec.get_feature_names_out()"
      ]
    },
    {
      "cell_type": "code",
      "execution_count": 140,
      "metadata": {
        "colab": {
          "base_uri": "https://localhost:8080/"
        },
        "id": "H0vbJPnBOX5g",
        "outputId": "33aabcdd-a894-4d3d-c07b-cb6cf009064d"
      },
      "outputs": [
        {
          "name": "stdout",
          "output_type": "stream",
          "text": [
            "#0\t      nbsp\t(ratio=0.0018332767128025555)\n",
            "#1\t     pills\t(ratio=0.0027203460899650825)\n",
            "#2\t      2004\t(ratio=0.0029664075453388087)\n",
            "#3\t      font\t(ratio=0.0035348209672001365)\n",
            "#4\t computron\t(ratio=0.003988615550827182)\n",
            "#5\t        br\t(ratio=0.00454088539632633)\n",
            "#6\t    viagra\t(ratio=0.005676106745407913)\n",
            "#7\t        xp\t(ratio=0.005676106745407913)\n",
            "#8\t    cialis\t(ratio=0.006785231051981872)\n",
            "#9\t        td\t(ratio=0.006944883547322622)\n",
            "#10\t      soft\t(ratio=0.0074723430572458584)\n",
            "#11\t    moopid\t(ratio=0.007977231101654363)\n",
            "#12\t   hotlist\t(ratio=0.007977231101654363)\n",
            "#13\t     width\t(ratio=0.008555291326411927)\n",
            "#14\t      meds\t(ratio=0.008681104434153278)\n",
            "#15\t      href\t(ratio=0.008810673157051089)\n",
            "#16\t       pro\t(ratio=0.008944168204885196)\n",
            "#17\t        mx\t(ratio=0.00908177079265266)\n",
            "#18\t  paliourg\t(ratio=0.009370080976546395)\n",
            "#19\t      pain\t(ratio=0.01017784657797281)\n",
            "#20\t        oo\t(ratio=0.010356405289867069)\n",
            "#21\t photoshop\t(ratio=0.010541341098614695)\n",
            "#22\t     drugs\t(ratio=0.010541341098614695)\n",
            "#23\t     adobe\t(ratio=0.010541341098614695)\n",
            "#24\t      spam\t(ratio=0.011138020783441942)\n"
          ]
        }
      ],
      "source": [
        "probability_ratio = 1/(naive_model.p_x_given_positive/naive_model.p_x_given_negative)\n",
        "top_negative_words = bow_vocabulary[np.argsort(probability_ratio)[:25]]\n",
        "assert len(top_negative_words) == 25 and [isinstance(w, str) for w in top_negative_words]\n",
        "\n",
        "for i, word in enumerate(top_negative_words):\n",
        "    print(f\"#{i}\\t{word.rjust(10, ' ')}\\t(ratio={probability_ratio[list(bow_vocabulary).index(word)]})\")"
      ]
    },
    {
      "cell_type": "code",
      "execution_count": 141,
      "metadata": {
        "id": "qcdqpbDe4Z-G"
      },
      "outputs": [],
      "source": [
        "from sklearn.metrics import ConfusionMatrixDisplay"
      ]
    },
    {
      "cell_type": "code",
      "execution_count": 142,
      "metadata": {
        "colab": {
          "base_uri": "https://localhost:8080/",
          "height": 466
        },
        "id": "inqeD8UG4Z-I",
        "outputId": "19f565d8-7021-4eb8-e4a7-2596dd6bb615"
      },
      "outputs": [
        {
          "data": {
            "text/plain": [
              "<sklearn.metrics._plot.confusion_matrix.ConfusionMatrixDisplay at 0x781aa257abf0>"
            ]
          },
          "execution_count": 142,
          "metadata": {},
          "output_type": "execute_result"
        },
        {
          "data": {
            "image/png": "[encoded data removed]",
            "text/plain": [
              "<Figure size 640x480 with 2 Axes>"
            ]
          },
          "metadata": {},
          "output_type": "display_data"
        }
      ],
      "source": [
        "ConfusionMatrixDisplay.from_predictions(y_test, naive_model.predict(X_test_bow))"
      ]
    },
    {
      "cell_type": "markdown",
      "metadata": {
        "id": "Z9QcXQjB3_5C"
      },
      "source": [
        "Now, let's do it with the built-in function and compare results"
      ]
    },
    {
      "cell_type": "code",
      "execution_count": 143,
      "metadata": {
        "id": "NLl9t66lP6L8"
      },
      "outputs": [],
      "source": [
        "from sklearn.naive_bayes import MultinomialNB"
      ]
    },
    {
      "cell_type": "code",
      "execution_count": 144,
      "metadata": {
        "id": "MeeD-XjpQIz-"
      },
      "outputs": [],
      "source": [
        "# Create Naive Bayes model and fit it to training data\n",
        "model = MultinomialNB().fit(X_train_bow, y_train)"
      ]
    },
    {
      "cell_type": "code",
      "execution_count": 145,
      "metadata": {
        "colab": {
          "base_uri": "https://localhost:8080/"
        },
        "id": "N29FnF9SQR92",
        "outputId": "2e0094c5-81a6-4093-f74d-05cf6af2667b"
      },
      "outputs": [
        {
          "data": {
            "text/plain": [
              "0.9709976798143851"
            ]
          },
          "execution_count": 145,
          "metadata": {},
          "output_type": "execute_result"
        }
      ],
      "source": [
        "np.mean(y_test==model.predict(X_test_bow))"
      ]
    },
    {
      "cell_type": "markdown",
      "metadata": {
        "id": "b1uQ9TmVOX5g"
      },
      "source": [
        "Now lets try something less prehistoric: __Logistic Regression__. It turns out, if you're using silicon instead of an abacus, you can find model weights by optimizing the log-probability of the answer. Though, of course, you don't even need to write it by hand anymore. Let's sklearn it!\n",
        "\n",
        "You can play with parameter $C=$ in LogisticRegression, it plays similar role as in SVM allowing slightly negative margins."
      ]
    },
    {
      "cell_type": "code",
      "execution_count": 146,
      "metadata": {
        "id": "hlo_pfNGOX5h"
      },
      "outputs": [],
      "source": [
        "from sklearn.linear_model import LogisticRegression\n",
        "# Create Logistic Regression model and fit it to training data\n",
        "# C = 1.5 because it has the best model accuracy out of multiple values tested (0.1, 0.2, 1.5, 5, 10.0, 15.0)\n",
        "# C does not seem to influence accuracy of the model much, as accuracy stays around 96% for most values\n",
        "bow_model = LogisticRegression(C = 0.2).fit(X_train_bow, y_train) # C = 0.2 is best out of all C values tested"
      ]
    },
    {
      "cell_type": "code",
      "execution_count": 147,
      "metadata": {
        "colab": {
          "base_uri": "https://localhost:8080/",
          "height": 465
        },
        "id": "b6qzyNS-OX5h",
        "outputId": "7715c76b-985b-42d1-d38d-613e0f5cf270"
      },
      "outputs": [
        {
          "name": "stdout",
          "output_type": "stream",
          "text": [
            "Model accuracy: 0.971\n",
            "Well done!\n"
          ]
        },
        {
          "data": {
            "image/png": "[encoded data removed]",
            "text/plain": [
              "<Figure size 640x480 with 1 Axes>"
            ]
          },
          "metadata": {},
          "output_type": "display_data"
        }
      ],
      "source": [
        "from sklearn.metrics import roc_auc_score, roc_curve\n",
        "\n",
        "for name, X, y, model in [\n",
        "    ('train', X_train_bow, y_train, bow_model),\n",
        "    ('test ', X_test_bow, y_test, bow_model)\n",
        "]:\n",
        "    proba = model.predict_proba(X)[:, 1]\n",
        "    auc = roc_auc_score(y, proba)\n",
        "    plt.plot(*roc_curve(y, proba)[:2], label='%s AUC=%.4f' % (name, auc))\n",
        "\n",
        "plt.plot([0, 1], [0, 1], '--', color='black',)\n",
        "plt.legend(fontsize='large')\n",
        "plt.grid()\n",
        "\n",
        "test_accuracy = np.mean(bow_model.predict(X_test_bow) == y_test)\n",
        "print(f\"Model accuracy: {test_accuracy:.3f}\")\n",
        "assert test_accuracy > 0.77, \"Hint: tune the parameter C to improve performance\"\n",
        "print(\"Well done!\")"
      ]
    },
    {
      "cell_type": "code",
      "execution_count": 148,
      "metadata": {
        "colab": {
          "base_uri": "https://localhost:8080/",
          "height": 469
        },
        "id": "2UXDOAGPswD0",
        "outputId": "ce824ab7-22f1-4212-f29b-0d4cabe560dc"
      },
      "outputs": [
        {
          "data": {
            "text/plain": [
              "<sklearn.metrics._plot.confusion_matrix.ConfusionMatrixDisplay at 0x781a5f7cad70>"
            ]
          },
          "execution_count": 148,
          "metadata": {},
          "output_type": "execute_result"
        },
        {
          "data": {
            "image/png": "[encoded data removed]",
            "text/plain": [
              "<Figure size 640x480 with 2 Axes>"
            ]
          },
          "metadata": {},
          "output_type": "display_data"
        }
      ],
      "source": [
        "ConfusionMatrixDisplay.from_predictions(y_test, bow_model.predict(X_test_bow))"
      ]
    },
    {
      "cell_type": "markdown",
      "metadata": {
        "id": "7cEgJnO6QPKc"
      },
      "source": [
        "Finally, you can play with threshold to reduce the False Positive predictions, as you did in HW5. But let's better think about\n",
        "\n",
        "##Q4 (1pt) How to update the Naive Bayes model after getting a new spam classification from a user?"
      ]
    },
    {
      "cell_type": "markdown",
      "metadata": {
        "id": "Rke_2vGYqy60"
      },
      "source": [
        "In Naive Bayes model, we need to update conditional probabilities p(x(i) | y) and p(y). To update the entire model after getting a new spam classification from a user, we can do the following:\n",
        "1. Extract the features for new spam classification\n",
        "  - Combine it with the existing data\n",
        "2. Recompute model paramaters\n",
        " - Calculate counts for each word\n",
        " - Calculate conditional probabilities for each word\n",
        "5. Retrain the model using the recomputed parameters\n",
        "\n",
        "These are the steps to update and retrain an entire Naive Bayes model for each new spam classification from a user.\n",
        "\n",
        "Another way to update the Naive Bayes model is to do so without retraining the model by incrementally updating the model. One updates the parameters inside the model using the features from the new spam classification. One does so by adjusting the probabilities of word occurrences for every feature in each class based on the new spam classification.\n",
        "  - Update counts for each word\n",
        "  - Update conditional probabilities based on new classification\n",
        "\n",
        "This is called online learning (it adapts to incoming stream of data). It is faster, less intensive, and can adapt real-time.\n",
        "\n",
        "Ultimately, these are two ways of updating Naive Bayes model after getting a new spam classification from a user.\n",
        "\n",
        "\n",
        "Source:\n",
        "* Online learning | Bayes Server. (n.d.). https://www.bayesserver.com/docs/learning/online-learning/\n",
        "\n"
      ]
    }
  ],
  "metadata": {
    "colab": {
      "provenance": []
    },
    "kernelspec": {
      "display_name": "Python 3 (ipykernel)",
      "language": "python",
      "name": "python3"
    },
    "language_info": {
      "codemirror_mode": {
        "name": "ipython",
        "version": 3
      },
      "file_extension": ".py",
      "mimetype": "text/x-python",
      "name": "python",
      "nbconvert_exporter": "python",
      "pygments_lexer": "ipython3",
      "version": "3.10.10"
    }
  },
  "nbformat": 4,
  "nbformat_minor": 0
}
